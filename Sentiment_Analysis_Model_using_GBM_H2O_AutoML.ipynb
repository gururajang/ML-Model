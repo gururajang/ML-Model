{
  "nbformat": 4,
  "nbformat_minor": 0,
  "metadata": {
    "colab": {
      "name": "Sentiment Analysis Model using GBM/H2O_AutoML",
      "provenance": []
    },
    "kernelspec": {
      "name": "python3",
      "display_name": "Python 3"
    },
    "widgets": {
      "application/vnd.jupyter.widget-state+json": {
        "1f4fee7e90444b1eb81254555554e6da": {
          "model_module": "@jupyter-widgets/controls",
          "model_name": "HBoxModel",
          "state": {
            "_view_name": "HBoxView",
            "_dom_classes": [],
            "_model_name": "HBoxModel",
            "_view_module": "@jupyter-widgets/controls",
            "_model_module_version": "1.5.0",
            "_view_count": null,
            "_view_module_version": "1.5.0",
            "box_style": "",
            "layout": "IPY_MODEL_afdfa366074448ce87314434c6fbaac2",
            "_model_module": "@jupyter-widgets/controls",
            "children": [
              "IPY_MODEL_fc005248b1e848c7a19d22d3ee06774c",
              "IPY_MODEL_840d4d03f34143eca1d31cee1257584a"
            ]
          }
        },
        "afdfa366074448ce87314434c6fbaac2": {
          "model_module": "@jupyter-widgets/base",
          "model_name": "LayoutModel",
          "state": {
            "_view_name": "LayoutView",
            "grid_template_rows": null,
            "right": null,
            "justify_content": null,
            "_view_module": "@jupyter-widgets/base",
            "overflow": null,
            "_model_module_version": "1.2.0",
            "_view_count": null,
            "flex_flow": null,
            "width": null,
            "min_width": null,
            "border": null,
            "align_items": null,
            "bottom": null,
            "_model_module": "@jupyter-widgets/base",
            "top": null,
            "grid_column": null,
            "overflow_y": null,
            "overflow_x": null,
            "grid_auto_flow": null,
            "grid_area": null,
            "grid_template_columns": null,
            "flex": null,
            "_model_name": "LayoutModel",
            "justify_items": null,
            "grid_row": null,
            "max_height": null,
            "align_content": null,
            "visibility": null,
            "align_self": null,
            "height": null,
            "min_height": null,
            "padding": null,
            "grid_auto_rows": null,
            "grid_gap": null,
            "max_width": null,
            "order": null,
            "_view_module_version": "1.2.0",
            "grid_template_areas": null,
            "object_position": null,
            "object_fit": null,
            "grid_auto_columns": null,
            "margin": null,
            "display": null,
            "left": null
          }
        },
        "fc005248b1e848c7a19d22d3ee06774c": {
          "model_module": "@jupyter-widgets/controls",
          "model_name": "IntProgressModel",
          "state": {
            "_view_name": "ProgressView",
            "style": "IPY_MODEL_1cf3bcb6362c4981a13dc179145bbba7",
            "_dom_classes": [],
            "description": "Dl Completed...: 100%",
            "_model_name": "IntProgressModel",
            "bar_style": "success",
            "max": 1,
            "_view_module": "@jupyter-widgets/controls",
            "_model_module_version": "1.5.0",
            "value": 1,
            "_view_count": null,
            "_view_module_version": "1.5.0",
            "orientation": "horizontal",
            "min": 0,
            "description_tooltip": null,
            "_model_module": "@jupyter-widgets/controls",
            "layout": "IPY_MODEL_0590eee42b28492080d2c87e7ca8a3e0"
          }
        },
        "840d4d03f34143eca1d31cee1257584a": {
          "model_module": "@jupyter-widgets/controls",
          "model_name": "HTMLModel",
          "state": {
            "_view_name": "HTMLView",
            "style": "IPY_MODEL_1f14dffd12694a01a29293a3203899cb",
            "_dom_classes": [],
            "description": "",
            "_model_name": "HTMLModel",
            "placeholder": "​",
            "_view_module": "@jupyter-widgets/controls",
            "_model_module_version": "1.5.0",
            "value": " 1/1 [00:01&lt;00:00,  1.14s/ url]",
            "_view_count": null,
            "_view_module_version": "1.5.0",
            "description_tooltip": null,
            "_model_module": "@jupyter-widgets/controls",
            "layout": "IPY_MODEL_ed75b1b26e1346cda5b3a187fde4a7af"
          }
        },
        "1cf3bcb6362c4981a13dc179145bbba7": {
          "model_module": "@jupyter-widgets/controls",
          "model_name": "ProgressStyleModel",
          "state": {
            "_view_name": "StyleView",
            "_model_name": "ProgressStyleModel",
            "description_width": "initial",
            "_view_module": "@jupyter-widgets/base",
            "_model_module_version": "1.5.0",
            "_view_count": null,
            "_view_module_version": "1.2.0",
            "bar_color": null,
            "_model_module": "@jupyter-widgets/controls"
          }
        },
        "0590eee42b28492080d2c87e7ca8a3e0": {
          "model_module": "@jupyter-widgets/base",
          "model_name": "LayoutModel",
          "state": {
            "_view_name": "LayoutView",
            "grid_template_rows": null,
            "right": null,
            "justify_content": null,
            "_view_module": "@jupyter-widgets/base",
            "overflow": null,
            "_model_module_version": "1.2.0",
            "_view_count": null,
            "flex_flow": null,
            "width": null,
            "min_width": null,
            "border": null,
            "align_items": null,
            "bottom": null,
            "_model_module": "@jupyter-widgets/base",
            "top": null,
            "grid_column": null,
            "overflow_y": null,
            "overflow_x": null,
            "grid_auto_flow": null,
            "grid_area": null,
            "grid_template_columns": null,
            "flex": null,
            "_model_name": "LayoutModel",
            "justify_items": null,
            "grid_row": null,
            "max_height": null,
            "align_content": null,
            "visibility": null,
            "align_self": null,
            "height": null,
            "min_height": null,
            "padding": null,
            "grid_auto_rows": null,
            "grid_gap": null,
            "max_width": null,
            "order": null,
            "_view_module_version": "1.2.0",
            "grid_template_areas": null,
            "object_position": null,
            "object_fit": null,
            "grid_auto_columns": null,
            "margin": null,
            "display": null,
            "left": null
          }
        },
        "1f14dffd12694a01a29293a3203899cb": {
          "model_module": "@jupyter-widgets/controls",
          "model_name": "DescriptionStyleModel",
          "state": {
            "_view_name": "StyleView",
            "_model_name": "DescriptionStyleModel",
            "description_width": "",
            "_view_module": "@jupyter-widgets/base",
            "_model_module_version": "1.5.0",
            "_view_count": null,
            "_view_module_version": "1.2.0",
            "_model_module": "@jupyter-widgets/controls"
          }
        },
        "ed75b1b26e1346cda5b3a187fde4a7af": {
          "model_module": "@jupyter-widgets/base",
          "model_name": "LayoutModel",
          "state": {
            "_view_name": "LayoutView",
            "grid_template_rows": null,
            "right": null,
            "justify_content": null,
            "_view_module": "@jupyter-widgets/base",
            "overflow": null,
            "_model_module_version": "1.2.0",
            "_view_count": null,
            "flex_flow": null,
            "width": null,
            "min_width": null,
            "border": null,
            "align_items": null,
            "bottom": null,
            "_model_module": "@jupyter-widgets/base",
            "top": null,
            "grid_column": null,
            "overflow_y": null,
            "overflow_x": null,
            "grid_auto_flow": null,
            "grid_area": null,
            "grid_template_columns": null,
            "flex": null,
            "_model_name": "LayoutModel",
            "justify_items": null,
            "grid_row": null,
            "max_height": null,
            "align_content": null,
            "visibility": null,
            "align_self": null,
            "height": null,
            "min_height": null,
            "padding": null,
            "grid_auto_rows": null,
            "grid_gap": null,
            "max_width": null,
            "order": null,
            "_view_module_version": "1.2.0",
            "grid_template_areas": null,
            "object_position": null,
            "object_fit": null,
            "grid_auto_columns": null,
            "margin": null,
            "display": null,
            "left": null
          }
        },
        "95187ffe2d5d48d5af1a0fb241dc9036": {
          "model_module": "@jupyter-widgets/controls",
          "model_name": "HBoxModel",
          "state": {
            "_view_name": "HBoxView",
            "_dom_classes": [],
            "_model_name": "HBoxModel",
            "_view_module": "@jupyter-widgets/controls",
            "_model_module_version": "1.5.0",
            "_view_count": null,
            "_view_module_version": "1.5.0",
            "box_style": "",
            "layout": "IPY_MODEL_7771b700e2fb438fb45dcf132d7bada6",
            "_model_module": "@jupyter-widgets/controls",
            "children": [
              "IPY_MODEL_833e241477b441358826b2530a4c4795",
              "IPY_MODEL_f2bd3cf1eab448109c67603dbc450c22"
            ]
          }
        },
        "7771b700e2fb438fb45dcf132d7bada6": {
          "model_module": "@jupyter-widgets/base",
          "model_name": "LayoutModel",
          "state": {
            "_view_name": "LayoutView",
            "grid_template_rows": null,
            "right": null,
            "justify_content": null,
            "_view_module": "@jupyter-widgets/base",
            "overflow": null,
            "_model_module_version": "1.2.0",
            "_view_count": null,
            "flex_flow": null,
            "width": null,
            "min_width": null,
            "border": null,
            "align_items": null,
            "bottom": null,
            "_model_module": "@jupyter-widgets/base",
            "top": null,
            "grid_column": null,
            "overflow_y": null,
            "overflow_x": null,
            "grid_auto_flow": null,
            "grid_area": null,
            "grid_template_columns": null,
            "flex": null,
            "_model_name": "LayoutModel",
            "justify_items": null,
            "grid_row": null,
            "max_height": null,
            "align_content": null,
            "visibility": null,
            "align_self": null,
            "height": null,
            "min_height": null,
            "padding": null,
            "grid_auto_rows": null,
            "grid_gap": null,
            "max_width": null,
            "order": null,
            "_view_module_version": "1.2.0",
            "grid_template_areas": null,
            "object_position": null,
            "object_fit": null,
            "grid_auto_columns": null,
            "margin": null,
            "display": null,
            "left": null
          }
        },
        "833e241477b441358826b2530a4c4795": {
          "model_module": "@jupyter-widgets/controls",
          "model_name": "IntProgressModel",
          "state": {
            "_view_name": "ProgressView",
            "style": "IPY_MODEL_07c48cd690304bfb98c63b0cefebc4ad",
            "_dom_classes": [],
            "description": "Dl Size...: 100%",
            "_model_name": "IntProgressModel",
            "bar_style": "success",
            "max": 1,
            "_view_module": "@jupyter-widgets/controls",
            "_model_module_version": "1.5.0",
            "value": 1,
            "_view_count": null,
            "_view_module_version": "1.5.0",
            "orientation": "horizontal",
            "min": 0,
            "description_tooltip": null,
            "_model_module": "@jupyter-widgets/controls",
            "layout": "IPY_MODEL_b2122df66be349bba484c6299877f772"
          }
        },
        "f2bd3cf1eab448109c67603dbc450c22": {
          "model_module": "@jupyter-widgets/controls",
          "model_name": "HTMLModel",
          "state": {
            "_view_name": "HTMLView",
            "style": "IPY_MODEL_3837a69442bf4bb3be6cc30b3b43234d",
            "_dom_classes": [],
            "description": "",
            "_model_name": "HTMLModel",
            "placeholder": "​",
            "_view_module": "@jupyter-widgets/controls",
            "_model_module_version": "1.5.0",
            "value": " 16/16 [00:01&lt;00:00, 14.44 MiB/s]",
            "_view_count": null,
            "_view_module_version": "1.5.0",
            "description_tooltip": null,
            "_model_module": "@jupyter-widgets/controls",
            "layout": "IPY_MODEL_fd4c1e1abd4e41bf99d0c82ff0dab4c2"
          }
        },
        "07c48cd690304bfb98c63b0cefebc4ad": {
          "model_module": "@jupyter-widgets/controls",
          "model_name": "ProgressStyleModel",
          "state": {
            "_view_name": "StyleView",
            "_model_name": "ProgressStyleModel",
            "description_width": "initial",
            "_view_module": "@jupyter-widgets/base",
            "_model_module_version": "1.5.0",
            "_view_count": null,
            "_view_module_version": "1.2.0",
            "bar_color": null,
            "_model_module": "@jupyter-widgets/controls"
          }
        },
        "b2122df66be349bba484c6299877f772": {
          "model_module": "@jupyter-widgets/base",
          "model_name": "LayoutModel",
          "state": {
            "_view_name": "LayoutView",
            "grid_template_rows": null,
            "right": null,
            "justify_content": null,
            "_view_module": "@jupyter-widgets/base",
            "overflow": null,
            "_model_module_version": "1.2.0",
            "_view_count": null,
            "flex_flow": null,
            "width": null,
            "min_width": null,
            "border": null,
            "align_items": null,
            "bottom": null,
            "_model_module": "@jupyter-widgets/base",
            "top": null,
            "grid_column": null,
            "overflow_y": null,
            "overflow_x": null,
            "grid_auto_flow": null,
            "grid_area": null,
            "grid_template_columns": null,
            "flex": null,
            "_model_name": "LayoutModel",
            "justify_items": null,
            "grid_row": null,
            "max_height": null,
            "align_content": null,
            "visibility": null,
            "align_self": null,
            "height": null,
            "min_height": null,
            "padding": null,
            "grid_auto_rows": null,
            "grid_gap": null,
            "max_width": null,
            "order": null,
            "_view_module_version": "1.2.0",
            "grid_template_areas": null,
            "object_position": null,
            "object_fit": null,
            "grid_auto_columns": null,
            "margin": null,
            "display": null,
            "left": null
          }
        },
        "3837a69442bf4bb3be6cc30b3b43234d": {
          "model_module": "@jupyter-widgets/controls",
          "model_name": "DescriptionStyleModel",
          "state": {
            "_view_name": "StyleView",
            "_model_name": "DescriptionStyleModel",
            "description_width": "",
            "_view_module": "@jupyter-widgets/base",
            "_model_module_version": "1.5.0",
            "_view_count": null,
            "_view_module_version": "1.2.0",
            "_model_module": "@jupyter-widgets/controls"
          }
        },
        "fd4c1e1abd4e41bf99d0c82ff0dab4c2": {
          "model_module": "@jupyter-widgets/base",
          "model_name": "LayoutModel",
          "state": {
            "_view_name": "LayoutView",
            "grid_template_rows": null,
            "right": null,
            "justify_content": null,
            "_view_module": "@jupyter-widgets/base",
            "overflow": null,
            "_model_module_version": "1.2.0",
            "_view_count": null,
            "flex_flow": null,
            "width": null,
            "min_width": null,
            "border": null,
            "align_items": null,
            "bottom": null,
            "_model_module": "@jupyter-widgets/base",
            "top": null,
            "grid_column": null,
            "overflow_y": null,
            "overflow_x": null,
            "grid_auto_flow": null,
            "grid_area": null,
            "grid_template_columns": null,
            "flex": null,
            "_model_name": "LayoutModel",
            "justify_items": null,
            "grid_row": null,
            "max_height": null,
            "align_content": null,
            "visibility": null,
            "align_self": null,
            "height": null,
            "min_height": null,
            "padding": null,
            "grid_auto_rows": null,
            "grid_gap": null,
            "max_width": null,
            "order": null,
            "_view_module_version": "1.2.0",
            "grid_template_areas": null,
            "object_position": null,
            "object_fit": null,
            "grid_auto_columns": null,
            "margin": null,
            "display": null,
            "left": null
          }
        },
        "e4b5d880b7484be190ffeea0e222cbb8": {
          "model_module": "@jupyter-widgets/controls",
          "model_name": "HBoxModel",
          "state": {
            "_view_name": "HBoxView",
            "_dom_classes": [],
            "_model_name": "HBoxModel",
            "_view_module": "@jupyter-widgets/controls",
            "_model_module_version": "1.5.0",
            "_view_count": null,
            "_view_module_version": "1.5.0",
            "box_style": "",
            "layout": "IPY_MODEL_1e2bbea675d24b7492b1608cddc3f58e",
            "_model_module": "@jupyter-widgets/controls",
            "children": [
              "IPY_MODEL_67d6ea9a12744fe4b754bdf3cc8432f0",
              "IPY_MODEL_f05f624693714a54bd185980dbb47b8c"
            ]
          }
        },
        "1e2bbea675d24b7492b1608cddc3f58e": {
          "model_module": "@jupyter-widgets/base",
          "model_name": "LayoutModel",
          "state": {
            "_view_name": "LayoutView",
            "grid_template_rows": null,
            "right": null,
            "justify_content": null,
            "_view_module": "@jupyter-widgets/base",
            "overflow": null,
            "_model_module_version": "1.2.0",
            "_view_count": null,
            "flex_flow": null,
            "width": null,
            "min_width": null,
            "border": null,
            "align_items": null,
            "bottom": null,
            "_model_module": "@jupyter-widgets/base",
            "top": null,
            "grid_column": null,
            "overflow_y": null,
            "overflow_x": null,
            "grid_auto_flow": null,
            "grid_area": null,
            "grid_template_columns": null,
            "flex": null,
            "_model_name": "LayoutModel",
            "justify_items": null,
            "grid_row": null,
            "max_height": null,
            "align_content": null,
            "visibility": null,
            "align_self": null,
            "height": null,
            "min_height": null,
            "padding": null,
            "grid_auto_rows": null,
            "grid_gap": null,
            "max_width": null,
            "order": null,
            "_view_module_version": "1.2.0",
            "grid_template_areas": null,
            "object_position": null,
            "object_fit": null,
            "grid_auto_columns": null,
            "margin": null,
            "display": null,
            "left": null
          }
        },
        "67d6ea9a12744fe4b754bdf3cc8432f0": {
          "model_module": "@jupyter-widgets/controls",
          "model_name": "IntProgressModel",
          "state": {
            "_view_name": "ProgressView",
            "style": "IPY_MODEL_711f8ae1f3564160860433d8a8caab03",
            "_dom_classes": [],
            "description": "Extraction completed...: 100%",
            "_model_name": "IntProgressModel",
            "bar_style": "success",
            "max": 1,
            "_view_module": "@jupyter-widgets/controls",
            "_model_module_version": "1.5.0",
            "value": 1,
            "_view_count": null,
            "_view_module_version": "1.5.0",
            "orientation": "horizontal",
            "min": 0,
            "description_tooltip": null,
            "_model_module": "@jupyter-widgets/controls",
            "layout": "IPY_MODEL_4a7d45527df04efab456f07cb9928b00"
          }
        },
        "f05f624693714a54bd185980dbb47b8c": {
          "model_module": "@jupyter-widgets/controls",
          "model_name": "HTMLModel",
          "state": {
            "_view_name": "HTMLView",
            "style": "IPY_MODEL_f34fa1abc22a4b97b1ad8a4365e4a6c7",
            "_dom_classes": [],
            "description": "",
            "_model_name": "HTMLModel",
            "placeholder": "​",
            "_view_module": "@jupyter-widgets/controls",
            "_model_module_version": "1.5.0",
            "value": " 1/1 [00:01&lt;00:00,  1.07s/ file]",
            "_view_count": null,
            "_view_module_version": "1.5.0",
            "description_tooltip": null,
            "_model_module": "@jupyter-widgets/controls",
            "layout": "IPY_MODEL_24fda03af48749e1a2fdaba5095456fd"
          }
        },
        "711f8ae1f3564160860433d8a8caab03": {
          "model_module": "@jupyter-widgets/controls",
          "model_name": "ProgressStyleModel",
          "state": {
            "_view_name": "StyleView",
            "_model_name": "ProgressStyleModel",
            "description_width": "initial",
            "_view_module": "@jupyter-widgets/base",
            "_model_module_version": "1.5.0",
            "_view_count": null,
            "_view_module_version": "1.2.0",
            "bar_color": null,
            "_model_module": "@jupyter-widgets/controls"
          }
        },
        "4a7d45527df04efab456f07cb9928b00": {
          "model_module": "@jupyter-widgets/base",
          "model_name": "LayoutModel",
          "state": {
            "_view_name": "LayoutView",
            "grid_template_rows": null,
            "right": null,
            "justify_content": null,
            "_view_module": "@jupyter-widgets/base",
            "overflow": null,
            "_model_module_version": "1.2.0",
            "_view_count": null,
            "flex_flow": null,
            "width": null,
            "min_width": null,
            "border": null,
            "align_items": null,
            "bottom": null,
            "_model_module": "@jupyter-widgets/base",
            "top": null,
            "grid_column": null,
            "overflow_y": null,
            "overflow_x": null,
            "grid_auto_flow": null,
            "grid_area": null,
            "grid_template_columns": null,
            "flex": null,
            "_model_name": "LayoutModel",
            "justify_items": null,
            "grid_row": null,
            "max_height": null,
            "align_content": null,
            "visibility": null,
            "align_self": null,
            "height": null,
            "min_height": null,
            "padding": null,
            "grid_auto_rows": null,
            "grid_gap": null,
            "max_width": null,
            "order": null,
            "_view_module_version": "1.2.0",
            "grid_template_areas": null,
            "object_position": null,
            "object_fit": null,
            "grid_auto_columns": null,
            "margin": null,
            "display": null,
            "left": null
          }
        },
        "f34fa1abc22a4b97b1ad8a4365e4a6c7": {
          "model_module": "@jupyter-widgets/controls",
          "model_name": "DescriptionStyleModel",
          "state": {
            "_view_name": "StyleView",
            "_model_name": "DescriptionStyleModel",
            "description_width": "",
            "_view_module": "@jupyter-widgets/base",
            "_model_module_version": "1.5.0",
            "_view_count": null,
            "_view_module_version": "1.2.0",
            "_model_module": "@jupyter-widgets/controls"
          }
        },
        "24fda03af48749e1a2fdaba5095456fd": {
          "model_module": "@jupyter-widgets/base",
          "model_name": "LayoutModel",
          "state": {
            "_view_name": "LayoutView",
            "grid_template_rows": null,
            "right": null,
            "justify_content": null,
            "_view_module": "@jupyter-widgets/base",
            "overflow": null,
            "_model_module_version": "1.2.0",
            "_view_count": null,
            "flex_flow": null,
            "width": null,
            "min_width": null,
            "border": null,
            "align_items": null,
            "bottom": null,
            "_model_module": "@jupyter-widgets/base",
            "top": null,
            "grid_column": null,
            "overflow_y": null,
            "overflow_x": null,
            "grid_auto_flow": null,
            "grid_area": null,
            "grid_template_columns": null,
            "flex": null,
            "_model_name": "LayoutModel",
            "justify_items": null,
            "grid_row": null,
            "max_height": null,
            "align_content": null,
            "visibility": null,
            "align_self": null,
            "height": null,
            "min_height": null,
            "padding": null,
            "grid_auto_rows": null,
            "grid_gap": null,
            "max_width": null,
            "order": null,
            "_view_module_version": "1.2.0",
            "grid_template_areas": null,
            "object_position": null,
            "object_fit": null,
            "grid_auto_columns": null,
            "margin": null,
            "display": null,
            "left": null
          }
        },
        "eac08bd1baf44f31a7ff4703a2ad72b4": {
          "model_module": "@jupyter-widgets/controls",
          "model_name": "HBoxModel",
          "state": {
            "_view_name": "HBoxView",
            "_dom_classes": [],
            "_model_name": "HBoxModel",
            "_view_module": "@jupyter-widgets/controls",
            "_model_module_version": "1.5.0",
            "_view_count": null,
            "_view_module_version": "1.5.0",
            "box_style": "",
            "layout": "IPY_MODEL_3eb64e82bff24f93b53daf72694d9eba",
            "_model_module": "@jupyter-widgets/controls",
            "children": [
              "IPY_MODEL_c74ba2e2df1c48aba5d7601455b7283b",
              "IPY_MODEL_a7784454dcfa44a5b2b87503079955f6"
            ]
          }
        },
        "3eb64e82bff24f93b53daf72694d9eba": {
          "model_module": "@jupyter-widgets/base",
          "model_name": "LayoutModel",
          "state": {
            "_view_name": "LayoutView",
            "grid_template_rows": null,
            "right": null,
            "justify_content": null,
            "_view_module": "@jupyter-widgets/base",
            "overflow": null,
            "_model_module_version": "1.2.0",
            "_view_count": null,
            "flex_flow": null,
            "width": null,
            "min_width": null,
            "border": null,
            "align_items": null,
            "bottom": null,
            "_model_module": "@jupyter-widgets/base",
            "top": null,
            "grid_column": null,
            "overflow_y": null,
            "overflow_x": null,
            "grid_auto_flow": null,
            "grid_area": null,
            "grid_template_columns": null,
            "flex": null,
            "_model_name": "LayoutModel",
            "justify_items": null,
            "grid_row": null,
            "max_height": null,
            "align_content": null,
            "visibility": null,
            "align_self": null,
            "height": null,
            "min_height": null,
            "padding": null,
            "grid_auto_rows": null,
            "grid_gap": null,
            "max_width": null,
            "order": null,
            "_view_module_version": "1.2.0",
            "grid_template_areas": null,
            "object_position": null,
            "object_fit": null,
            "grid_auto_columns": null,
            "margin": null,
            "display": null,
            "left": null
          }
        },
        "c74ba2e2df1c48aba5d7601455b7283b": {
          "model_module": "@jupyter-widgets/controls",
          "model_name": "IntProgressModel",
          "state": {
            "_view_name": "ProgressView",
            "style": "IPY_MODEL_6ec4996b9d914b2bb499ecd6a784dff6",
            "_dom_classes": [],
            "description": "",
            "_model_name": "IntProgressModel",
            "bar_style": "info",
            "max": 1,
            "_view_module": "@jupyter-widgets/controls",
            "_model_module_version": "1.5.0",
            "value": 1,
            "_view_count": null,
            "_view_module_version": "1.5.0",
            "orientation": "horizontal",
            "min": 0,
            "description_tooltip": null,
            "_model_module": "@jupyter-widgets/controls",
            "layout": "IPY_MODEL_96596d144c4d42a5ab10f14b7509936f"
          }
        },
        "a7784454dcfa44a5b2b87503079955f6": {
          "model_module": "@jupyter-widgets/controls",
          "model_name": "HTMLModel",
          "state": {
            "_view_name": "HTMLView",
            "style": "IPY_MODEL_562a8548881f4ecebdc62704ec78502a",
            "_dom_classes": [],
            "description": "",
            "_model_name": "HTMLModel",
            "placeholder": "​",
            "_view_module": "@jupyter-widgets/controls",
            "_model_module_version": "1.5.0",
            "value": " 85981/0 [01:42&lt;00:00, 868.27 examples/s]",
            "_view_count": null,
            "_view_module_version": "1.5.0",
            "description_tooltip": null,
            "_model_module": "@jupyter-widgets/controls",
            "layout": "IPY_MODEL_95a38fb5b82d4a38a2219547edde964c"
          }
        },
        "6ec4996b9d914b2bb499ecd6a784dff6": {
          "model_module": "@jupyter-widgets/controls",
          "model_name": "ProgressStyleModel",
          "state": {
            "_view_name": "StyleView",
            "_model_name": "ProgressStyleModel",
            "description_width": "initial",
            "_view_module": "@jupyter-widgets/base",
            "_model_module_version": "1.5.0",
            "_view_count": null,
            "_view_module_version": "1.2.0",
            "bar_color": null,
            "_model_module": "@jupyter-widgets/controls"
          }
        },
        "96596d144c4d42a5ab10f14b7509936f": {
          "model_module": "@jupyter-widgets/base",
          "model_name": "LayoutModel",
          "state": {
            "_view_name": "LayoutView",
            "grid_template_rows": null,
            "right": null,
            "justify_content": null,
            "_view_module": "@jupyter-widgets/base",
            "overflow": null,
            "_model_module_version": "1.2.0",
            "_view_count": null,
            "flex_flow": null,
            "width": null,
            "min_width": null,
            "border": null,
            "align_items": null,
            "bottom": null,
            "_model_module": "@jupyter-widgets/base",
            "top": null,
            "grid_column": null,
            "overflow_y": null,
            "overflow_x": null,
            "grid_auto_flow": null,
            "grid_area": null,
            "grid_template_columns": null,
            "flex": null,
            "_model_name": "LayoutModel",
            "justify_items": null,
            "grid_row": null,
            "max_height": null,
            "align_content": null,
            "visibility": null,
            "align_self": null,
            "height": null,
            "min_height": null,
            "padding": null,
            "grid_auto_rows": null,
            "grid_gap": null,
            "max_width": null,
            "order": null,
            "_view_module_version": "1.2.0",
            "grid_template_areas": null,
            "object_position": null,
            "object_fit": null,
            "grid_auto_columns": null,
            "margin": null,
            "display": null,
            "left": null
          }
        },
        "562a8548881f4ecebdc62704ec78502a": {
          "model_module": "@jupyter-widgets/controls",
          "model_name": "DescriptionStyleModel",
          "state": {
            "_view_name": "StyleView",
            "_model_name": "DescriptionStyleModel",
            "description_width": "",
            "_view_module": "@jupyter-widgets/base",
            "_model_module_version": "1.5.0",
            "_view_count": null,
            "_view_module_version": "1.2.0",
            "_model_module": "@jupyter-widgets/controls"
          }
        },
        "95a38fb5b82d4a38a2219547edde964c": {
          "model_module": "@jupyter-widgets/base",
          "model_name": "LayoutModel",
          "state": {
            "_view_name": "LayoutView",
            "grid_template_rows": null,
            "right": null,
            "justify_content": null,
            "_view_module": "@jupyter-widgets/base",
            "overflow": null,
            "_model_module_version": "1.2.0",
            "_view_count": null,
            "flex_flow": null,
            "width": null,
            "min_width": null,
            "border": null,
            "align_items": null,
            "bottom": null,
            "_model_module": "@jupyter-widgets/base",
            "top": null,
            "grid_column": null,
            "overflow_y": null,
            "overflow_x": null,
            "grid_auto_flow": null,
            "grid_area": null,
            "grid_template_columns": null,
            "flex": null,
            "_model_name": "LayoutModel",
            "justify_items": null,
            "grid_row": null,
            "max_height": null,
            "align_content": null,
            "visibility": null,
            "align_self": null,
            "height": null,
            "min_height": null,
            "padding": null,
            "grid_auto_rows": null,
            "grid_gap": null,
            "max_width": null,
            "order": null,
            "_view_module_version": "1.2.0",
            "grid_template_areas": null,
            "object_position": null,
            "object_fit": null,
            "grid_auto_columns": null,
            "margin": null,
            "display": null,
            "left": null
          }
        },
        "a6fe5e4d51944ed0a1a35f14a9c56480": {
          "model_module": "@jupyter-widgets/controls",
          "model_name": "HBoxModel",
          "state": {
            "_view_name": "HBoxView",
            "_dom_classes": [],
            "_model_name": "HBoxModel",
            "_view_module": "@jupyter-widgets/controls",
            "_model_module_version": "1.5.0",
            "_view_count": null,
            "_view_module_version": "1.5.0",
            "box_style": "",
            "layout": "IPY_MODEL_40444e9297da4c1eae40227bba247446",
            "_model_module": "@jupyter-widgets/controls",
            "children": [
              "IPY_MODEL_c0db234b09c14062afcf8a7d435191a2",
              "IPY_MODEL_f63139cb61844d4ca14488d33c38f5fd"
            ]
          }
        },
        "40444e9297da4c1eae40227bba247446": {
          "model_module": "@jupyter-widgets/base",
          "model_name": "LayoutModel",
          "state": {
            "_view_name": "LayoutView",
            "grid_template_rows": null,
            "right": null,
            "justify_content": null,
            "_view_module": "@jupyter-widgets/base",
            "overflow": null,
            "_model_module_version": "1.2.0",
            "_view_count": null,
            "flex_flow": null,
            "width": null,
            "min_width": null,
            "border": null,
            "align_items": null,
            "bottom": null,
            "_model_module": "@jupyter-widgets/base",
            "top": null,
            "grid_column": null,
            "overflow_y": null,
            "overflow_x": null,
            "grid_auto_flow": null,
            "grid_area": null,
            "grid_template_columns": null,
            "flex": null,
            "_model_name": "LayoutModel",
            "justify_items": null,
            "grid_row": null,
            "max_height": null,
            "align_content": null,
            "visibility": null,
            "align_self": null,
            "height": null,
            "min_height": null,
            "padding": null,
            "grid_auto_rows": null,
            "grid_gap": null,
            "max_width": null,
            "order": null,
            "_view_module_version": "1.2.0",
            "grid_template_areas": null,
            "object_position": null,
            "object_fit": null,
            "grid_auto_columns": null,
            "margin": null,
            "display": null,
            "left": null
          }
        },
        "c0db234b09c14062afcf8a7d435191a2": {
          "model_module": "@jupyter-widgets/controls",
          "model_name": "IntProgressModel",
          "state": {
            "_view_name": "ProgressView",
            "style": "IPY_MODEL_aeacf92b23494b4594f018e435f59891",
            "_dom_classes": [],
            "description": " 96%",
            "_model_name": "IntProgressModel",
            "bar_style": "danger",
            "max": 85981,
            "_view_module": "@jupyter-widgets/controls",
            "_model_module_version": "1.5.0",
            "value": 82438,
            "_view_count": null,
            "_view_module_version": "1.5.0",
            "orientation": "horizontal",
            "min": 0,
            "description_tooltip": null,
            "_model_module": "@jupyter-widgets/controls",
            "layout": "IPY_MODEL_f4af0a9c9cc6418d8ca6a47c37c90b0b"
          }
        },
        "f63139cb61844d4ca14488d33c38f5fd": {
          "model_module": "@jupyter-widgets/controls",
          "model_name": "HTMLModel",
          "state": {
            "_view_name": "HTMLView",
            "style": "IPY_MODEL_674be53037014e09857e0d32d69cb4eb",
            "_dom_classes": [],
            "description": "",
            "_model_name": "HTMLModel",
            "placeholder": "​",
            "_view_module": "@jupyter-widgets/controls",
            "_model_module_version": "1.5.0",
            "value": " 82438/85981 [00:00&lt;03:44, 15.78 examples/s]",
            "_view_count": null,
            "_view_module_version": "1.5.0",
            "description_tooltip": null,
            "_model_module": "@jupyter-widgets/controls",
            "layout": "IPY_MODEL_cef7cdd92a6b44caad79243a2278ba9d"
          }
        },
        "aeacf92b23494b4594f018e435f59891": {
          "model_module": "@jupyter-widgets/controls",
          "model_name": "ProgressStyleModel",
          "state": {
            "_view_name": "StyleView",
            "_model_name": "ProgressStyleModel",
            "description_width": "initial",
            "_view_module": "@jupyter-widgets/base",
            "_model_module_version": "1.5.0",
            "_view_count": null,
            "_view_module_version": "1.2.0",
            "bar_color": null,
            "_model_module": "@jupyter-widgets/controls"
          }
        },
        "f4af0a9c9cc6418d8ca6a47c37c90b0b": {
          "model_module": "@jupyter-widgets/base",
          "model_name": "LayoutModel",
          "state": {
            "_view_name": "LayoutView",
            "grid_template_rows": null,
            "right": null,
            "justify_content": null,
            "_view_module": "@jupyter-widgets/base",
            "overflow": null,
            "_model_module_version": "1.2.0",
            "_view_count": null,
            "flex_flow": null,
            "width": null,
            "min_width": null,
            "border": null,
            "align_items": null,
            "bottom": null,
            "_model_module": "@jupyter-widgets/base",
            "top": null,
            "grid_column": null,
            "overflow_y": null,
            "overflow_x": null,
            "grid_auto_flow": null,
            "grid_area": null,
            "grid_template_columns": null,
            "flex": null,
            "_model_name": "LayoutModel",
            "justify_items": null,
            "grid_row": null,
            "max_height": null,
            "align_content": null,
            "visibility": null,
            "align_self": null,
            "height": null,
            "min_height": null,
            "padding": null,
            "grid_auto_rows": null,
            "grid_gap": null,
            "max_width": null,
            "order": null,
            "_view_module_version": "1.2.0",
            "grid_template_areas": null,
            "object_position": null,
            "object_fit": null,
            "grid_auto_columns": null,
            "margin": null,
            "display": null,
            "left": null
          }
        },
        "674be53037014e09857e0d32d69cb4eb": {
          "model_module": "@jupyter-widgets/controls",
          "model_name": "DescriptionStyleModel",
          "state": {
            "_view_name": "StyleView",
            "_model_name": "DescriptionStyleModel",
            "description_width": "",
            "_view_module": "@jupyter-widgets/base",
            "_model_module_version": "1.5.0",
            "_view_count": null,
            "_view_module_version": "1.2.0",
            "_model_module": "@jupyter-widgets/controls"
          }
        },
        "cef7cdd92a6b44caad79243a2278ba9d": {
          "model_module": "@jupyter-widgets/base",
          "model_name": "LayoutModel",
          "state": {
            "_view_name": "LayoutView",
            "grid_template_rows": null,
            "right": null,
            "justify_content": null,
            "_view_module": "@jupyter-widgets/base",
            "overflow": null,
            "_model_module_version": "1.2.0",
            "_view_count": null,
            "flex_flow": null,
            "width": null,
            "min_width": null,
            "border": null,
            "align_items": null,
            "bottom": null,
            "_model_module": "@jupyter-widgets/base",
            "top": null,
            "grid_column": null,
            "overflow_y": null,
            "overflow_x": null,
            "grid_auto_flow": null,
            "grid_area": null,
            "grid_template_columns": null,
            "flex": null,
            "_model_name": "LayoutModel",
            "justify_items": null,
            "grid_row": null,
            "max_height": null,
            "align_content": null,
            "visibility": null,
            "align_self": null,
            "height": null,
            "min_height": null,
            "padding": null,
            "grid_auto_rows": null,
            "grid_gap": null,
            "max_width": null,
            "order": null,
            "_view_module_version": "1.2.0",
            "grid_template_areas": null,
            "object_position": null,
            "object_fit": null,
            "grid_auto_columns": null,
            "margin": null,
            "display": null,
            "left": null
          }
        },
        "834f9f03bbd74eac8138c5d147664629": {
          "model_module": "@jupyter-widgets/controls",
          "model_name": "HBoxModel",
          "state": {
            "_view_name": "HBoxView",
            "_dom_classes": [],
            "_model_name": "HBoxModel",
            "_view_module": "@jupyter-widgets/controls",
            "_model_module_version": "1.5.0",
            "_view_count": null,
            "_view_module_version": "1.5.0",
            "box_style": "",
            "layout": "IPY_MODEL_660f6ac6933745d3823a0dac1039a834",
            "_model_module": "@jupyter-widgets/controls",
            "children": [
              "IPY_MODEL_3bb7ff7db66d40998eca583283fd2954",
              "IPY_MODEL_68f4bec10c294daf8f1919877dbc9390"
            ]
          }
        },
        "660f6ac6933745d3823a0dac1039a834": {
          "model_module": "@jupyter-widgets/base",
          "model_name": "LayoutModel",
          "state": {
            "_view_name": "LayoutView",
            "grid_template_rows": null,
            "right": null,
            "justify_content": null,
            "_view_module": "@jupyter-widgets/base",
            "overflow": null,
            "_model_module_version": "1.2.0",
            "_view_count": null,
            "flex_flow": null,
            "width": null,
            "min_width": null,
            "border": null,
            "align_items": null,
            "bottom": null,
            "_model_module": "@jupyter-widgets/base",
            "top": null,
            "grid_column": null,
            "overflow_y": null,
            "overflow_x": null,
            "grid_auto_flow": null,
            "grid_area": null,
            "grid_template_columns": null,
            "flex": null,
            "_model_name": "LayoutModel",
            "justify_items": null,
            "grid_row": null,
            "max_height": null,
            "align_content": null,
            "visibility": null,
            "align_self": null,
            "height": null,
            "min_height": null,
            "padding": null,
            "grid_auto_rows": null,
            "grid_gap": null,
            "max_width": null,
            "order": null,
            "_view_module_version": "1.2.0",
            "grid_template_areas": null,
            "object_position": null,
            "object_fit": null,
            "grid_auto_columns": null,
            "margin": null,
            "display": null,
            "left": null
          }
        },
        "3bb7ff7db66d40998eca583283fd2954": {
          "model_module": "@jupyter-widgets/controls",
          "model_name": "IntProgressModel",
          "state": {
            "_view_name": "ProgressView",
            "style": "IPY_MODEL_95bb223fe3a44ac48207266f8198942b",
            "_dom_classes": [],
            "description": "Computing statistics...: 100%",
            "_model_name": "IntProgressModel",
            "bar_style": "success",
            "max": 1,
            "_view_module": "@jupyter-widgets/controls",
            "_model_module_version": "1.5.0",
            "value": 1,
            "_view_count": null,
            "_view_module_version": "1.5.0",
            "orientation": "horizontal",
            "min": 0,
            "description_tooltip": null,
            "_model_module": "@jupyter-widgets/controls",
            "layout": "IPY_MODEL_3aed86f50e96451fa1bb99eef0d6f5a0"
          }
        },
        "68f4bec10c294daf8f1919877dbc9390": {
          "model_module": "@jupyter-widgets/controls",
          "model_name": "HTMLModel",
          "state": {
            "_view_name": "HTMLView",
            "style": "IPY_MODEL_ce69079d09bc44348933b8e39a776d53",
            "_dom_classes": [],
            "description": "",
            "_model_name": "HTMLModel",
            "placeholder": "​",
            "_view_module": "@jupyter-widgets/controls",
            "_model_module_version": "1.5.0",
            "value": " 1/1 [00:49&lt;00:00, 49.54s/ split]",
            "_view_count": null,
            "_view_module_version": "1.5.0",
            "description_tooltip": null,
            "_model_module": "@jupyter-widgets/controls",
            "layout": "IPY_MODEL_443e512411e8482a9465e46f481adb2d"
          }
        },
        "95bb223fe3a44ac48207266f8198942b": {
          "model_module": "@jupyter-widgets/controls",
          "model_name": "ProgressStyleModel",
          "state": {
            "_view_name": "StyleView",
            "_model_name": "ProgressStyleModel",
            "description_width": "initial",
            "_view_module": "@jupyter-widgets/base",
            "_model_module_version": "1.5.0",
            "_view_count": null,
            "_view_module_version": "1.2.0",
            "bar_color": null,
            "_model_module": "@jupyter-widgets/controls"
          }
        },
        "3aed86f50e96451fa1bb99eef0d6f5a0": {
          "model_module": "@jupyter-widgets/base",
          "model_name": "LayoutModel",
          "state": {
            "_view_name": "LayoutView",
            "grid_template_rows": null,
            "right": null,
            "justify_content": null,
            "_view_module": "@jupyter-widgets/base",
            "overflow": null,
            "_model_module_version": "1.2.0",
            "_view_count": null,
            "flex_flow": null,
            "width": null,
            "min_width": null,
            "border": null,
            "align_items": null,
            "bottom": null,
            "_model_module": "@jupyter-widgets/base",
            "top": null,
            "grid_column": null,
            "overflow_y": null,
            "overflow_x": null,
            "grid_auto_flow": null,
            "grid_area": null,
            "grid_template_columns": null,
            "flex": null,
            "_model_name": "LayoutModel",
            "justify_items": null,
            "grid_row": null,
            "max_height": null,
            "align_content": null,
            "visibility": null,
            "align_self": null,
            "height": null,
            "min_height": null,
            "padding": null,
            "grid_auto_rows": null,
            "grid_gap": null,
            "max_width": null,
            "order": null,
            "_view_module_version": "1.2.0",
            "grid_template_areas": null,
            "object_position": null,
            "object_fit": null,
            "grid_auto_columns": null,
            "margin": null,
            "display": null,
            "left": null
          }
        },
        "ce69079d09bc44348933b8e39a776d53": {
          "model_module": "@jupyter-widgets/controls",
          "model_name": "DescriptionStyleModel",
          "state": {
            "_view_name": "StyleView",
            "_model_name": "DescriptionStyleModel",
            "description_width": "",
            "_view_module": "@jupyter-widgets/base",
            "_model_module_version": "1.5.0",
            "_view_count": null,
            "_view_module_version": "1.2.0",
            "_model_module": "@jupyter-widgets/controls"
          }
        },
        "443e512411e8482a9465e46f481adb2d": {
          "model_module": "@jupyter-widgets/base",
          "model_name": "LayoutModel",
          "state": {
            "_view_name": "LayoutView",
            "grid_template_rows": null,
            "right": null,
            "justify_content": null,
            "_view_module": "@jupyter-widgets/base",
            "overflow": null,
            "_model_module_version": "1.2.0",
            "_view_count": null,
            "flex_flow": null,
            "width": null,
            "min_width": null,
            "border": null,
            "align_items": null,
            "bottom": null,
            "_model_module": "@jupyter-widgets/base",
            "top": null,
            "grid_column": null,
            "overflow_y": null,
            "overflow_x": null,
            "grid_auto_flow": null,
            "grid_area": null,
            "grid_template_columns": null,
            "flex": null,
            "_model_name": "LayoutModel",
            "justify_items": null,
            "grid_row": null,
            "max_height": null,
            "align_content": null,
            "visibility": null,
            "align_self": null,
            "height": null,
            "min_height": null,
            "padding": null,
            "grid_auto_rows": null,
            "grid_gap": null,
            "max_width": null,
            "order": null,
            "_view_module_version": "1.2.0",
            "grid_template_areas": null,
            "object_position": null,
            "object_fit": null,
            "grid_auto_columns": null,
            "margin": null,
            "display": null,
            "left": null
          }
        },
        "daad2c21796147f8be9985713102582f": {
          "model_module": "@jupyter-widgets/controls",
          "model_name": "HBoxModel",
          "state": {
            "_view_name": "HBoxView",
            "_dom_classes": [],
            "_model_name": "HBoxModel",
            "_view_module": "@jupyter-widgets/controls",
            "_model_module_version": "1.5.0",
            "_view_count": null,
            "_view_module_version": "1.5.0",
            "box_style": "",
            "layout": "IPY_MODEL_98df89a4b5d24314a7c017ae75c867c7",
            "_model_module": "@jupyter-widgets/controls",
            "children": [
              "IPY_MODEL_af310a0eb0e74dd78aeb79b507d1b054",
              "IPY_MODEL_d86965f2fa6f452f8d907440aec4c33f"
            ]
          }
        },
        "98df89a4b5d24314a7c017ae75c867c7": {
          "model_module": "@jupyter-widgets/base",
          "model_name": "LayoutModel",
          "state": {
            "_view_name": "LayoutView",
            "grid_template_rows": null,
            "right": null,
            "justify_content": null,
            "_view_module": "@jupyter-widgets/base",
            "overflow": null,
            "_model_module_version": "1.2.0",
            "_view_count": null,
            "flex_flow": null,
            "width": null,
            "min_width": null,
            "border": null,
            "align_items": null,
            "bottom": null,
            "_model_module": "@jupyter-widgets/base",
            "top": null,
            "grid_column": null,
            "overflow_y": null,
            "overflow_x": null,
            "grid_auto_flow": null,
            "grid_area": null,
            "grid_template_columns": null,
            "flex": null,
            "_model_name": "LayoutModel",
            "justify_items": null,
            "grid_row": null,
            "max_height": null,
            "align_content": null,
            "visibility": null,
            "align_self": null,
            "height": null,
            "min_height": null,
            "padding": null,
            "grid_auto_rows": null,
            "grid_gap": null,
            "max_width": null,
            "order": null,
            "_view_module_version": "1.2.0",
            "grid_template_areas": null,
            "object_position": null,
            "object_fit": null,
            "grid_auto_columns": null,
            "margin": null,
            "display": null,
            "left": null
          }
        },
        "af310a0eb0e74dd78aeb79b507d1b054": {
          "model_module": "@jupyter-widgets/controls",
          "model_name": "IntProgressModel",
          "state": {
            "_view_name": "ProgressView",
            "style": "IPY_MODEL_88741b0069a9473e8b2230826b397112",
            "_dom_classes": [],
            "description": "",
            "_model_name": "IntProgressModel",
            "bar_style": "info",
            "max": 1,
            "_view_module": "@jupyter-widgets/controls",
            "_model_module_version": "1.5.0",
            "value": 1,
            "_view_count": null,
            "_view_module_version": "1.5.0",
            "orientation": "horizontal",
            "min": 0,
            "description_tooltip": null,
            "_model_module": "@jupyter-widgets/controls",
            "layout": "IPY_MODEL_d71582c9ebdc4a2486720225eb27186a"
          }
        },
        "d86965f2fa6f452f8d907440aec4c33f": {
          "model_module": "@jupyter-widgets/controls",
          "model_name": "HTMLModel",
          "state": {
            "_view_name": "HTMLView",
            "style": "IPY_MODEL_58a3e2ad337c40b1b1b080947034c5d5",
            "_dom_classes": [],
            "description": "",
            "_model_name": "HTMLModel",
            "placeholder": "​",
            "_view_module": "@jupyter-widgets/controls",
            "_model_module_version": "1.5.0",
            "value": " 85981/? [00:42&lt;00:00, 2001.67 examples/s]",
            "_view_count": null,
            "_view_module_version": "1.5.0",
            "description_tooltip": null,
            "_model_module": "@jupyter-widgets/controls",
            "layout": "IPY_MODEL_e384886ec262427b9160b1587ff62630"
          }
        },
        "88741b0069a9473e8b2230826b397112": {
          "model_module": "@jupyter-widgets/controls",
          "model_name": "ProgressStyleModel",
          "state": {
            "_view_name": "StyleView",
            "_model_name": "ProgressStyleModel",
            "description_width": "initial",
            "_view_module": "@jupyter-widgets/base",
            "_model_module_version": "1.5.0",
            "_view_count": null,
            "_view_module_version": "1.2.0",
            "bar_color": null,
            "_model_module": "@jupyter-widgets/controls"
          }
        },
        "d71582c9ebdc4a2486720225eb27186a": {
          "model_module": "@jupyter-widgets/base",
          "model_name": "LayoutModel",
          "state": {
            "_view_name": "LayoutView",
            "grid_template_rows": null,
            "right": null,
            "justify_content": null,
            "_view_module": "@jupyter-widgets/base",
            "overflow": null,
            "_model_module_version": "1.2.0",
            "_view_count": null,
            "flex_flow": null,
            "width": null,
            "min_width": null,
            "border": null,
            "align_items": null,
            "bottom": null,
            "_model_module": "@jupyter-widgets/base",
            "top": null,
            "grid_column": null,
            "overflow_y": null,
            "overflow_x": null,
            "grid_auto_flow": null,
            "grid_area": null,
            "grid_template_columns": null,
            "flex": null,
            "_model_name": "LayoutModel",
            "justify_items": null,
            "grid_row": null,
            "max_height": null,
            "align_content": null,
            "visibility": null,
            "align_self": null,
            "height": null,
            "min_height": null,
            "padding": null,
            "grid_auto_rows": null,
            "grid_gap": null,
            "max_width": null,
            "order": null,
            "_view_module_version": "1.2.0",
            "grid_template_areas": null,
            "object_position": null,
            "object_fit": null,
            "grid_auto_columns": null,
            "margin": null,
            "display": null,
            "left": null
          }
        },
        "58a3e2ad337c40b1b1b080947034c5d5": {
          "model_module": "@jupyter-widgets/controls",
          "model_name": "DescriptionStyleModel",
          "state": {
            "_view_name": "StyleView",
            "_model_name": "DescriptionStyleModel",
            "description_width": "",
            "_view_module": "@jupyter-widgets/base",
            "_model_module_version": "1.5.0",
            "_view_count": null,
            "_view_module_version": "1.2.0",
            "_model_module": "@jupyter-widgets/controls"
          }
        },
        "e384886ec262427b9160b1587ff62630": {
          "model_module": "@jupyter-widgets/base",
          "model_name": "LayoutModel",
          "state": {
            "_view_name": "LayoutView",
            "grid_template_rows": null,
            "right": null,
            "justify_content": null,
            "_view_module": "@jupyter-widgets/base",
            "overflow": null,
            "_model_module_version": "1.2.0",
            "_view_count": null,
            "flex_flow": null,
            "width": null,
            "min_width": null,
            "border": null,
            "align_items": null,
            "bottom": null,
            "_model_module": "@jupyter-widgets/base",
            "top": null,
            "grid_column": null,
            "overflow_y": null,
            "overflow_x": null,
            "grid_auto_flow": null,
            "grid_area": null,
            "grid_template_columns": null,
            "flex": null,
            "_model_name": "LayoutModel",
            "justify_items": null,
            "grid_row": null,
            "max_height": null,
            "align_content": null,
            "visibility": null,
            "align_self": null,
            "height": null,
            "min_height": null,
            "padding": null,
            "grid_auto_rows": null,
            "grid_gap": null,
            "max_width": null,
            "order": null,
            "_view_module_version": "1.2.0",
            "grid_template_areas": null,
            "object_position": null,
            "object_fit": null,
            "grid_auto_columns": null,
            "margin": null,
            "display": null,
            "left": null
          }
        }
      }
    }
  },
  "cells": [
    {
      "cell_type": "code",
      "metadata": {
        "id": "KqTyL2VUqv-M",
        "colab_type": "code",
        "outputId": "86b34105-0bc4-4797-b8a9-9f713b33d637",
        "colab": {
          "base_uri": "https://localhost:8080/",
          "height": 170
        }
      },
      "source": [
        "!apt-get install default-jre\n",
        "!java -version"
      ],
      "execution_count": 1,
      "outputs": [
        {
          "output_type": "stream",
          "text": [
            "Reading package lists... Done\n",
            "Building dependency tree       \n",
            "Reading state information... Done\n",
            "default-jre is already the newest version (2:1.11-68ubuntu1~18.04.1).\n",
            "default-jre set to manually installed.\n",
            "0 upgraded, 0 newly installed, 0 to remove and 25 not upgraded.\n",
            "openjdk version \"11.0.6\" 2020-01-14\n",
            "OpenJDK Runtime Environment (build 11.0.6+10-post-Ubuntu-1ubuntu118.04.1)\n",
            "OpenJDK 64-Bit Server VM (build 11.0.6+10-post-Ubuntu-1ubuntu118.04.1, mixed mode, sharing)\n"
          ],
          "name": "stdout"
        }
      ]
    },
    {
      "cell_type": "code",
      "metadata": {
        "id": "KcdldMCPq1eC",
        "colab_type": "code",
        "outputId": "b8a2e9db-0c9c-492a-bf3c-6aa44c8b5ecb",
        "colab": {
          "base_uri": "https://localhost:8080/",
          "height": 340
        }
      },
      "source": [
        "!pip install h2o==3.30.0.1"
      ],
      "execution_count": 2,
      "outputs": [
        {
          "output_type": "stream",
          "text": [
            "Collecting h2o==3.30.0.1\n",
            "\u001b[?25l  Downloading https://files.pythonhosted.org/packages/96/b2/b6f5e8c7fd1efe0f6d2640b34164b10b0e28231b89cc06542a6b3a3903a0/h2o-3.30.0.1.tar.gz (129.5MB)\n",
            "\u001b[K     |████████████████████████████████| 129.5MB 56kB/s \n",
            "\u001b[?25hRequirement already satisfied: requests in /usr/local/lib/python3.6/dist-packages (from h2o==3.30.0.1) (2.23.0)\n",
            "Requirement already satisfied: tabulate in /usr/local/lib/python3.6/dist-packages (from h2o==3.30.0.1) (0.8.7)\n",
            "Requirement already satisfied: future in /usr/local/lib/python3.6/dist-packages (from h2o==3.30.0.1) (0.16.0)\n",
            "Collecting colorama>=0.3.8\n",
            "  Downloading https://files.pythonhosted.org/packages/c9/dc/45cdef1b4d119eb96316b3117e6d5708a08029992b2fee2c143c7a0a5cc5/colorama-0.4.3-py2.py3-none-any.whl\n",
            "Requirement already satisfied: certifi>=2017.4.17 in /usr/local/lib/python3.6/dist-packages (from requests->h2o==3.30.0.1) (2020.4.5.1)\n",
            "Requirement already satisfied: urllib3!=1.25.0,!=1.25.1,<1.26,>=1.21.1 in /usr/local/lib/python3.6/dist-packages (from requests->h2o==3.30.0.1) (1.24.3)\n",
            "Requirement already satisfied: idna<3,>=2.5 in /usr/local/lib/python3.6/dist-packages (from requests->h2o==3.30.0.1) (2.9)\n",
            "Requirement already satisfied: chardet<4,>=3.0.2 in /usr/local/lib/python3.6/dist-packages (from requests->h2o==3.30.0.1) (3.0.4)\n",
            "Building wheels for collected packages: h2o\n",
            "  Building wheel for h2o (setup.py) ... \u001b[?25l\u001b[?25hdone\n",
            "  Created wheel for h2o: filename=h2o-3.30.0.1-py2.py3-none-any.whl size=129557718 sha256=5d6f24025887c9182ca7b96663efe891d60d6a4c0c84bd935b6049e7e04a3d50\n",
            "  Stored in directory: /root/.cache/pip/wheels/db/42/63/d118d7218432054da842f5d10bd4f99e978bde0931164e6c7a\n",
            "Successfully built h2o\n",
            "Installing collected packages: colorama, h2o\n",
            "Successfully installed colorama-0.4.3 h2o-3.30.0.1\n"
          ],
          "name": "stdout"
        }
      ]
    },
    {
      "cell_type": "code",
      "metadata": {
        "id": "fUbFvR7LDB3U",
        "colab_type": "code",
        "colab": {}
      },
      "source": [
        "import tensorflow_datasets as tfds\n",
        "import h2o\n",
        "import numpy as np"
      ],
      "execution_count": 0,
      "outputs": []
    },
    {
      "cell_type": "code",
      "metadata": {
        "id": "sLHRRkcdrAnX",
        "colab_type": "code",
        "outputId": "09b73e97-3a5b-45a2-8a96-5faa4e555bc6",
        "colab": {
          "base_uri": "https://localhost:8080/",
          "height": 545
        }
      },
      "source": [
        "h2o.init()"
      ],
      "execution_count": 4,
      "outputs": [
        {
          "output_type": "stream",
          "text": [
            "Checking whether there is an H2O instance running at http://localhost:54321 ..... not found.\n",
            "Attempting to start a local H2O server...\n",
            "  Java Version: openjdk version \"11.0.6\" 2020-01-14; OpenJDK Runtime Environment (build 11.0.6+10-post-Ubuntu-1ubuntu118.04.1); OpenJDK 64-Bit Server VM (build 11.0.6+10-post-Ubuntu-1ubuntu118.04.1, mixed mode, sharing)\n",
            "  Starting server from /usr/local/lib/python3.6/dist-packages/h2o/backend/bin/h2o.jar\n",
            "  Ice root: /tmp/tmp14v07cia\n",
            "  JVM stdout: /tmp/tmp14v07cia/h2o_unknownUser_started_from_python.out\n",
            "  JVM stderr: /tmp/tmp14v07cia/h2o_unknownUser_started_from_python.err\n",
            "  Server is running at http://127.0.0.1:54321\n",
            "Connecting to H2O server at http://127.0.0.1:54321 ... successful.\n"
          ],
          "name": "stdout"
        },
        {
          "output_type": "display_data",
          "data": {
            "text/html": [
              "<div style=\"overflow:auto\"><table style=\"width:50%\"><tr><td>H2O_cluster_uptime:</td>\n",
              "<td>02 secs</td></tr>\n",
              "<tr><td>H2O_cluster_timezone:</td>\n",
              "<td>Etc/UTC</td></tr>\n",
              "<tr><td>H2O_data_parsing_timezone:</td>\n",
              "<td>UTC</td></tr>\n",
              "<tr><td>H2O_cluster_version:</td>\n",
              "<td>3.30.0.1</td></tr>\n",
              "<tr><td>H2O_cluster_version_age:</td>\n",
              "<td>1 month </td></tr>\n",
              "<tr><td>H2O_cluster_name:</td>\n",
              "<td>H2O_from_python_unknownUser_aia2ek</td></tr>\n",
              "<tr><td>H2O_cluster_total_nodes:</td>\n",
              "<td>1</td></tr>\n",
              "<tr><td>H2O_cluster_free_memory:</td>\n",
              "<td>3.180 Gb</td></tr>\n",
              "<tr><td>H2O_cluster_total_cores:</td>\n",
              "<td>2</td></tr>\n",
              "<tr><td>H2O_cluster_allowed_cores:</td>\n",
              "<td>2</td></tr>\n",
              "<tr><td>H2O_cluster_status:</td>\n",
              "<td>accepting new members, healthy</td></tr>\n",
              "<tr><td>H2O_connection_url:</td>\n",
              "<td>http://127.0.0.1:54321</td></tr>\n",
              "<tr><td>H2O_connection_proxy:</td>\n",
              "<td>{\"http\": null, \"https\": null}</td></tr>\n",
              "<tr><td>H2O_internal_security:</td>\n",
              "<td>False</td></tr>\n",
              "<tr><td>H2O_API_Extensions:</td>\n",
              "<td>Amazon S3, XGBoost, Algos, AutoML, Core V3, TargetEncoder, Core V4</td></tr>\n",
              "<tr><td>Python_version:</td>\n",
              "<td>3.6.9 final</td></tr></table></div>"
            ],
            "text/plain": [
              "--------------------------  ------------------------------------------------------------------\n",
              "H2O_cluster_uptime:         02 secs\n",
              "H2O_cluster_timezone:       Etc/UTC\n",
              "H2O_data_parsing_timezone:  UTC\n",
              "H2O_cluster_version:        3.30.0.1\n",
              "H2O_cluster_version_age:    1 month\n",
              "H2O_cluster_name:           H2O_from_python_unknownUser_aia2ek\n",
              "H2O_cluster_total_nodes:    1\n",
              "H2O_cluster_free_memory:    3.180 Gb\n",
              "H2O_cluster_total_cores:    2\n",
              "H2O_cluster_allowed_cores:  2\n",
              "H2O_cluster_status:         accepting new members, healthy\n",
              "H2O_connection_url:         http://127.0.0.1:54321\n",
              "H2O_connection_proxy:       {\"http\": null, \"https\": null}\n",
              "H2O_internal_security:      False\n",
              "H2O_API_Extensions:         Amazon S3, XGBoost, Algos, AutoML, Core V3, TargetEncoder, Core V4\n",
              "Python_version:             3.6.9 final\n",
              "--------------------------  ------------------------------------------------------------------"
            ]
          },
          "metadata": {
            "tags": []
          }
        }
      ]
    },
    {
      "cell_type": "code",
      "metadata": {
        "id": "QDH43tw-DN4y",
        "colab_type": "code",
        "colab": {
          "base_uri": "https://localhost:8080/",
          "height": 418,
          "referenced_widgets": [
            "1f4fee7e90444b1eb81254555554e6da",
            "afdfa366074448ce87314434c6fbaac2",
            "fc005248b1e848c7a19d22d3ee06774c",
            "840d4d03f34143eca1d31cee1257584a",
            "1cf3bcb6362c4981a13dc179145bbba7",
            "0590eee42b28492080d2c87e7ca8a3e0",
            "1f14dffd12694a01a29293a3203899cb",
            "ed75b1b26e1346cda5b3a187fde4a7af",
            "95187ffe2d5d48d5af1a0fb241dc9036",
            "7771b700e2fb438fb45dcf132d7bada6",
            "833e241477b441358826b2530a4c4795",
            "f2bd3cf1eab448109c67603dbc450c22",
            "07c48cd690304bfb98c63b0cefebc4ad",
            "b2122df66be349bba484c6299877f772",
            "3837a69442bf4bb3be6cc30b3b43234d",
            "fd4c1e1abd4e41bf99d0c82ff0dab4c2",
            "e4b5d880b7484be190ffeea0e222cbb8",
            "1e2bbea675d24b7492b1608cddc3f58e",
            "67d6ea9a12744fe4b754bdf3cc8432f0",
            "f05f624693714a54bd185980dbb47b8c",
            "711f8ae1f3564160860433d8a8caab03",
            "4a7d45527df04efab456f07cb9928b00",
            "f34fa1abc22a4b97b1ad8a4365e4a6c7",
            "24fda03af48749e1a2fdaba5095456fd",
            "eac08bd1baf44f31a7ff4703a2ad72b4",
            "3eb64e82bff24f93b53daf72694d9eba",
            "c74ba2e2df1c48aba5d7601455b7283b",
            "a7784454dcfa44a5b2b87503079955f6",
            "6ec4996b9d914b2bb499ecd6a784dff6",
            "96596d144c4d42a5ab10f14b7509936f",
            "562a8548881f4ecebdc62704ec78502a",
            "95a38fb5b82d4a38a2219547edde964c",
            "a6fe5e4d51944ed0a1a35f14a9c56480",
            "40444e9297da4c1eae40227bba247446",
            "c0db234b09c14062afcf8a7d435191a2",
            "f63139cb61844d4ca14488d33c38f5fd",
            "aeacf92b23494b4594f018e435f59891",
            "f4af0a9c9cc6418d8ca6a47c37c90b0b",
            "674be53037014e09857e0d32d69cb4eb",
            "cef7cdd92a6b44caad79243a2278ba9d",
            "834f9f03bbd74eac8138c5d147664629",
            "660f6ac6933745d3823a0dac1039a834",
            "3bb7ff7db66d40998eca583283fd2954",
            "68f4bec10c294daf8f1919877dbc9390",
            "95bb223fe3a44ac48207266f8198942b",
            "3aed86f50e96451fa1bb99eef0d6f5a0",
            "ce69079d09bc44348933b8e39a776d53",
            "443e512411e8482a9465e46f481adb2d",
            "daad2c21796147f8be9985713102582f",
            "98df89a4b5d24314a7c017ae75c867c7",
            "af310a0eb0e74dd78aeb79b507d1b054",
            "d86965f2fa6f452f8d907440aec4c33f",
            "88741b0069a9473e8b2230826b397112",
            "d71582c9ebdc4a2486720225eb27186a",
            "58a3e2ad337c40b1b1b080947034c5d5",
            "e384886ec262427b9160b1587ff62630"
          ]
        },
        "outputId": "378fd6dd-4d70-45cc-83a6-74451e48c060"
      },
      "source": [
        "dataset, info = tfds.load('amazon_us_reviews/Personal_Care_Appliances_v1_00', with_info=True, batch_size=-1)\n",
        "train_dataset = dataset['train']"
      ],
      "execution_count": 5,
      "outputs": [
        {
          "output_type": "stream",
          "text": [
            "Downloading and preparing dataset amazon_us_reviews/Personal_Care_Appliances_v1_00/0.1.0 (download: 16.82 MiB, generated: Unknown size, total: 16.82 MiB) to /root/tensorflow_datasets/amazon_us_reviews/Personal_Care_Appliances_v1_00/0.1.0...\n"
          ],
          "name": "stdout"
        },
        {
          "output_type": "display_data",
          "data": {
            "application/vnd.jupyter.widget-view+json": {
              "model_id": "1f4fee7e90444b1eb81254555554e6da",
              "version_minor": 0,
              "version_major": 2
            },
            "text/plain": [
              "HBox(children=(IntProgress(value=1, bar_style='info', description='Dl Completed...', max=1, style=ProgressStyl…"
            ]
          },
          "metadata": {
            "tags": []
          }
        },
        {
          "output_type": "display_data",
          "data": {
            "application/vnd.jupyter.widget-view+json": {
              "model_id": "95187ffe2d5d48d5af1a0fb241dc9036",
              "version_minor": 0,
              "version_major": 2
            },
            "text/plain": [
              "HBox(children=(IntProgress(value=1, bar_style='info', description='Dl Size...', max=1, style=ProgressStyle(des…"
            ]
          },
          "metadata": {
            "tags": []
          }
        },
        {
          "output_type": "display_data",
          "data": {
            "application/vnd.jupyter.widget-view+json": {
              "model_id": "e4b5d880b7484be190ffeea0e222cbb8",
              "version_minor": 0,
              "version_major": 2
            },
            "text/plain": [
              "HBox(children=(IntProgress(value=1, bar_style='info', description='Extraction completed...', max=1, style=Prog…"
            ]
          },
          "metadata": {
            "tags": []
          }
        },
        {
          "output_type": "stream",
          "text": [
            "/usr/local/lib/python3.6/dist-packages/urllib3/connectionpool.py:847: InsecureRequestWarning: Unverified HTTPS request is being made. Adding certificate verification is strongly advised. See: https://urllib3.readthedocs.io/en/latest/advanced-usage.html#ssl-warnings\n",
            "  InsecureRequestWarning)\n"
          ],
          "name": "stderr"
        },
        {
          "output_type": "stream",
          "text": [
            "\n",
            "\n",
            "\n",
            "\n",
            "\n",
            "\n"
          ],
          "name": "stdout"
        },
        {
          "output_type": "display_data",
          "data": {
            "application/vnd.jupyter.widget-view+json": {
              "model_id": "eac08bd1baf44f31a7ff4703a2ad72b4",
              "version_minor": 0,
              "version_major": 2
            },
            "text/plain": [
              "HBox(children=(IntProgress(value=1, bar_style='info', max=1), HTML(value='')))"
            ]
          },
          "metadata": {
            "tags": []
          }
        },
        {
          "output_type": "stream",
          "text": [
            "\rShuffling and writing examples to /root/tensorflow_datasets/amazon_us_reviews/Personal_Care_Appliances_v1_00/0.1.0.incomplete63NL23/amazon_us_reviews-train.tfrecord\n"
          ],
          "name": "stdout"
        },
        {
          "output_type": "display_data",
          "data": {
            "application/vnd.jupyter.widget-view+json": {
              "model_id": "a6fe5e4d51944ed0a1a35f14a9c56480",
              "version_minor": 0,
              "version_major": 2
            },
            "text/plain": [
              "HBox(children=(IntProgress(value=0, max=85981), HTML(value='')))"
            ]
          },
          "metadata": {
            "tags": []
          }
        },
        {
          "output_type": "display_data",
          "data": {
            "application/vnd.jupyter.widget-view+json": {
              "model_id": "834f9f03bbd74eac8138c5d147664629",
              "version_minor": 0,
              "version_major": 2
            },
            "text/plain": [
              "HBox(children=(IntProgress(value=0, description='Computing statistics...', max=1, style=ProgressStyle(descript…"
            ]
          },
          "metadata": {
            "tags": []
          }
        },
        {
          "output_type": "stream",
          "text": [
            "\r"
          ],
          "name": "stdout"
        },
        {
          "output_type": "display_data",
          "data": {
            "application/vnd.jupyter.widget-view+json": {
              "model_id": "daad2c21796147f8be9985713102582f",
              "version_minor": 0,
              "version_major": 2
            },
            "text/plain": [
              "HBox(children=(IntProgress(value=1, bar_style='info', max=1), HTML(value='')))"
            ]
          },
          "metadata": {
            "tags": []
          }
        },
        {
          "output_type": "stream",
          "text": [
            "\r"
          ],
          "name": "stdout"
        },
        {
          "output_type": "stream",
          "text": [
            "ERROR:absl:Statistics generation doesn't work for nested structures yet\n"
          ],
          "name": "stderr"
        },
        {
          "output_type": "stream",
          "text": [
            "\n",
            "Dataset amazon_us_reviews downloaded and prepared to /root/tensorflow_datasets/amazon_us_reviews/Personal_Care_Appliances_v1_00/0.1.0. Subsequent calls will reuse this data.\n"
          ],
          "name": "stdout"
        }
      ]
    },
    {
      "cell_type": "code",
      "metadata": {
        "id": "u1diITDtD9xD",
        "colab_type": "code",
        "outputId": "297f9980-1d6c-4d35-e04b-bc8886ea3a9f",
        "colab": {
          "base_uri": "https://localhost:8080/",
          "height": 955
        }
      },
      "source": [
        "info"
      ],
      "execution_count": 6,
      "outputs": [
        {
          "output_type": "execute_result",
          "data": {
            "text/plain": [
              "tfds.core.DatasetInfo(\n",
              "    name='amazon_us_reviews',\n",
              "    version=0.1.0,\n",
              "    description='Amazon Customer Reviews (a.k.a. Product Reviews) is one of Amazons iconic products. In a period of over two decades since the first review in 1995, millions of Amazon customers have contributed over a hundred million reviews to express opinions and describe their experiences regarding products on the Amazon.com website. This makes Amazon Customer Reviews a rich source of information for academic researchers in the fields of Natural Language Processing (NLP), Information Retrieval (IR), and Machine Learning (ML), amongst others. Accordingly, we are releasing this data to further research in multiple disciplines related to understanding customer product experiences. Specifically, this dataset was constructed to represent a sample of customer evaluations and opinions, variation in the perception of a product across geographical regions, and promotional intent or bias in reviews.\n",
              "\n",
              "Over 130+ million customer reviews are available to researchers as part of this release. The data is available in TSV files in the amazon-reviews-pds S3 bucket in AWS US East Region. Each line in the data files corresponds to an individual review (tab delimited, with no quote and escape characters).\n",
              "\n",
              "Each Dataset contains the following columns : \n",
              "  marketplace       - 2 letter country code of the marketplace where the review was written.\n",
              "  customer_id       - Random identifier that can be used to aggregate reviews written by a single author.\n",
              "  review_id         - The unique ID of the review.\n",
              "  product_id        - The unique Product ID the review pertains to. In the multilingual dataset the reviews\n",
              "                      for the same product in different countries can be grouped by the same product_id.\n",
              "  product_parent    - Random identifier that can be used to aggregate reviews for the same product.\n",
              "  product_title     - Title of the product.\n",
              "  product_category  - Broad product category that can be used to group reviews \n",
              "                      (also used to group the dataset into coherent parts).\n",
              "  star_rating       - The 1-5 star rating of the review.\n",
              "  helpful_votes     - Number of helpful votes.\n",
              "  total_votes       - Number of total votes the review received.\n",
              "  vine              - Review was written as part of the Vine program.\n",
              "  verified_purchase - The review is on a verified purchase.\n",
              "  review_headline   - The title of the review.\n",
              "  review_body       - The review text.\n",
              "  review_date       - The date the review was written.\n",
              "',\n",
              "    homepage='https://s3.amazonaws.com/amazon-reviews-pds/readme.html',\n",
              "    features=FeaturesDict({\n",
              "        'data': FeaturesDict({\n",
              "            'customer_id': tf.string,\n",
              "            'helpful_votes': tf.int32,\n",
              "            'marketplace': tf.string,\n",
              "            'product_category': tf.string,\n",
              "            'product_id': tf.string,\n",
              "            'product_parent': tf.string,\n",
              "            'product_title': tf.string,\n",
              "            'review_body': tf.string,\n",
              "            'review_date': tf.string,\n",
              "            'review_headline': tf.string,\n",
              "            'review_id': tf.string,\n",
              "            'star_rating': tf.int32,\n",
              "            'total_votes': tf.int32,\n",
              "            'verified_purchase': ClassLabel(shape=(), dtype=tf.int64, num_classes=2),\n",
              "            'vine': ClassLabel(shape=(), dtype=tf.int64, num_classes=2),\n",
              "        }),\n",
              "    }),\n",
              "    total_num_examples=85981,\n",
              "    splits={\n",
              "        'train': 85981,\n",
              "    },\n",
              "    supervised_keys=None,\n",
              "    citation=\"\"\"\"\"\",\n",
              "    redistribution_info=,\n",
              ")"
            ]
          },
          "metadata": {
            "tags": []
          },
          "execution_count": 6
        }
      ]
    },
    {
      "cell_type": "code",
      "metadata": {
        "id": "FeuwcjT2oLWd",
        "colab_type": "code",
        "colab": {}
      },
      "source": [
        "dataset=tfds.as_numpy(train_dataset)"
      ],
      "execution_count": 0,
      "outputs": []
    },
    {
      "cell_type": "code",
      "metadata": {
        "id": "FCy_iKoLwZWH",
        "colab_type": "code",
        "outputId": "4f362236-c65d-4fe2-a9c7-1f1b084da16a",
        "colab": {
          "base_uri": "https://localhost:8080/",
          "height": 734
        }
      },
      "source": [
        "dataset"
      ],
      "execution_count": 8,
      "outputs": [
        {
          "output_type": "execute_result",
          "data": {
            "text/plain": [
              "{'data': {'customer_id': array([b'13986323', b'50574716', b'50593972', ..., b'40719682',\n",
              "         b'35596948', b'29430209'], dtype=object),\n",
              "  'helpful_votes': array([0, 3, 0, ..., 0, 0, 0], dtype=int32),\n",
              "  'marketplace': array([b'US', b'US', b'US', ..., b'US', b'US', b'US'], dtype=object),\n",
              "  'product_category': array([b'Personal_Care_Appliances', b'Personal_Care_Appliances',\n",
              "         b'Personal_Care_Appliances', ..., b'Personal_Care_Appliances',\n",
              "         b'Personal_Care_Appliances', b'Personal_Care_Appliances'],\n",
              "        dtype=object),\n",
              "  'product_id': array([b'B00847JQZ6', b'B00N5HD340', b'B0077L1X24', ..., b'B000UZ8X2W',\n",
              "         b'B000NURPPK', b'B001EY5GNW'], dtype=object),\n",
              "  'product_parent': array([b'997683625', b'955577225', b'120764066', ..., b'96066145',\n",
              "         b'58591097', b'986877728'], dtype=object),\n",
              "  'product_title': array([b'SE - Reading Glass - Spring Loaded Hinges, 4.0x - RTS62400',\n",
              "         b'Straight Razor',\n",
              "         b'Philips Sonicare Flexcare & Healthy White Plastic Travel Handle Case New Bulk Package',\n",
              "         ...,\n",
              "         b'Remington R-9200 Microflex Ultra TCT Shaver [Health and Beauty]',\n",
              "         b'SUNBEAM Cool Mist HUMIDIFIER with PermaFilter # 1120 \\xe2\\x80\\x93 1 Ea',\n",
              "         b'Andis Blade Set for T-Outliner Trimmer'], dtype=object),\n",
              "  'review_body': array([b\"These glasses are an excellent value.  The fit is good and they are very comfortable.  Because of my legal blindness, there aren't a lot of options to try to see better, but I believe these help with my other visual aids, and because they are reasonably priced I can have more than one pair available.\",\n",
              "         b\"Always wanted to try straight razor shaving (as a DE safety razor user), and this was a cheap way for me to determine I was not into it.<br /><br />Because the blades are disposable and always sharp, I could put a new one in and reasonably rely upon that fact that cuts were probably due to my technique and not the blade.<br /><br />It's very hard to do straight razor shaving on yourself because the ANGLE is difficult to control without switching hands. Being very right-handed, I really couldn't do that. I bet I could shave someone else's face with it though.<br /><br />An immediate upside? Using a DE safety razor (slant edged even) seems SUPER safe now! I'm increased my speed with the DE due to that confidence, and I'd been using it for years now.\",\n",
              "         b'I usually either throw my toothbrush in a plastic bag with spare head so this product is very convenient for keeping all the parts apart, dry and undamaged, and i now keep it in my travel bag all the time ready to go.',\n",
              "         ...,\n",
              "         b\"I have had a Remington before but needed a new one when the batteries died and the cutters were all but gone.  It was cheaper to buy a new one.  The new one has a nice charge level but the trimmer didn't work when I got it.\",\n",
              "         b\"I was surprised that it really didn't do much compared to the 1950s version that I'd inherited. Keeping a wet wash cloth next to my bed for when I start coughing in the middle of the night works better.\",\n",
              "         b'The blades were an excellent fit for my T-line trimmers.  Within five minutes I had my trimmers cleaned, the blades installed, and was putting them to use.  I saw the blades in several locations for almost twice the price I paid, so this worked out to be an awesome deal.'],\n",
              "        dtype=object),\n",
              "  'review_date': array([b'2015-01-04', b'2015-08-05', b'2012-11-17', ..., b'2008-02-08',\n",
              "         b'2007-09-07', b'2012-07-26'], dtype=object),\n",
              "  'review_headline': array([b'These glasses are an excellent value. The fit is good and they are ...',\n",
              "         b'A fantastic way to cheaply try straight razor shaving.',\n",
              "         b'Great for travel', ..., b'Trimmer Not Working',\n",
              "         b'Loud and ineffectual', b'Excellent product, awesomoe price'],\n",
              "        dtype=object),\n",
              "  'review_id': array([b'R3VEUFVA9QJY55', b'R2DTQV5SMJ0CK7', b'R3OJ06NK99WLNJ', ...,\n",
              "         b'R1ZQ0XZXOD9N18', b'R1FJ9OU429X00Y', b'RI28R1W94N1R6'],\n",
              "        dtype=object),\n",
              "  'star_rating': array([4, 5, 4, ..., 3, 2, 5], dtype=int32),\n",
              "  'total_votes': array([0, 3, 0, ..., 0, 0, 0], dtype=int32),\n",
              "  'verified_purchase': array([0, 0, 0, ..., 1, 0, 0]),\n",
              "  'vine': array([1, 1, 1, ..., 1, 1, 1])}}"
            ]
          },
          "metadata": {
            "tags": []
          },
          "execution_count": 8
        }
      ]
    },
    {
      "cell_type": "code",
      "metadata": {
        "id": "F1pGPYGcoLNz",
        "colab_type": "code",
        "colab": {}
      },
      "source": [
        "helpful_votes=dataset['data']['helpful_votes']\n",
        "review_headline=dataset['data']['review_headline']\n",
        "review_body=dataset['data']['review_body']\n",
        "rating=dataset['data']['star_rating']"
      ],
      "execution_count": 0,
      "outputs": []
    },
    {
      "cell_type": "code",
      "metadata": {
        "id": "DmS7qQuCoLGF",
        "colab_type": "code",
        "outputId": "6bcfe92e-6d26-4107-94aa-0f5d47229597",
        "colab": {
          "base_uri": "https://localhost:8080/",
          "height": 34
        }
      },
      "source": [
        "h2o_df=h2o.H2OFrame(np.hstack((helpful_votes[:,None],review_headline[:,None],review_body[:,None],rating[:,None])),column_names=['votes','headline','reviews','rating'],column_types=['numeric','string','string','numeric'])"
      ],
      "execution_count": 10,
      "outputs": [
        {
          "output_type": "stream",
          "text": [
            "Parse progress: |█████████████████████████████████████████████████████████| 100%\n"
          ],
          "name": "stdout"
        }
      ]
    },
    {
      "cell_type": "code",
      "metadata": {
        "id": "AsmO113-vaVY",
        "colab_type": "code",
        "outputId": "eeba4d92-5191-4362-c543-3a3b629a6da3",
        "colab": {
          "base_uri": "https://localhost:8080/",
          "height": 794
        }
      },
      "source": [
        "h2o_df"
      ],
      "execution_count": 11,
      "outputs": [
        {
          "output_type": "display_data",
          "data": {
            "text/html": [
              "<table>\n",
              "<thead>\n",
              "<tr><th style=\"text-align: right;\">  votes</th><th>headline                                                                 </th><th>reviews                                                                                                                                                                                                                                                                                                                                                                                                                                                                                                                                                                                                                                                                                                                                                                                                                                                                                                                                                                                                                                                                                                                           </th><th style=\"text-align: right;\">  rating</th></tr>\n",
              "</thead>\n",
              "<tbody>\n",
              "<tr><td style=\"text-align: right;\">      0</td><td>b&#x27;These glasses are an excellent value. The fit is good and they are ...&#x27;</td><td>b&quot;These glasses are an excellent value.  The fit is good and they are very comfortable.  Because of my legal blindness, there aren&#x27;t a lot of options to try to see better, but I believe these help with my other visual aids, and because they are reasonably priced I can have more than one pair available.&quot;                                                                                                                                                                                                                                                                                                                                                                                                                                                                                                                                                                                                                                                                                                                                                                                                                  </td><td style=\"text-align: right;\">       4</td></tr>\n",
              "<tr><td style=\"text-align: right;\">      3</td><td>b&#x27;A fantastic way to cheaply try straight razor shaving.&#x27;                </td><td>b&quot;Always wanted to try straight razor shaving (as a DE safety razor user), and this was a cheap way for me to determine I was not into it.&lt;br /&gt;&lt;br /&gt;Because the blades are disposable and always sharp, I could put a new one in and reasonably rely upon that fact that cuts were probably due to my technique and not the blade.&lt;br /&gt;&lt;br /&gt;It&#x27;s very hard to do straight razor shaving on yourself because the ANGLE is difficult to control without switching hands. Being very right-handed, I really couldn&#x27;t do that. I bet I could shave someone else&#x27;s face with it though.&lt;br /&gt;&lt;br /&gt;An immediate upside? Using a DE safety razor (slant edged even) seems SUPER safe now! I&#x27;m increased my speed with the DE due to that confidence, and I&#x27;d been using it for years now.&quot;                                                                                                                                                                                                                                                                                                                                          </td><td style=\"text-align: right;\">       5</td></tr>\n",
              "<tr><td style=\"text-align: right;\">      0</td><td>b&#x27;Great for travel&#x27;                                                      </td><td>b&#x27;I usually either throw my toothbrush in a plastic bag with spare head so this product is very convenient for keeping all the parts apart, dry and undamaged, and i now keep it in my travel bag all the time ready to go.&#x27;                                                                                                                                                                                                                                                                                                                                                                                                                                                                                                                                                                                                                                                                                                                                                                                                                                                                                                      </td><td style=\"text-align: right;\">       4</td></tr>\n",
              "<tr><td style=\"text-align: right;\">      0</td><td>b&#x27;Five Stars&#x27;                                                            </td><td>b&#x27;Top quality.&#x27;                                                                                                                                                                                                                                                                                                                                                                                                                                                                                                                                                                                                                                                                                                                                                                                                                                                                                                                                                                                                                                                                                                                   </td><td style=\"text-align: right;\">       5</td></tr>\n",
              "<tr><td style=\"text-align: right;\">      1</td><td>b&#x27;*Product sent not as shown&#x27;                                            </td><td>b&#x27;Today I received  1 Fl. Oz, Natures Balance AlkaMAX alkaline booster liquid unflavored (formally TriMedica) a glass brown bottle with eye dropper.&lt;br /&gt;Supplement Facts; Serving Size: 10 Drops (Approx. 0.5 mL). Servings per Container: Approx. 60&lt;br /&gt;Amount Per Serving % Daily Value&lt;br /&gt;Magnesium (as Magnesium Chloride) 40 mg 10%&lt;br /&gt;Chloride (as Magnesium Chloride) 64 mg 2%&lt;br /&gt;Other Ingredients: Deionized water and trace mineral complex.&lt;br /&gt;Directions: Add 10 drops to 8 oz. of water or other beverage daily as needed or as directed by your health care practitioner. Store in a cool, dry place.&lt;br /&gt;&lt;br /&gt;I have not used product as of yet with changed ingredients of original/as shown in AlkaMax alkaline support white squeeze bottle.&lt;br /&gt;but had to rate to post...heck this new may be better for all I know.&#x27;                                                                                                                                                                                                                                                                          </td><td style=\"text-align: right;\">       3</td></tr>\n",
              "<tr><td style=\"text-align: right;\">      6</td><td>b&#x27;Seems to work well!&#x27;                                                   </td><td>b&#x27;I recently picked this unit up at Bed and Bath where it was $99.00. With a 20% coupon the price was $80 (so comparison shop!) It\\&#x27;s easy to use and seems to work well. I agree with other reviewers about the noise level (loud like a tea kettle boiling), but I use this unit in the living room area so sleeping is not an issue. Having the 2 separate water reservoirs to fill is much easier, weight-wise, as I previously had another humidifier which had one large water reservoir and it was very heavy when full. The unit comes apart quite easily for cleaning and since frequent cleaning is recommended (I usually do it 1x per week, not daily) this is a definite plus. Additionally, one only needs to use vinegar to clean the inside reservoir, which is a lot cheaper than having to buy some kind of \\\\\\\\&quot;special\\\\\\\\&quot; cleaning solution. My one complaint is that it doesn\\&#x27;t, but should, have an automatic shut off when both tanks are empty.I have to remember to turn the unit off when I leave the house. My previous humidifiers all had this auto turn off; seems like every humidifier should.&#x27;</td><td style=\"text-align: right;\">       4</td></tr>\n",
              "<tr><td style=\"text-align: right;\">      8</td><td>b&#x27;deep heat?????&#x27;                                                        </td><td>b&#x27;Not sure what previous reviewer was talking about. The product uses ULTRASOUND waves for pain relief NOT heat.  After repeated use, the pain in my knee and shoulder was feeling great. I think you should re-read the description and reconsider your opinion. Great product sold by a great company.&#x27;                                                                                                                                                                                                                                                                                                                                                                                                                                                                                                                                                                                                                                                                                                                                                                                                                         </td><td style=\"text-align: right;\">       5</td></tr>\n",
              "<tr><td style=\"text-align: right;\">      2</td><td>b&#x27;Thermometer for a toddler&#x27;                                             </td><td>b&quot;The shippers were great....willing to consider speedier shipping options, but in the end the standard shipping arrived quickly enough. The thermometer is fun and easy to use, but with an inquisitive toddler, it would be nice to have the plastic cap attached to the body so that it doesn&#x27;t disappear.  Would buy it again from these sellers.&quot;                                                                                                                                                                                                                                                                                                                                                                                                                                                                                                                                                                                                                                                                                                                                                                            </td><td style=\"text-align: right;\">       4</td></tr>\n",
              "<tr><td style=\"text-align: right;\">      2</td><td>b&#x27;Wow!&#x27;                                                                  </td><td>b&quot;Man, for all you who know what I&#x27;m talking about, this is the best thing I&#x27;ve ever had on my back.  I suffer from back pain constantly and find myself waking up in the middle of the night pushing parts of my back and neck on the edges of walls on the corners of doors and sometimes lying down on tennis or racket balls to get pressure on those dang trigger points.  I opted for the body sticks package not knowing what they would do and it was a good thing.  They are like have racket balls on the ends of sticks to beat your muscle spasms and to lie down on them rolling around on your back. It is worth the money.  They use a device similar to this in physical therapy so if you get your doctor to write you a script for it, insurance may very well pay for it like mine did.  Even so, paid or not, buy this sucker.  Buy two, I thought, just in case it breaks and they for some reason stop manufacturing this thing.  Good stuff.&quot;                                                                                                                                                              </td><td style=\"text-align: right;\">       5</td></tr>\n",
              "<tr><td style=\"text-align: right;\">      1</td><td>b&#x27;Great cane for people with hand and wrist issues&#x27;                      </td><td>b&quot;I purchased this cane to assist me when I have to walk long distances.  I have rheumatoid arthritis that has particularly affected my low back and hips, and it sometimes makes walking difficult.  The problem with using a cane when you have RA is that RA doesn&#x27;t just affect your lower extremities.  My hands, wrists, and shoulders are also affected.  When I tried a normal cane, it was agonizingly painful for my hand and wrist in particular.  That made it not worth using, even though it did help my hip and back.  A friend with similar issues recommended this one, and the difference was amazing.  It is still a bit hard on my hand after awhile, but not to the point that would make it not worth using.  There really is no perfect solution for this circumstance short of a wheelchair, and I&#x27;m nowhere near ready for that yet!  The forearm rest makes it bearable to use this cane, and it does really help me to walk longer distances when I need to!  It is a great product, and I&#x27;m happy that I purchased it!&quot;                                                                               </td><td style=\"text-align: right;\">       4</td></tr>\n",
              "</tbody>\n",
              "</table>"
            ]
          },
          "metadata": {
            "tags": []
          }
        },
        {
          "output_type": "execute_result",
          "data": {
            "text/plain": [
              ""
            ]
          },
          "metadata": {
            "tags": []
          },
          "execution_count": 11
        }
      ]
    },
    {
      "cell_type": "code",
      "metadata": {
        "id": "ydJ-TzNZvaHR",
        "colab_type": "code",
        "colab": {}
      },
      "source": [
        "h2o_df[\"target\"] = (h2o_df[\"rating\"] >= 4).ifelse(\"1\", \"0\")"
      ],
      "execution_count": 0,
      "outputs": []
    },
    {
      "cell_type": "code",
      "metadata": {
        "id": "nZOZarx4GGX3",
        "colab_type": "code",
        "outputId": "c1c7558b-87f2-48bb-dbf1-1933d0c5d39c",
        "colab": {
          "base_uri": "https://localhost:8080/",
          "height": 845
        }
      },
      "source": [
        "h2o_df"
      ],
      "execution_count": 14,
      "outputs": [
        {
          "output_type": "display_data",
          "data": {
            "text/html": [
              "<table>\n",
              "<thead>\n",
              "<tr><th style=\"text-align: right;\">  votes</th><th>headline                                                                 </th><th>reviews                                                                                                                                                                                                                                                                                                                                                                                                                                                                                                                                                                                                                                                                                                                                                                                                                                                                                                                                                                                                                                                                                                                           </th><th style=\"text-align: right;\">  rating</th><th style=\"text-align: right;\">  target</th></tr>\n",
              "</thead>\n",
              "<tbody>\n",
              "<tr><td style=\"text-align: right;\">      0</td><td>b&#x27;These glasses are an excellent value. The fit is good and they are ...&#x27;</td><td>b&quot;These glasses are an excellent value.  The fit is good and they are very comfortable.  Because of my legal blindness, there aren&#x27;t a lot of options to try to see better, but I believe these help with my other visual aids, and because they are reasonably priced I can have more than one pair available.&quot;                                                                                                                                                                                                                                                                                                                                                                                                                                                                                                                                                                                                                                                                                                                                                                                                                  </td><td style=\"text-align: right;\">       4</td><td style=\"text-align: right;\">       1</td></tr>\n",
              "<tr><td style=\"text-align: right;\">      3</td><td>b&#x27;A fantastic way to cheaply try straight razor shaving.&#x27;                </td><td>b&quot;Always wanted to try straight razor shaving (as a DE safety razor user), and this was a cheap way for me to determine I was not into it.&lt;br /&gt;&lt;br /&gt;Because the blades are disposable and always sharp, I could put a new one in and reasonably rely upon that fact that cuts were probably due to my technique and not the blade.&lt;br /&gt;&lt;br /&gt;It&#x27;s very hard to do straight razor shaving on yourself because the ANGLE is difficult to control without switching hands. Being very right-handed, I really couldn&#x27;t do that. I bet I could shave someone else&#x27;s face with it though.&lt;br /&gt;&lt;br /&gt;An immediate upside? Using a DE safety razor (slant edged even) seems SUPER safe now! I&#x27;m increased my speed with the DE due to that confidence, and I&#x27;d been using it for years now.&quot;                                                                                                                                                                                                                                                                                                                                          </td><td style=\"text-align: right;\">       5</td><td style=\"text-align: right;\">       1</td></tr>\n",
              "<tr><td style=\"text-align: right;\">      0</td><td>b&#x27;Great for travel&#x27;                                                      </td><td>b&#x27;I usually either throw my toothbrush in a plastic bag with spare head so this product is very convenient for keeping all the parts apart, dry and undamaged, and i now keep it in my travel bag all the time ready to go.&#x27;                                                                                                                                                                                                                                                                                                                                                                                                                                                                                                                                                                                                                                                                                                                                                                                                                                                                                                      </td><td style=\"text-align: right;\">       4</td><td style=\"text-align: right;\">       1</td></tr>\n",
              "<tr><td style=\"text-align: right;\">      0</td><td>b&#x27;Five Stars&#x27;                                                            </td><td>b&#x27;Top quality.&#x27;                                                                                                                                                                                                                                                                                                                                                                                                                                                                                                                                                                                                                                                                                                                                                                                                                                                                                                                                                                                                                                                                                                                   </td><td style=\"text-align: right;\">       5</td><td style=\"text-align: right;\">       1</td></tr>\n",
              "<tr><td style=\"text-align: right;\">      1</td><td>b&#x27;*Product sent not as shown&#x27;                                            </td><td>b&#x27;Today I received  1 Fl. Oz, Natures Balance AlkaMAX alkaline booster liquid unflavored (formally TriMedica) a glass brown bottle with eye dropper.&lt;br /&gt;Supplement Facts; Serving Size: 10 Drops (Approx. 0.5 mL). Servings per Container: Approx. 60&lt;br /&gt;Amount Per Serving % Daily Value&lt;br /&gt;Magnesium (as Magnesium Chloride) 40 mg 10%&lt;br /&gt;Chloride (as Magnesium Chloride) 64 mg 2%&lt;br /&gt;Other Ingredients: Deionized water and trace mineral complex.&lt;br /&gt;Directions: Add 10 drops to 8 oz. of water or other beverage daily as needed or as directed by your health care practitioner. Store in a cool, dry place.&lt;br /&gt;&lt;br /&gt;I have not used product as of yet with changed ingredients of original/as shown in AlkaMax alkaline support white squeeze bottle.&lt;br /&gt;but had to rate to post...heck this new may be better for all I know.&#x27;                                                                                                                                                                                                                                                                          </td><td style=\"text-align: right;\">       3</td><td style=\"text-align: right;\">       0</td></tr>\n",
              "<tr><td style=\"text-align: right;\">      6</td><td>b&#x27;Seems to work well!&#x27;                                                   </td><td>b&#x27;I recently picked this unit up at Bed and Bath where it was $99.00. With a 20% coupon the price was $80 (so comparison shop!) It\\&#x27;s easy to use and seems to work well. I agree with other reviewers about the noise level (loud like a tea kettle boiling), but I use this unit in the living room area so sleeping is not an issue. Having the 2 separate water reservoirs to fill is much easier, weight-wise, as I previously had another humidifier which had one large water reservoir and it was very heavy when full. The unit comes apart quite easily for cleaning and since frequent cleaning is recommended (I usually do it 1x per week, not daily) this is a definite plus. Additionally, one only needs to use vinegar to clean the inside reservoir, which is a lot cheaper than having to buy some kind of \\\\\\\\&quot;special\\\\\\\\&quot; cleaning solution. My one complaint is that it doesn\\&#x27;t, but should, have an automatic shut off when both tanks are empty.I have to remember to turn the unit off when I leave the house. My previous humidifiers all had this auto turn off; seems like every humidifier should.&#x27;</td><td style=\"text-align: right;\">       4</td><td style=\"text-align: right;\">       1</td></tr>\n",
              "<tr><td style=\"text-align: right;\">      8</td><td>b&#x27;deep heat?????&#x27;                                                        </td><td>b&#x27;Not sure what previous reviewer was talking about. The product uses ULTRASOUND waves for pain relief NOT heat.  After repeated use, the pain in my knee and shoulder was feeling great. I think you should re-read the description and reconsider your opinion. Great product sold by a great company.&#x27;                                                                                                                                                                                                                                                                                                                                                                                                                                                                                                                                                                                                                                                                                                                                                                                                                         </td><td style=\"text-align: right;\">       5</td><td style=\"text-align: right;\">       1</td></tr>\n",
              "<tr><td style=\"text-align: right;\">      2</td><td>b&#x27;Thermometer for a toddler&#x27;                                             </td><td>b&quot;The shippers were great....willing to consider speedier shipping options, but in the end the standard shipping arrived quickly enough. The thermometer is fun and easy to use, but with an inquisitive toddler, it would be nice to have the plastic cap attached to the body so that it doesn&#x27;t disappear.  Would buy it again from these sellers.&quot;                                                                                                                                                                                                                                                                                                                                                                                                                                                                                                                                                                                                                                                                                                                                                                            </td><td style=\"text-align: right;\">       4</td><td style=\"text-align: right;\">       1</td></tr>\n",
              "<tr><td style=\"text-align: right;\">      2</td><td>b&#x27;Wow!&#x27;                                                                  </td><td>b&quot;Man, for all you who know what I&#x27;m talking about, this is the best thing I&#x27;ve ever had on my back.  I suffer from back pain constantly and find myself waking up in the middle of the night pushing parts of my back and neck on the edges of walls on the corners of doors and sometimes lying down on tennis or racket balls to get pressure on those dang trigger points.  I opted for the body sticks package not knowing what they would do and it was a good thing.  They are like have racket balls on the ends of sticks to beat your muscle spasms and to lie down on them rolling around on your back. It is worth the money.  They use a device similar to this in physical therapy so if you get your doctor to write you a script for it, insurance may very well pay for it like mine did.  Even so, paid or not, buy this sucker.  Buy two, I thought, just in case it breaks and they for some reason stop manufacturing this thing.  Good stuff.&quot;                                                                                                                                                              </td><td style=\"text-align: right;\">       5</td><td style=\"text-align: right;\">       1</td></tr>\n",
              "<tr><td style=\"text-align: right;\">      1</td><td>b&#x27;Great cane for people with hand and wrist issues&#x27;                      </td><td>b&quot;I purchased this cane to assist me when I have to walk long distances.  I have rheumatoid arthritis that has particularly affected my low back and hips, and it sometimes makes walking difficult.  The problem with using a cane when you have RA is that RA doesn&#x27;t just affect your lower extremities.  My hands, wrists, and shoulders are also affected.  When I tried a normal cane, it was agonizingly painful for my hand and wrist in particular.  That made it not worth using, even though it did help my hip and back.  A friend with similar issues recommended this one, and the difference was amazing.  It is still a bit hard on my hand after awhile, but not to the point that would make it not worth using.  There really is no perfect solution for this circumstance short of a wheelchair, and I&#x27;m nowhere near ready for that yet!  The forearm rest makes it bearable to use this cane, and it does really help me to walk longer distances when I need to!  It is a great product, and I&#x27;m happy that I purchased it!&quot;                                                                               </td><td style=\"text-align: right;\">       4</td><td style=\"text-align: right;\">       1</td></tr>\n",
              "</tbody>\n",
              "</table>"
            ]
          },
          "metadata": {
            "tags": []
          }
        },
        {
          "output_type": "execute_result",
          "data": {
            "text/plain": [
              ""
            ]
          },
          "metadata": {
            "tags": []
          },
          "execution_count": 14
        }
      ]
    },
    {
      "cell_type": "code",
      "metadata": {
        "id": "SbU4KHtEyJdM",
        "colab_type": "code",
        "outputId": "5be92a63-d900-4ddb-f4eb-e0aabd63d8d6",
        "colab": {
          "base_uri": "https://localhost:8080/",
          "height": 34
        }
      },
      "source": [
        "h2o_df.shape[0]"
      ],
      "execution_count": 15,
      "outputs": [
        {
          "output_type": "execute_result",
          "data": {
            "text/plain": [
              "85981"
            ]
          },
          "metadata": {
            "tags": []
          },
          "execution_count": 15
        }
      ]
    },
    {
      "cell_type": "code",
      "metadata": {
        "id": "f1p0u2X8yJaX",
        "colab_type": "code",
        "outputId": "79ec4be2-3092-4ebe-934c-bc1717d6c809",
        "colab": {
          "base_uri": "https://localhost:8080/",
          "height": 82
        }
      },
      "source": [
        "h2o_df[\"target\"].table()"
      ],
      "execution_count": 16,
      "outputs": [
        {
          "output_type": "display_data",
          "data": {
            "text/html": [
              "<table>\n",
              "<thead>\n",
              "<tr><th style=\"text-align: right;\">  target</th><th style=\"text-align: right;\">  Count</th></tr>\n",
              "</thead>\n",
              "<tbody>\n",
              "<tr><td style=\"text-align: right;\">       0</td><td style=\"text-align: right;\">  23427</td></tr>\n",
              "<tr><td style=\"text-align: right;\">       1</td><td style=\"text-align: right;\">  62554</td></tr>\n",
              "</tbody>\n",
              "</table>"
            ]
          },
          "metadata": {
            "tags": []
          }
        },
        {
          "output_type": "execute_result",
          "data": {
            "text/plain": [
              ""
            ]
          },
          "metadata": {
            "tags": []
          },
          "execution_count": 16
        }
      ]
    },
    {
      "cell_type": "code",
      "metadata": {
        "id": "1dSVG5FhZLI9",
        "colab_type": "code",
        "outputId": "826f1682-171f-47ce-ef37-cc2d1e0d9aa5",
        "colab": {
          "base_uri": "https://localhost:8080/",
          "height": 1000
        }
      },
      "source": [
        "h2o_df.describe()"
      ],
      "execution_count": 17,
      "outputs": [
        {
          "output_type": "stream",
          "text": [
            "Rows:85981\n",
            "Cols:5\n",
            "\n",
            "\n"
          ],
          "name": "stdout"
        },
        {
          "output_type": "display_data",
          "data": {
            "text/html": [
              "<table>\n",
              "<thead>\n",
              "<tr><th>       </th><th>votes             </th><th>headline                                                                 </th><th>reviews                                                                                                                                                                                                                                                                                                                                                                                                                                                                                                                                                                                                                                                                                                                                                                                                                                                                                                                                                                                                                                                                                                                           </th><th>rating           </th><th>target  </th></tr>\n",
              "</thead>\n",
              "<tbody>\n",
              "<tr><td>type   </td><td>int               </td><td>string                                                                   </td><td>string                                                                                                                                                                                                                                                                                                                                                                                                                                                                                                                                                                                                                                                                                                                                                                                                                                                                                                                                                                                                                                                                                                                            </td><td>int              </td><td>enum    </td></tr>\n",
              "<tr><td>mins   </td><td>0.0               </td><td>NaN                                                                      </td><td>NaN                                                                                                                                                                                                                                                                                                                                                                                                                                                                                                                                                                                                                                                                                                                                                                                                                                                                                                                                                                                                                                                                                                                               </td><td>1.0              </td><td>        </td></tr>\n",
              "<tr><td>mean   </td><td>3.3494841883672   </td><td>NaN                                                                      </td><td>NaN                                                                                                                                                                                                                                                                                                                                                                                                                                                                                                                                                                                                                                                                                                                                                                                                                                                                                                                                                                                                                                                                                                                               </td><td>3.977401984159291</td><td>        </td></tr>\n",
              "<tr><td>maxs   </td><td>2785.0            </td><td>NaN                                                                      </td><td>NaN                                                                                                                                                                                                                                                                                                                                                                                                                                                                                                                                                                                                                                                                                                                                                                                                                                                                                                                                                                                                                                                                                                                               </td><td>5.0              </td><td>        </td></tr>\n",
              "<tr><td>sigma  </td><td>19.483167220712946</td><td>NaN                                                                      </td><td>NaN                                                                                                                                                                                                                                                                                                                                                                                                                                                                                                                                                                                                                                                                                                                                                                                                                                                                                                                                                                                                                                                                                                                               </td><td>1.433130291971473</td><td>        </td></tr>\n",
              "<tr><td>zeros  </td><td>44555             </td><td>0                                                                        </td><td>0                                                                                                                                                                                                                                                                                                                                                                                                                                                                                                                                                                                                                                                                                                                                                                                                                                                                                                                                                                                                                                                                                                                                 </td><td>0                </td><td>        </td></tr>\n",
              "<tr><td>missing</td><td>0                 </td><td>0                                                                        </td><td>0                                                                                                                                                                                                                                                                                                                                                                                                                                                                                                                                                                                                                                                                                                                                                                                                                                                                                                                                                                                                                                                                                                                                 </td><td>0                </td><td>0       </td></tr>\n",
              "<tr><td>0      </td><td>0.0               </td><td>b&#x27;These glasses are an excellent value. The fit is good and they are ...&#x27;</td><td>b&quot;These glasses are an excellent value.  The fit is good and they are very comfortable.  Because of my legal blindness, there aren&#x27;t a lot of options to try to see better, but I believe these help with my other visual aids, and because they are reasonably priced I can have more than one pair available.&quot;                                                                                                                                                                                                                                                                                                                                                                                                                                                                                                                                                                                                                                                                                                                                                                                                                  </td><td>4.0              </td><td>1       </td></tr>\n",
              "<tr><td>1      </td><td>3.0               </td><td>b&#x27;A fantastic way to cheaply try straight razor shaving.&#x27;                </td><td>b&quot;Always wanted to try straight razor shaving (as a DE safety razor user), and this was a cheap way for me to determine I was not into it.&lt;br /&gt;&lt;br /&gt;Because the blades are disposable and always sharp, I could put a new one in and reasonably rely upon that fact that cuts were probably due to my technique and not the blade.&lt;br /&gt;&lt;br /&gt;It&#x27;s very hard to do straight razor shaving on yourself because the ANGLE is difficult to control without switching hands. Being very right-handed, I really couldn&#x27;t do that. I bet I could shave someone else&#x27;s face with it though.&lt;br /&gt;&lt;br /&gt;An immediate upside? Using a DE safety razor (slant edged even) seems SUPER safe now! I&#x27;m increased my speed with the DE due to that confidence, and I&#x27;d been using it for years now.&quot;                                                                                                                                                                                                                                                                                                                                          </td><td>5.0              </td><td>1       </td></tr>\n",
              "<tr><td>2      </td><td>0.0               </td><td>b&#x27;Great for travel&#x27;                                                      </td><td>b&#x27;I usually either throw my toothbrush in a plastic bag with spare head so this product is very convenient for keeping all the parts apart, dry and undamaged, and i now keep it in my travel bag all the time ready to go.&#x27;                                                                                                                                                                                                                                                                                                                                                                                                                                                                                                                                                                                                                                                                                                                                                                                                                                                                                                      </td><td>4.0              </td><td>1       </td></tr>\n",
              "<tr><td>3      </td><td>0.0               </td><td>b&#x27;Five Stars&#x27;                                                            </td><td>b&#x27;Top quality.&#x27;                                                                                                                                                                                                                                                                                                                                                                                                                                                                                                                                                                                                                                                                                                                                                                                                                                                                                                                                                                                                                                                                                                                   </td><td>5.0              </td><td>1       </td></tr>\n",
              "<tr><td>4      </td><td>1.0               </td><td>b&#x27;*Product sent not as shown&#x27;                                            </td><td>b&#x27;Today I received  1 Fl. Oz, Natures Balance AlkaMAX alkaline booster liquid unflavored (formally TriMedica) a glass brown bottle with eye dropper.&lt;br /&gt;Supplement Facts; Serving Size: 10 Drops (Approx. 0.5 mL). Servings per Container: Approx. 60&lt;br /&gt;Amount Per Serving % Daily Value&lt;br /&gt;Magnesium (as Magnesium Chloride) 40 mg 10%&lt;br /&gt;Chloride (as Magnesium Chloride) 64 mg 2%&lt;br /&gt;Other Ingredients: Deionized water and trace mineral complex.&lt;br /&gt;Directions: Add 10 drops to 8 oz. of water or other beverage daily as needed or as directed by your health care practitioner. Store in a cool, dry place.&lt;br /&gt;&lt;br /&gt;I have not used product as of yet with changed ingredients of original/as shown in AlkaMax alkaline support white squeeze bottle.&lt;br /&gt;but had to rate to post...heck this new may be better for all I know.&#x27;                                                                                                                                                                                                                                                                          </td><td>3.0              </td><td>0       </td></tr>\n",
              "<tr><td>5      </td><td>6.0               </td><td>b&#x27;Seems to work well!&#x27;                                                   </td><td>b&#x27;I recently picked this unit up at Bed and Bath where it was $99.00. With a 20% coupon the price was $80 (so comparison shop!) It\\&#x27;s easy to use and seems to work well. I agree with other reviewers about the noise level (loud like a tea kettle boiling), but I use this unit in the living room area so sleeping is not an issue. Having the 2 separate water reservoirs to fill is much easier, weight-wise, as I previously had another humidifier which had one large water reservoir and it was very heavy when full. The unit comes apart quite easily for cleaning and since frequent cleaning is recommended (I usually do it 1x per week, not daily) this is a definite plus. Additionally, one only needs to use vinegar to clean the inside reservoir, which is a lot cheaper than having to buy some kind of \\\\\\\\&quot;special\\\\\\\\&quot; cleaning solution. My one complaint is that it doesn\\&#x27;t, but should, have an automatic shut off when both tanks are empty.I have to remember to turn the unit off when I leave the house. My previous humidifiers all had this auto turn off; seems like every humidifier should.&#x27;</td><td>4.0              </td><td>1       </td></tr>\n",
              "<tr><td>6      </td><td>8.0               </td><td>b&#x27;deep heat?????&#x27;                                                        </td><td>b&#x27;Not sure what previous reviewer was talking about. The product uses ULTRASOUND waves for pain relief NOT heat.  After repeated use, the pain in my knee and shoulder was feeling great. I think you should re-read the description and reconsider your opinion. Great product sold by a great company.&#x27;                                                                                                                                                                                                                                                                                                                                                                                                                                                                                                                                                                                                                                                                                                                                                                                                                         </td><td>5.0              </td><td>1       </td></tr>\n",
              "<tr><td>7      </td><td>2.0               </td><td>b&#x27;Thermometer for a toddler&#x27;                                             </td><td>b&quot;The shippers were great....willing to consider speedier shipping options, but in the end the standard shipping arrived quickly enough. The thermometer is fun and easy to use, but with an inquisitive toddler, it would be nice to have the plastic cap attached to the body so that it doesn&#x27;t disappear.  Would buy it again from these sellers.&quot;                                                                                                                                                                                                                                                                                                                                                                                                                                                                                                                                                                                                                                                                                                                                                                            </td><td>4.0              </td><td>1       </td></tr>\n",
              "<tr><td>8      </td><td>2.0               </td><td>b&#x27;Wow!&#x27;                                                                  </td><td>b&quot;Man, for all you who know what I&#x27;m talking about, this is the best thing I&#x27;ve ever had on my back.  I suffer from back pain constantly and find myself waking up in the middle of the night pushing parts of my back and neck on the edges of walls on the corners of doors and sometimes lying down on tennis or racket balls to get pressure on those dang trigger points.  I opted for the body sticks package not knowing what they would do and it was a good thing.  They are like have racket balls on the ends of sticks to beat your muscle spasms and to lie down on them rolling around on your back. It is worth the money.  They use a device similar to this in physical therapy so if you get your doctor to write you a script for it, insurance may very well pay for it like mine did.  Even so, paid or not, buy this sucker.  Buy two, I thought, just in case it breaks and they for some reason stop manufacturing this thing.  Good stuff.&quot;                                                                                                                                                              </td><td>5.0              </td><td>1       </td></tr>\n",
              "<tr><td>9      </td><td>1.0               </td><td>b&#x27;Great cane for people with hand and wrist issues&#x27;                      </td><td>b&quot;I purchased this cane to assist me when I have to walk long distances.  I have rheumatoid arthritis that has particularly affected my low back and hips, and it sometimes makes walking difficult.  The problem with using a cane when you have RA is that RA doesn&#x27;t just affect your lower extremities.  My hands, wrists, and shoulders are also affected.  When I tried a normal cane, it was agonizingly painful for my hand and wrist in particular.  That made it not worth using, even though it did help my hip and back.  A friend with similar issues recommended this one, and the difference was amazing.  It is still a bit hard on my hand after awhile, but not to the point that would make it not worth using.  There really is no perfect solution for this circumstance short of a wheelchair, and I&#x27;m nowhere near ready for that yet!  The forearm rest makes it bearable to use this cane, and it does really help me to walk longer distances when I need to!  It is a great product, and I&#x27;m happy that I purchased it!&quot;                                                                               </td><td>4.0              </td><td>1       </td></tr>\n",
              "</tbody>\n",
              "</table>"
            ]
          },
          "metadata": {
            "tags": []
          }
        }
      ]
    },
    {
      "cell_type": "code",
      "metadata": {
        "id": "eqGNG1soyJVD",
        "colab_type": "code",
        "outputId": "3ac35402-f0e5-4d72-c974-5a7787cefc3f",
        "colab": {
          "base_uri": "https://localhost:8080/",
          "height": 51
        }
      },
      "source": [
        "import nltk\n",
        "from nltk.corpus import stopwords\n",
        "nltk.download('stopwords')\n",
        "stop_words = set(stopwords.words('english'))"
      ],
      "execution_count": 18,
      "outputs": [
        {
          "output_type": "stream",
          "text": [
            "[nltk_data] Downloading package stopwords to /root/nltk_data...\n",
            "[nltk_data]   Unzipping corpora/stopwords.zip.\n"
          ],
          "name": "stdout"
        }
      ]
    },
    {
      "cell_type": "code",
      "metadata": {
        "id": "r4F49W-pyJI7",
        "colab_type": "code",
        "colab": {}
      },
      "source": [
        "def tokenize(line):\n",
        "  tokenized = line.tokenize(\"\\\\W+\")\n",
        "  tokenized = tokenized.tolower()\n",
        "  tokenized = tokenized[(tokenized.nchar() >= 2) | (tokenized.isna()),:]\n",
        "  tokenized_filter = tokenized[(tokenized.isna()) | (~ tokenized.isin(stop_words)),:]\n",
        "  return tokenized_filter"
      ],
      "execution_count": 0,
      "outputs": []
    },
    {
      "cell_type": "code",
      "metadata": {
        "id": "ZzZdLLdiG9j6",
        "colab_type": "code",
        "colab": {}
      },
      "source": [
        "words_reviews = tokenize(h2o_df[\"reviews\"])"
      ],
      "execution_count": 0,
      "outputs": []
    },
    {
      "cell_type": "code",
      "metadata": {
        "id": "bZA2YY0NWgb5",
        "colab_type": "code",
        "colab": {}
      },
      "source": [
        "words_headline = tokenize(h2o_df[\"headline\"])"
      ],
      "execution_count": 0,
      "outputs": []
    },
    {
      "cell_type": "code",
      "metadata": {
        "id": "iz_3SU51h2Et",
        "colab_type": "code",
        "outputId": "2faea0b3-ed7d-474a-b98b-24af9ffe76e7",
        "colab": {
          "base_uri": "https://localhost:8080/",
          "height": 250
        }
      },
      "source": [
        "words_reviews.head()"
      ],
      "execution_count": 22,
      "outputs": [
        {
          "output_type": "display_data",
          "data": {
            "text/html": [
              "<table>\n",
              "<thead>\n",
              "<tr><th>C1         </th></tr>\n",
              "</thead>\n",
              "<tbody>\n",
              "<tr><td>glasses    </td></tr>\n",
              "<tr><td>excellent  </td></tr>\n",
              "<tr><td>value      </td></tr>\n",
              "<tr><td>fit        </td></tr>\n",
              "<tr><td>good       </td></tr>\n",
              "<tr><td>comfortable</td></tr>\n",
              "<tr><td>legal      </td></tr>\n",
              "<tr><td>blindness  </td></tr>\n",
              "<tr><td>lot        </td></tr>\n",
              "<tr><td>options    </td></tr>\n",
              "</tbody>\n",
              "</table>"
            ]
          },
          "metadata": {
            "tags": []
          }
        },
        {
          "output_type": "execute_result",
          "data": {
            "text/plain": [
              ""
            ]
          },
          "metadata": {
            "tags": []
          },
          "execution_count": 22
        }
      ]
    },
    {
      "cell_type": "code",
      "metadata": {
        "id": "0N2rKpvfWS7h",
        "colab_type": "code",
        "outputId": "0d9d147a-93dc-4679-cf6f-d3c42b02d53c",
        "colab": {
          "base_uri": "https://localhost:8080/",
          "height": 233
        }
      },
      "source": [
        "words_headline.head()"
      ],
      "execution_count": 23,
      "outputs": [
        {
          "output_type": "display_data",
          "data": {
            "text/html": [
              "<table>\n",
              "<thead>\n",
              "<tr><th>C1       </th></tr>\n",
              "</thead>\n",
              "<tbody>\n",
              "<tr><td>glasses  </td></tr>\n",
              "<tr><td>excellent</td></tr>\n",
              "<tr><td>value    </td></tr>\n",
              "<tr><td>fit      </td></tr>\n",
              "<tr><td>good     </td></tr>\n",
              "<tr><td>         </td></tr>\n",
              "<tr><td>fantastic</td></tr>\n",
              "<tr><td>way      </td></tr>\n",
              "<tr><td>cheaply  </td></tr>\n",
              "<tr><td>try      </td></tr>\n",
              "</tbody>\n",
              "</table>"
            ]
          },
          "metadata": {
            "tags": []
          }
        },
        {
          "output_type": "execute_result",
          "data": {
            "text/plain": [
              ""
            ]
          },
          "metadata": {
            "tags": []
          },
          "execution_count": 23
        }
      ]
    },
    {
      "cell_type": "code",
      "metadata": {
        "id": "kUhlPUyzZJjj",
        "colab_type": "code",
        "outputId": "83c5d048-c478-470b-8567-5721fe231b36",
        "colab": {
          "base_uri": "https://localhost:8080/",
          "height": 34
        }
      },
      "source": [
        "words_reviews.shape"
      ],
      "execution_count": 24,
      "outputs": [
        {
          "output_type": "execute_result",
          "data": {
            "text/plain": [
              "(2797601, 1)"
            ]
          },
          "metadata": {
            "tags": []
          },
          "execution_count": 24
        }
      ]
    },
    {
      "cell_type": "code",
      "metadata": {
        "id": "WR_X8k8JG5B-",
        "colab_type": "code",
        "colab": {}
      },
      "source": [
        "from h2o.estimators.word2vec import H2OWord2vecEstimator\n",
        "from h2o.estimators import H2OGradientBoostingEstimator, H2OXGBoostEstimator"
      ],
      "execution_count": 0,
      "outputs": []
    },
    {
      "cell_type": "code",
      "metadata": {
        "id": "g5K-IodmG4_T",
        "colab_type": "code",
        "colab": {
          "base_uri": "https://localhost:8080/",
          "height": 34
        },
        "outputId": "471a662e-4207-491c-af95-3b564d3e5438"
      },
      "source": [
        "vec_model = H2OWord2vecEstimator(vec_size = 100, model_id = \"w2v_amazon.model\")\n",
        "vec_model.train(training_frame=words_reviews)"
      ],
      "execution_count": 26,
      "outputs": [
        {
          "output_type": "stream",
          "text": [
            "word2vec Model Build progress: |██████████████████████████████████████████| 100%\n"
          ],
          "name": "stdout"
        }
      ]
    },
    {
      "cell_type": "code",
      "metadata": {
        "id": "sG2A-UfXbfzD",
        "colab_type": "code",
        "colab": {
          "base_uri": "https://localhost:8080/",
          "height": 34
        },
        "outputId": "e120757e-c6ca-40b8-f5df-c157e1f30608"
      },
      "source": [
        "h2o.save_model(vec_model,path='./')"
      ],
      "execution_count": 27,
      "outputs": [
        {
          "output_type": "execute_result",
          "data": {
            "text/plain": [
              "'/content/w2v_amazon.model'"
            ]
          },
          "metadata": {
            "tags": []
          },
          "execution_count": 27
        }
      ]
    },
    {
      "cell_type": "code",
      "metadata": {
        "id": "AAgPN7hdZ3ME",
        "colab_type": "code",
        "colab": {}
      },
      "source": [
        "vec_model=h2o.load_model(\"w2v_amazon.model\")"
      ],
      "execution_count": 0,
      "outputs": []
    },
    {
      "cell_type": "code",
      "metadata": {
        "id": "sgZyEeLvG47p",
        "colab_type": "code",
        "colab": {
          "base_uri": "https://localhost:8080/",
          "height": 102
        },
        "outputId": "9a34fd9e-3a01-456f-a73c-5bdc97ef4047"
      },
      "source": [
        "vec_model.find_synonyms(\"perfumes\", count = 5)"
      ],
      "execution_count": 29,
      "outputs": [
        {
          "output_type": "execute_result",
          "data": {
            "text/plain": [
              "OrderedDict([('febreze', 0.7322924137115479),\n",
              "             ('scents', 0.7202752232551575),\n",
              "             ('patchouli', 0.7131341695785522),\n",
              "             ('woodsy', 0.7083836197853088),\n",
              "             ('perfumey', 0.7036765813827515)])"
            ]
          },
          "metadata": {
            "tags": []
          },
          "execution_count": 29
        }
      ]
    },
    {
      "cell_type": "code",
      "metadata": {
        "id": "3plvsgBfG44v",
        "colab_type": "code",
        "colab": {
          "base_uri": "https://localhost:8080/",
          "height": 102
        },
        "outputId": "eab03356-6c93-49f4-c1ba-dbf334a4f0f6"
      },
      "source": [
        "vec_model.find_synonyms(\"toothpaste\", count = 5)"
      ],
      "execution_count": 30,
      "outputs": [
        {
          "output_type": "execute_result",
          "data": {
            "text/plain": [
              "OrderedDict([('mouthwash', 0.7498927712440491),\n",
              "             ('listerine', 0.7291905283927917),\n",
              "             ('plax', 0.6929184794425964),\n",
              "             ('flossing', 0.6701614856719971),\n",
              "             ('mentadent', 0.6647133827209473)])"
            ]
          },
          "metadata": {
            "tags": []
          },
          "execution_count": 30
        }
      ]
    },
    {
      "cell_type": "code",
      "metadata": {
        "id": "PX2yFFJ1xzxo",
        "colab_type": "code",
        "colab": {
          "base_uri": "https://localhost:8080/",
          "height": 102
        },
        "outputId": "a43610ad-dd52-4916-bedb-d95bbcab79bc"
      },
      "source": [
        "vec_model.find_synonyms(\"glasses\", count = 5)"
      ],
      "execution_count": 31,
      "outputs": [
        {
          "output_type": "execute_result",
          "data": {
            "text/plain": [
              "OrderedDict([('sunglasses', 0.9028146862983704),\n",
              "             ('readers', 0.864093542098999),\n",
              "             ('bifocals', 0.8295707702636719),\n",
              "             ('bifocal', 0.7995365262031555),\n",
              "             ('lenses', 0.7765867710113525)])"
            ]
          },
          "metadata": {
            "tags": []
          },
          "execution_count": 31
        }
      ]
    },
    {
      "cell_type": "code",
      "metadata": {
        "id": "GYgnJp7BG40n",
        "colab_type": "code",
        "colab": {}
      },
      "source": [
        "review_vecs = vec_model.transform(words_reviews, aggregate_method = \"AVERAGE\")"
      ],
      "execution_count": 0,
      "outputs": []
    },
    {
      "cell_type": "code",
      "metadata": {
        "id": "t3mnSozFcM5e",
        "colab_type": "code",
        "colab": {
          "base_uri": "https://localhost:8080/",
          "height": 34
        },
        "outputId": "946b3265-211b-4222-aba0-83e31e89b1da"
      },
      "source": [
        "review_vecs.shape"
      ],
      "execution_count": 33,
      "outputs": [
        {
          "output_type": "execute_result",
          "data": {
            "text/plain": [
              "(85981, 100)"
            ]
          },
          "metadata": {
            "tags": []
          },
          "execution_count": 33
        }
      ]
    },
    {
      "cell_type": "code",
      "metadata": {
        "id": "Ma2yfQe6OGFJ",
        "colab_type": "code",
        "colab": {
          "base_uri": "https://localhost:8080/",
          "height": 287
        },
        "outputId": "b284bd1d-dd9e-4854-9d42-f62c66d4ead3"
      },
      "source": [
        "review_vecs.head()"
      ],
      "execution_count": 34,
      "outputs": [
        {
          "output_type": "display_data",
          "data": {
            "text/html": [
              "<table>\n",
              "<thead>\n",
              "<tr><th style=\"text-align: right;\">         C1</th><th style=\"text-align: right;\">        C2</th><th style=\"text-align: right;\">        C3</th><th style=\"text-align: right;\">        C4</th><th style=\"text-align: right;\">        C5</th><th style=\"text-align: right;\">        C6</th><th style=\"text-align: right;\">          C7</th><th style=\"text-align: right;\">         C8</th><th style=\"text-align: right;\">        C9</th><th style=\"text-align: right;\">        C10</th><th style=\"text-align: right;\">        C11</th><th style=\"text-align: right;\">       C12</th><th style=\"text-align: right;\">        C13</th><th style=\"text-align: right;\">       C14</th><th style=\"text-align: right;\">        C15</th><th style=\"text-align: right;\">      C16</th><th style=\"text-align: right;\">       C17</th><th style=\"text-align: right;\">        C18</th><th style=\"text-align: right;\">       C19</th><th style=\"text-align: right;\">         C20</th><th style=\"text-align: right;\">        C21</th><th style=\"text-align: right;\">        C22</th><th style=\"text-align: right;\">        C23</th><th style=\"text-align: right;\">        C24</th><th style=\"text-align: right;\">       C25</th><th style=\"text-align: right;\">        C26</th><th style=\"text-align: right;\">        C27</th><th style=\"text-align: right;\">       C28</th><th style=\"text-align: right;\">        C29</th><th style=\"text-align: right;\">       C30</th><th style=\"text-align: right;\">      C31</th><th style=\"text-align: right;\">        C32</th><th style=\"text-align: right;\">      C33</th><th style=\"text-align: right;\">     C34</th><th style=\"text-align: right;\">       C35</th><th style=\"text-align: right;\">        C36</th><th style=\"text-align: right;\">       C37</th><th style=\"text-align: right;\">       C38</th><th style=\"text-align: right;\">        C39</th><th style=\"text-align: right;\">        C40</th><th style=\"text-align: right;\">        C41</th><th style=\"text-align: right;\">       C42</th><th style=\"text-align: right;\">        C43</th><th style=\"text-align: right;\">        C44</th><th style=\"text-align: right;\">        C45</th><th style=\"text-align: right;\">        C46</th><th style=\"text-align: right;\">       C47</th><th style=\"text-align: right;\">        C48</th><th style=\"text-align: right;\">        C49</th><th style=\"text-align: right;\">       C50</th><th style=\"text-align: right;\">       C51</th><th style=\"text-align: right;\">      C52</th><th style=\"text-align: right;\">        C53</th><th style=\"text-align: right;\">       C54</th><th style=\"text-align: right;\">       C55</th><th style=\"text-align: right;\">        C56</th><th style=\"text-align: right;\">      C57</th><th style=\"text-align: right;\">        C58</th><th style=\"text-align: right;\">        C59</th><th style=\"text-align: right;\">         C60</th><th style=\"text-align: right;\">        C61</th><th style=\"text-align: right;\">        C62</th><th style=\"text-align: right;\">       C63</th><th style=\"text-align: right;\">        C64</th><th style=\"text-align: right;\">         C65</th><th style=\"text-align: right;\">        C66</th><th style=\"text-align: right;\">        C67</th><th style=\"text-align: right;\">        C68</th><th style=\"text-align: right;\">        C69</th><th style=\"text-align: right;\">       C70</th><th style=\"text-align: right;\">         C71</th><th style=\"text-align: right;\">       C72</th><th style=\"text-align: right;\">        C73</th><th style=\"text-align: right;\">       C74</th><th style=\"text-align: right;\">        C75</th><th style=\"text-align: right;\">       C76</th><th style=\"text-align: right;\">         C77</th><th style=\"text-align: right;\">       C78</th><th style=\"text-align: right;\">       C79</th><th style=\"text-align: right;\">       C80</th><th style=\"text-align: right;\">       C81</th><th style=\"text-align: right;\">        C82</th><th style=\"text-align: right;\">        C83</th><th style=\"text-align: right;\">        C84</th><th style=\"text-align: right;\">        C85</th><th style=\"text-align: right;\">       C86</th><th style=\"text-align: right;\">       C87</th><th style=\"text-align: right;\">        C88</th><th style=\"text-align: right;\">       C89</th><th style=\"text-align: right;\">     C90</th><th style=\"text-align: right;\">        C91</th><th style=\"text-align: right;\">        C92</th><th style=\"text-align: right;\">        C93</th><th style=\"text-align: right;\">       C94</th><th style=\"text-align: right;\">        C95</th><th style=\"text-align: right;\">        C96</th><th style=\"text-align: right;\">        C97</th><th style=\"text-align: right;\">        C98</th><th style=\"text-align: right;\">         C99</th><th style=\"text-align: right;\">        C100</th></tr>\n",
              "</thead>\n",
              "<tbody>\n",
              "<tr><td style=\"text-align: right;\">-0.0764948 </td><td style=\"text-align: right;\"> 0.0482782</td><td style=\"text-align: right;\">-0.0483705</td><td style=\"text-align: right;\">0.09825   </td><td style=\"text-align: right;\">-0.125146 </td><td style=\"text-align: right;\">-0.142325 </td><td style=\"text-align: right;\"> 0.0896742  </td><td style=\"text-align: right;\">-0.0443988 </td><td style=\"text-align: right;\">-0.0405806</td><td style=\"text-align: right;\"> 0.027586  </td><td style=\"text-align: right;\"> 0.00463298</td><td style=\"text-align: right;\">0.119967  </td><td style=\"text-align: right;\">-0.03646   </td><td style=\"text-align: right;\">-0.0643085</td><td style=\"text-align: right;\"> 0.117031  </td><td style=\"text-align: right;\">0.136712 </td><td style=\"text-align: right;\">0.0384432 </td><td style=\"text-align: right;\">-0.0312088 </td><td style=\"text-align: right;\">-0.112297 </td><td style=\"text-align: right;\">-0.0595894  </td><td style=\"text-align: right;\"> 0.0169738 </td><td style=\"text-align: right;\"> 0.0257521 </td><td style=\"text-align: right;\"> 0.0488929 </td><td style=\"text-align: right;\">-0.0344648 </td><td style=\"text-align: right;\">-0.0176924</td><td style=\"text-align: right;\">-0.069449  </td><td style=\"text-align: right;\">-0.0207887 </td><td style=\"text-align: right;\">-0.18048  </td><td style=\"text-align: right;\"> 0.0417704 </td><td style=\"text-align: right;\">-0.143741 </td><td style=\"text-align: right;\">0.115963 </td><td style=\"text-align: right;\">-0.00677699</td><td style=\"text-align: right;\">-0.24992 </td><td style=\"text-align: right;\">0.251332</td><td style=\"text-align: right;\">0.0830605 </td><td style=\"text-align: right;\"> 0.0686391 </td><td style=\"text-align: right;\">-0.0948088</td><td style=\"text-align: right;\"> 0.0091875</td><td style=\"text-align: right;\"> 0.170419  </td><td style=\"text-align: right;\">-0.0261432 </td><td style=\"text-align: right;\">-0.0860908 </td><td style=\"text-align: right;\"> 0.0841976</td><td style=\"text-align: right;\">-0.0698121 </td><td style=\"text-align: right;\"> 0.0157025 </td><td style=\"text-align: right;\">-0.163063  </td><td style=\"text-align: right;\">-0.0124672 </td><td style=\"text-align: right;\"> 0.0338793</td><td style=\"text-align: right;\"> 0.140817  </td><td style=\"text-align: right;\"> 0.0422061 </td><td style=\"text-align: right;\">-0.0656459</td><td style=\"text-align: right;\"> 0.0559711</td><td style=\"text-align: right;\">0.183102 </td><td style=\"text-align: right;\">-0.0178587 </td><td style=\"text-align: right;\">-0.101113 </td><td style=\"text-align: right;\">-0.0716371</td><td style=\"text-align: right;\">-0.0975263 </td><td style=\"text-align: right;\">-0.162742</td><td style=\"text-align: right;\"> 0.00995166</td><td style=\"text-align: right;\">-0.111604  </td><td style=\"text-align: right;\"> 0.0255638  </td><td style=\"text-align: right;\">-0.0378036 </td><td style=\"text-align: right;\">-0.104634  </td><td style=\"text-align: right;\">-0.082391 </td><td style=\"text-align: right;\">-0.08384   </td><td style=\"text-align: right;\">-0.036951   </td><td style=\"text-align: right;\"> 0.0872609 </td><td style=\"text-align: right;\">-0.108996  </td><td style=\"text-align: right;\"> 0.14846   </td><td style=\"text-align: right;\"> 0.102808  </td><td style=\"text-align: right;\">-0.0886721</td><td style=\"text-align: right;\">-0.034198   </td><td style=\"text-align: right;\">-0.144601 </td><td style=\"text-align: right;\">-0.0365139 </td><td style=\"text-align: right;\"> 0.0692389</td><td style=\"text-align: right;\">-0.058864  </td><td style=\"text-align: right;\">-0.0561011</td><td style=\"text-align: right;\"> 0.0569392  </td><td style=\"text-align: right;\"> 0.0440054</td><td style=\"text-align: right;\">-0.0361682</td><td style=\"text-align: right;\">-0.0173244</td><td style=\"text-align: right;\"> 0.0799053</td><td style=\"text-align: right;\"> 0.0567293 </td><td style=\"text-align: right;\"> 0.00618209</td><td style=\"text-align: right;\">-0.0412475 </td><td style=\"text-align: right;\">-0.220498  </td><td style=\"text-align: right;\"> 0.186989 </td><td style=\"text-align: right;\"> 0.120999 </td><td style=\"text-align: right;\"> 0.0678742 </td><td style=\"text-align: right;\">-0.135226 </td><td style=\"text-align: right;\">0.124942</td><td style=\"text-align: right;\">-0.0982313 </td><td style=\"text-align: right;\">-0.0526231 </td><td style=\"text-align: right;\">-0.0162006 </td><td style=\"text-align: right;\"> 0.0775648</td><td style=\"text-align: right;\">-0.105883  </td><td style=\"text-align: right;\"> 0.0728263 </td><td style=\"text-align: right;\">-0.0411705 </td><td style=\"text-align: right;\"> 0.136167  </td><td style=\"text-align: right;\">-0.0302397  </td><td style=\"text-align: right;\"> 0.0319299  </td></tr>\n",
              "<tr><td style=\"text-align: right;\">-0.0811913 </td><td style=\"text-align: right;\"> 0.0846377</td><td style=\"text-align: right;\">-0.141091 </td><td style=\"text-align: right;\">0.00637464</td><td style=\"text-align: right;\">-0.238215 </td><td style=\"text-align: right;\">-0.210736 </td><td style=\"text-align: right;\">-0.0501479  </td><td style=\"text-align: right;\"> 0.00899114</td><td style=\"text-align: right;\">-0.103514 </td><td style=\"text-align: right;\">-0.00833205</td><td style=\"text-align: right;\">-0.0551575 </td><td style=\"text-align: right;\">0.0942245 </td><td style=\"text-align: right;\"> 0.0684517 </td><td style=\"text-align: right;\">-0.132763 </td><td style=\"text-align: right;\"> 0.138986  </td><td style=\"text-align: right;\">0.0842368</td><td style=\"text-align: right;\">0.0746219 </td><td style=\"text-align: right;\"> 0.03811   </td><td style=\"text-align: right;\">-0.0395381</td><td style=\"text-align: right;\">-0.0323391  </td><td style=\"text-align: right;\">-0.0603267 </td><td style=\"text-align: right;\">-0.116618  </td><td style=\"text-align: right;\"> 0.0479478 </td><td style=\"text-align: right;\"> 0.0636037 </td><td style=\"text-align: right;\">-0.10269  </td><td style=\"text-align: right;\">-0.154722  </td><td style=\"text-align: right;\">-0.113461  </td><td style=\"text-align: right;\">-0.0993919</td><td style=\"text-align: right;\">-0.0732742 </td><td style=\"text-align: right;\">-0.0215336</td><td style=\"text-align: right;\">0.126583 </td><td style=\"text-align: right;\"> 0.0727861 </td><td style=\"text-align: right;\">-0.142551</td><td style=\"text-align: right;\">0.149087</td><td style=\"text-align: right;\">0.00800702</td><td style=\"text-align: right;\">-0.00943989</td><td style=\"text-align: right;\">-0.204884 </td><td style=\"text-align: right;\">-0.0029472</td><td style=\"text-align: right;\"> 0.023958  </td><td style=\"text-align: right;\">-0.051985  </td><td style=\"text-align: right;\">-0.151183  </td><td style=\"text-align: right;\"> 0.115947 </td><td style=\"text-align: right;\">-0.126984  </td><td style=\"text-align: right;\"> 0.163345  </td><td style=\"text-align: right;\">-0.0342188 </td><td style=\"text-align: right;\"> 0.0419865 </td><td style=\"text-align: right;\"> 0.0466611</td><td style=\"text-align: right;\">-0.0611303 </td><td style=\"text-align: right;\">-0.0416749 </td><td style=\"text-align: right;\">-0.0506052</td><td style=\"text-align: right;\"> 0.083686 </td><td style=\"text-align: right;\">0.131113 </td><td style=\"text-align: right;\">-0.0281024 </td><td style=\"text-align: right;\">-0.0822233</td><td style=\"text-align: right;\">-0.224583 </td><td style=\"text-align: right;\">-0.0250987 </td><td style=\"text-align: right;\">-0.143424</td><td style=\"text-align: right;\">-0.0094136 </td><td style=\"text-align: right;\">-0.0558046 </td><td style=\"text-align: right;\"> 0.0683555  </td><td style=\"text-align: right;\"> 0.00197608</td><td style=\"text-align: right;\">-0.0329735 </td><td style=\"text-align: right;\"> 0.0819259</td><td style=\"text-align: right;\">-0.0227888 </td><td style=\"text-align: right;\">-0.168048   </td><td style=\"text-align: right;\"> 0.0487314 </td><td style=\"text-align: right;\"> 0.0603574 </td><td style=\"text-align: right;\">-0.181556  </td><td style=\"text-align: right;\"> 0.141481  </td><td style=\"text-align: right;\"> 0.0244271</td><td style=\"text-align: right;\">-0.0119886  </td><td style=\"text-align: right;\">-0.104003 </td><td style=\"text-align: right;\">-0.0374219 </td><td style=\"text-align: right;\"> 0.0328072</td><td style=\"text-align: right;\">-0.0511723 </td><td style=\"text-align: right;\">-0.0253548</td><td style=\"text-align: right;\">-0.000241911</td><td style=\"text-align: right;\"> 0.0387934</td><td style=\"text-align: right;\">-0.0214177</td><td style=\"text-align: right;\"> 0.0863821</td><td style=\"text-align: right;\"> 0.0118114</td><td style=\"text-align: right;\">-0.00950615</td><td style=\"text-align: right;\">-0.0781562 </td><td style=\"text-align: right;\"> 0.0308557 </td><td style=\"text-align: right;\">-0.0251604 </td><td style=\"text-align: right;\"> 0.0708116</td><td style=\"text-align: right;\"> 0.142524 </td><td style=\"text-align: right;\"> 0.12912   </td><td style=\"text-align: right;\">-0.010381 </td><td style=\"text-align: right;\">0.136986</td><td style=\"text-align: right;\">-0.0903496 </td><td style=\"text-align: right;\">-0.0193352 </td><td style=\"text-align: right;\"> 0.0125748 </td><td style=\"text-align: right;\">-0.0547221</td><td style=\"text-align: right;\"> 0.00964163</td><td style=\"text-align: right;\"> 0.169111  </td><td style=\"text-align: right;\"> 0.137918  </td><td style=\"text-align: right;\"> 0.0579981 </td><td style=\"text-align: right;\"> 0.000857772</td><td style=\"text-align: right;\"> 0.15257    </td></tr>\n",
              "<tr><td style=\"text-align: right;\">-0.0867911 </td><td style=\"text-align: right;\"> 0.0195347</td><td style=\"text-align: right;\">-0.0879879</td><td style=\"text-align: right;\">0.00817771</td><td style=\"text-align: right;\">-0.127346 </td><td style=\"text-align: right;\">-0.0661131</td><td style=\"text-align: right;\">-0.0135433  </td><td style=\"text-align: right;\">-0.0239845 </td><td style=\"text-align: right;\">-0.0156367</td><td style=\"text-align: right;\">-0.146453  </td><td style=\"text-align: right;\"> 0.0397269 </td><td style=\"text-align: right;\">0.0814776 </td><td style=\"text-align: right;\">-0.0683432 </td><td style=\"text-align: right;\"> 0.0431064</td><td style=\"text-align: right;\"> 0.0239525 </td><td style=\"text-align: right;\">0.0980249</td><td style=\"text-align: right;\">0.0794215 </td><td style=\"text-align: right;\"> 0.0314498 </td><td style=\"text-align: right;\"> 0.0544729</td><td style=\"text-align: right;\">-0.0863034  </td><td style=\"text-align: right;\"> 0.103667  </td><td style=\"text-align: right;\"> 0.0218036 </td><td style=\"text-align: right;\">-0.0561632 </td><td style=\"text-align: right;\">-0.00625466</td><td style=\"text-align: right;\">-0.164687 </td><td style=\"text-align: right;\">-0.279471  </td><td style=\"text-align: right;\">-0.137106  </td><td style=\"text-align: right;\">-0.0172732</td><td style=\"text-align: right;\"> 0.00624718</td><td style=\"text-align: right;\">-0.0721056</td><td style=\"text-align: right;\">0.157429 </td><td style=\"text-align: right;\"> 0.0204833 </td><td style=\"text-align: right;\">-0.242882</td><td style=\"text-align: right;\">0.13308 </td><td style=\"text-align: right;\">0.0545798 </td><td style=\"text-align: right;\"> 0.0848231 </td><td style=\"text-align: right;\">-0.0518068</td><td style=\"text-align: right;\">-0.131125 </td><td style=\"text-align: right;\">-0.0278326 </td><td style=\"text-align: right;\">-0.133164  </td><td style=\"text-align: right;\">-0.180599  </td><td style=\"text-align: right;\">-0.0393488</td><td style=\"text-align: right;\"> 0.0258966 </td><td style=\"text-align: right;\"> 0.0801979 </td><td style=\"text-align: right;\">-0.061425  </td><td style=\"text-align: right;\"> 0.0813026 </td><td style=\"text-align: right;\">-0.0945511</td><td style=\"text-align: right;\">-0.0318922 </td><td style=\"text-align: right;\">-0.0492503 </td><td style=\"text-align: right;\">-0.136713 </td><td style=\"text-align: right;\"> 0.0534084</td><td style=\"text-align: right;\">0.157462 </td><td style=\"text-align: right;\">-0.0901332 </td><td style=\"text-align: right;\">-0.103219 </td><td style=\"text-align: right;\">-0.111606 </td><td style=\"text-align: right;\"> 0.00854717</td><td style=\"text-align: right;\">-0.32464 </td><td style=\"text-align: right;\">-0.222401  </td><td style=\"text-align: right;\">-0.00768084</td><td style=\"text-align: right;\">-0.125081   </td><td style=\"text-align: right;\">-0.145099  </td><td style=\"text-align: right;\"> 0.0718037 </td><td style=\"text-align: right;\"> 0.0278072</td><td style=\"text-align: right;\"> 0.0381055 </td><td style=\"text-align: right;\"> 0.00190994 </td><td style=\"text-align: right;\"> 0.0252589 </td><td style=\"text-align: right;\">-0.0345078 </td><td style=\"text-align: right;\">-0.00396435</td><td style=\"text-align: right;\"> 0.135873  </td><td style=\"text-align: right;\">-0.028347 </td><td style=\"text-align: right;\">-0.0213753  </td><td style=\"text-align: right;\">-0.246216 </td><td style=\"text-align: right;\"> 0.00382504</td><td style=\"text-align: right;\"> 0.0953861</td><td style=\"text-align: right;\"> 0.0144068 </td><td style=\"text-align: right;\">-0.025388 </td><td style=\"text-align: right;\"> 0.0470435  </td><td style=\"text-align: right;\"> 0.104322 </td><td style=\"text-align: right;\">-0.0140496</td><td style=\"text-align: right;\">-0.0510753</td><td style=\"text-align: right;\"> 0.0347499</td><td style=\"text-align: right;\">-0.0451464 </td><td style=\"text-align: right;\"> 0.122708  </td><td style=\"text-align: right;\">-0.0544475 </td><td style=\"text-align: right;\">-0.00123592</td><td style=\"text-align: right;\">-0.0613302</td><td style=\"text-align: right;\"> 0.0368372</td><td style=\"text-align: right;\"> 0.0970711 </td><td style=\"text-align: right;\">-0.0242887</td><td style=\"text-align: right;\">0.166528</td><td style=\"text-align: right;\"> 0.00628567</td><td style=\"text-align: right;\"> 0.0445131 </td><td style=\"text-align: right;\">-0.121105  </td><td style=\"text-align: right;\"> 0.106477 </td><td style=\"text-align: right;\">-0.00625809</td><td style=\"text-align: right;\">-0.00481691</td><td style=\"text-align: right;\"> 0.0847808 </td><td style=\"text-align: right;\">-0.0468885 </td><td style=\"text-align: right;\"> 0.0308255  </td><td style=\"text-align: right;\"> 0.0958308  </td></tr>\n",
              "<tr><td style=\"text-align: right;\">-0.0685038 </td><td style=\"text-align: right;\">-0.0394855</td><td style=\"text-align: right;\">-0.0807162</td><td style=\"text-align: right;\">0.0375506 </td><td style=\"text-align: right;\">-0.0639237</td><td style=\"text-align: right;\">-0.353696 </td><td style=\"text-align: right;\">-0.0884673  </td><td style=\"text-align: right;\"> 0.0678095 </td><td style=\"text-align: right;\">-0.0367882</td><td style=\"text-align: right;\">-0.240094  </td><td style=\"text-align: right;\">-0.186832  </td><td style=\"text-align: right;\">0.108322  </td><td style=\"text-align: right;\">-0.132882  </td><td style=\"text-align: right;\">-0.227202 </td><td style=\"text-align: right;\"> 0.145149  </td><td style=\"text-align: right;\">0.206305 </td><td style=\"text-align: right;\">0.238549  </td><td style=\"text-align: right;\">-0.230721  </td><td style=\"text-align: right;\"> 0.0243489</td><td style=\"text-align: right;\">-0.241691   </td><td style=\"text-align: right;\">-0.042906  </td><td style=\"text-align: right;\"> 0.0211324 </td><td style=\"text-align: right;\"> 0.0552197 </td><td style=\"text-align: right;\">-0.097202  </td><td style=\"text-align: right;\"> 0.0654404</td><td style=\"text-align: right;\">-0.00637958</td><td style=\"text-align: right;\">-0.00417916</td><td style=\"text-align: right;\"> 0.0410994</td><td style=\"text-align: right;\"> 0.0955153 </td><td style=\"text-align: right;\"> 0.0623066</td><td style=\"text-align: right;\">0.0817607</td><td style=\"text-align: right;\"> 0.0758608 </td><td style=\"text-align: right;\">-0.137931</td><td style=\"text-align: right;\">0.188054</td><td style=\"text-align: right;\">0.14601   </td><td style=\"text-align: right;\"> 0.145401  </td><td style=\"text-align: right;\">-0.21048  </td><td style=\"text-align: right;\">-0.151674 </td><td style=\"text-align: right;\">-0.0827772 </td><td style=\"text-align: right;\">-0.114515  </td><td style=\"text-align: right;\">-0.00566451</td><td style=\"text-align: right;\"> 0.12746  </td><td style=\"text-align: right;\">-0.00160616</td><td style=\"text-align: right;\">-0.0574645 </td><td style=\"text-align: right;\">-0.259858  </td><td style=\"text-align: right;\">-0.144186  </td><td style=\"text-align: right;\">-0.196402 </td><td style=\"text-align: right;\">-0.00614577</td><td style=\"text-align: right;\">-0.15243   </td><td style=\"text-align: right;\">-0.0675239</td><td style=\"text-align: right;\"> 0.0393117</td><td style=\"text-align: right;\">0.0649962</td><td style=\"text-align: right;\"> 0.0434795 </td><td style=\"text-align: right;\">-0.306074 </td><td style=\"text-align: right;\">-0.246787 </td><td style=\"text-align: right;\">-0.0421129 </td><td style=\"text-align: right;\">-0.259303</td><td style=\"text-align: right;\"> 0.00434375</td><td style=\"text-align: right;\">-0.119178  </td><td style=\"text-align: right;\">-0.114082   </td><td style=\"text-align: right;\">-0.014308  </td><td style=\"text-align: right;\">-0.0545008 </td><td style=\"text-align: right;\">-0.0811765</td><td style=\"text-align: right;\"> 0.049532  </td><td style=\"text-align: right;\"> 0.0917899  </td><td style=\"text-align: right;\">-0.00652804</td><td style=\"text-align: right;\"> 0.0892454 </td><td style=\"text-align: right;\"> 0.139909  </td><td style=\"text-align: right;\"> 0.235443  </td><td style=\"text-align: right;\"> 0.257933 </td><td style=\"text-align: right;\"> 0.0658333  </td><td style=\"text-align: right;\">-0.0780647</td><td style=\"text-align: right;\">-0.219306  </td><td style=\"text-align: right;\"> 0.0960547</td><td style=\"text-align: right;\">-0.241704  </td><td style=\"text-align: right;\"> 0.0831046</td><td style=\"text-align: right;\"> 0.0198641  </td><td style=\"text-align: right;\"> 0.205838 </td><td style=\"text-align: right;\"> 0.0289246</td><td style=\"text-align: right;\">-0.0157978</td><td style=\"text-align: right;\">-0.089871 </td><td style=\"text-align: right;\"> 0.257795  </td><td style=\"text-align: right;\"> 0.0260074 </td><td style=\"text-align: right;\"> 0.116704  </td><td style=\"text-align: right;\">-0.246984  </td><td style=\"text-align: right;\"> 0.115054 </td><td style=\"text-align: right;\">-0.0526674</td><td style=\"text-align: right;\"> 0.205498  </td><td style=\"text-align: right;\"> 0.137396 </td><td style=\"text-align: right;\">0.170165</td><td style=\"text-align: right;\">-0.0927333 </td><td style=\"text-align: right;\">-0.177992  </td><td style=\"text-align: right;\">-0.204833  </td><td style=\"text-align: right;\"> 0.184409 </td><td style=\"text-align: right;\">-0.0540596 </td><td style=\"text-align: right;\"> 0.0983548 </td><td style=\"text-align: right;\"> 0.0448997 </td><td style=\"text-align: right;\">-0.00112116</td><td style=\"text-align: right;\"> 0.242956   </td><td style=\"text-align: right;\">-0.00183066 </td></tr>\n",
              "<tr><td style=\"text-align: right;\"> 0.0296539 </td><td style=\"text-align: right;\"> 0.0289588</td><td style=\"text-align: right;\">-0.0390444</td><td style=\"text-align: right;\">0.00021599</td><td style=\"text-align: right;\">-0.0369723</td><td style=\"text-align: right;\">-0.219975 </td><td style=\"text-align: right;\">-0.000363291</td><td style=\"text-align: right;\"> 0.0200226 </td><td style=\"text-align: right;\"> 0.0774592</td><td style=\"text-align: right;\">-0.0794713 </td><td style=\"text-align: right;\"> 0.0334746 </td><td style=\"text-align: right;\">0.0373276 </td><td style=\"text-align: right;\">-0.0850446 </td><td style=\"text-align: right;\">-0.0963604</td><td style=\"text-align: right;\">-0.072088  </td><td style=\"text-align: right;\">0.181867 </td><td style=\"text-align: right;\">0.0368365 </td><td style=\"text-align: right;\"> 0.131194  </td><td style=\"text-align: right;\">-0.169783 </td><td style=\"text-align: right;\">-0.0167788  </td><td style=\"text-align: right;\">-0.119411  </td><td style=\"text-align: right;\">-0.0957982 </td><td style=\"text-align: right;\"> 0.0156164 </td><td style=\"text-align: right;\">-0.0791649 </td><td style=\"text-align: right;\">-0.168135 </td><td style=\"text-align: right;\"> 0.0222822 </td><td style=\"text-align: right;\">-0.21309   </td><td style=\"text-align: right;\">-0.0679539</td><td style=\"text-align: right;\"> 0.0745262 </td><td style=\"text-align: right;\">-0.0923701</td><td style=\"text-align: right;\">0.102729 </td><td style=\"text-align: right;\"> 0.208789  </td><td style=\"text-align: right;\">-0.235533</td><td style=\"text-align: right;\">0.180229</td><td style=\"text-align: right;\">0.0286014 </td><td style=\"text-align: right;\">-0.0729422 </td><td style=\"text-align: right;\">-0.0445811</td><td style=\"text-align: right;\">-0.143309 </td><td style=\"text-align: right;\">-0.0605342 </td><td style=\"text-align: right;\">-0.068019  </td><td style=\"text-align: right;\">-0.0886745 </td><td style=\"text-align: right;\"> 0.0502102</td><td style=\"text-align: right;\"> 0.0861322 </td><td style=\"text-align: right;\"> 0.148201  </td><td style=\"text-align: right;\">-0.0252851 </td><td style=\"text-align: right;\"> 0.0245622 </td><td style=\"text-align: right;\">-0.119087 </td><td style=\"text-align: right;\"> 0.0177358 </td><td style=\"text-align: right;\"> 0.0254874 </td><td style=\"text-align: right;\">-0.111859 </td><td style=\"text-align: right;\">-0.0956645</td><td style=\"text-align: right;\">0.104035 </td><td style=\"text-align: right;\">-0.0160215 </td><td style=\"text-align: right;\">-0.167927 </td><td style=\"text-align: right;\">-0.0999725</td><td style=\"text-align: right;\">-0.00625967</td><td style=\"text-align: right;\">-0.148315</td><td style=\"text-align: right;\">-0.168406  </td><td style=\"text-align: right;\">-0.00296404</td><td style=\"text-align: right;\"> 0.0270627  </td><td style=\"text-align: right;\">-0.102443  </td><td style=\"text-align: right;\">-0.117729  </td><td style=\"text-align: right;\"> 0.0268823</td><td style=\"text-align: right;\">-0.14497   </td><td style=\"text-align: right;\">-0.207804   </td><td style=\"text-align: right;\"> 0.0255424 </td><td style=\"text-align: right;\"> 0.0880956 </td><td style=\"text-align: right;\"> 0.0815741 </td><td style=\"text-align: right;\"> 0.00727636</td><td style=\"text-align: right;\">-0.223853 </td><td style=\"text-align: right;\"> 0.00833237 </td><td style=\"text-align: right;\"> 0.0812274</td><td style=\"text-align: right;\">-0.00593826</td><td style=\"text-align: right;\"> 0.0911839</td><td style=\"text-align: right;\"> 0.0659698 </td><td style=\"text-align: right;\">-0.156495 </td><td style=\"text-align: right;\">-0.0492212  </td><td style=\"text-align: right;\">-0.0955617</td><td style=\"text-align: right;\"> 0.131892 </td><td style=\"text-align: right;\">-0.0987707</td><td style=\"text-align: right;\"> 0.0669182</td><td style=\"text-align: right;\">-0.00788301</td><td style=\"text-align: right;\">-0.0254703 </td><td style=\"text-align: right;\"> 0.152025  </td><td style=\"text-align: right;\">-0.0603171 </td><td style=\"text-align: right;\"> 0.0925777</td><td style=\"text-align: right;\"> 0.0282194</td><td style=\"text-align: right;\"> 0.109439  </td><td style=\"text-align: right;\">-0.043081 </td><td style=\"text-align: right;\">0.153881</td><td style=\"text-align: right;\">-0.100386  </td><td style=\"text-align: right;\"> 0.0918247 </td><td style=\"text-align: right;\">-0.0696869 </td><td style=\"text-align: right;\"> 0.151921 </td><td style=\"text-align: right;\"> 0.0573853 </td><td style=\"text-align: right;\">-0.00894408</td><td style=\"text-align: right;\">-0.158153  </td><td style=\"text-align: right;\"> 0.178619  </td><td style=\"text-align: right;\"> 0.0723289  </td><td style=\"text-align: right;\">-0.152156   </td></tr>\n",
              "<tr><td style=\"text-align: right;\">-0.0356154 </td><td style=\"text-align: right;\"> 0.0767878</td><td style=\"text-align: right;\">-0.0408023</td><td style=\"text-align: right;\">0.0864583 </td><td style=\"text-align: right;\">-0.0832849</td><td style=\"text-align: right;\">-0.152682 </td><td style=\"text-align: right;\">-0.0334822  </td><td style=\"text-align: right;\"> 0.0647772 </td><td style=\"text-align: right;\">-0.0625295</td><td style=\"text-align: right;\">-0.0921406 </td><td style=\"text-align: right;\">-0.0290335 </td><td style=\"text-align: right;\">0.0797167 </td><td style=\"text-align: right;\">-0.029315  </td><td style=\"text-align: right;\">-0.0511721</td><td style=\"text-align: right;\"> 0.00667295</td><td style=\"text-align: right;\">0.146081 </td><td style=\"text-align: right;\">0.00713384</td><td style=\"text-align: right;\">-0.0252709 </td><td style=\"text-align: right;\"> 0.114798 </td><td style=\"text-align: right;\"> 0.00667536 </td><td style=\"text-align: right;\"> 0.00244826</td><td style=\"text-align: right;\">-0.00105316</td><td style=\"text-align: right;\"> 0.00175014</td><td style=\"text-align: right;\"> 0.00289655</td><td style=\"text-align: right;\">-0.0607586</td><td style=\"text-align: right;\">-0.0989225 </td><td style=\"text-align: right;\">-0.0785374 </td><td style=\"text-align: right;\">-0.133591 </td><td style=\"text-align: right;\"> 0.0607912 </td><td style=\"text-align: right;\">-0.111898 </td><td style=\"text-align: right;\">0.153229 </td><td style=\"text-align: right;\"> 0.102648  </td><td style=\"text-align: right;\">-0.181482</td><td style=\"text-align: right;\">0.11895 </td><td style=\"text-align: right;\">0.0301179 </td><td style=\"text-align: right;\">-0.0846061 </td><td style=\"text-align: right;\">-0.12508  </td><td style=\"text-align: right;\">-0.20744  </td><td style=\"text-align: right;\">-0.00464434</td><td style=\"text-align: right;\">-0.104919  </td><td style=\"text-align: right;\">-0.0944161 </td><td style=\"text-align: right;\"> 0.0467909</td><td style=\"text-align: right;\"> 0.102945  </td><td style=\"text-align: right;\"> 0.112042  </td><td style=\"text-align: right;\">-0.0544403 </td><td style=\"text-align: right;\">-0.0319629 </td><td style=\"text-align: right;\">-0.0536179</td><td style=\"text-align: right;\"> 0.00819064</td><td style=\"text-align: right;\"> 0.0454676 </td><td style=\"text-align: right;\">-0.092515 </td><td style=\"text-align: right;\">-0.0233735</td><td style=\"text-align: right;\">0.0793661</td><td style=\"text-align: right;\">-0.0176659 </td><td style=\"text-align: right;\">-0.116368 </td><td style=\"text-align: right;\">-0.159401 </td><td style=\"text-align: right;\">-0.0693413 </td><td style=\"text-align: right;\">-0.292129</td><td style=\"text-align: right;\">-0.175461  </td><td style=\"text-align: right;\"> 0.0308389 </td><td style=\"text-align: right;\">-0.0236848  </td><td style=\"text-align: right;\">-0.0646509 </td><td style=\"text-align: right;\"> 0.00572262</td><td style=\"text-align: right;\"> 0.0115526</td><td style=\"text-align: right;\">-0.10486   </td><td style=\"text-align: right;\">-0.00729506 </td><td style=\"text-align: right;\"> 0.0996994 </td><td style=\"text-align: right;\">-0.0222263 </td><td style=\"text-align: right;\">-0.0313    </td><td style=\"text-align: right;\">-0.0550197 </td><td style=\"text-align: right;\">-0.0450791</td><td style=\"text-align: right;\">-0.0516714  </td><td style=\"text-align: right;\">-0.0958119</td><td style=\"text-align: right;\"> 0.033955  </td><td style=\"text-align: right;\"> 0.0229912</td><td style=\"text-align: right;\"> 0.0233409 </td><td style=\"text-align: right;\">-0.0742975</td><td style=\"text-align: right;\"> 0.00101973 </td><td style=\"text-align: right;\"> 0.0807702</td><td style=\"text-align: right;\"> 0.0296586</td><td style=\"text-align: right;\">-0.080719 </td><td style=\"text-align: right;\"> 0.0688927</td><td style=\"text-align: right;\">-0.0111823 </td><td style=\"text-align: right;\">-0.0103396 </td><td style=\"text-align: right;\"> 0.102327  </td><td style=\"text-align: right;\">-0.0555294 </td><td style=\"text-align: right;\"> 0.0880909</td><td style=\"text-align: right;\"> 0.0982229</td><td style=\"text-align: right;\"> 0.0597559 </td><td style=\"text-align: right;\"> 0.0504112</td><td style=\"text-align: right;\">0.167323</td><td style=\"text-align: right;\">-0.0558468 </td><td style=\"text-align: right;\"> 0.0393959 </td><td style=\"text-align: right;\">-0.0553803 </td><td style=\"text-align: right;\"> 0.110708 </td><td style=\"text-align: right;\">-0.0652338 </td><td style=\"text-align: right;\"> 0.101018  </td><td style=\"text-align: right;\">-0.00855227</td><td style=\"text-align: right;\"> 0.0292535 </td><td style=\"text-align: right;\">-0.00329157 </td><td style=\"text-align: right;\"> 0.000788015</td></tr>\n",
              "<tr><td style=\"text-align: right;\">-0.00336982</td><td style=\"text-align: right;\"> 0.19711  </td><td style=\"text-align: right;\">-0.025289 </td><td style=\"text-align: right;\">0.0689024 </td><td style=\"text-align: right;\">-0.114754 </td><td style=\"text-align: right;\">-0.0801001</td><td style=\"text-align: right;\"> 0.0336096  </td><td style=\"text-align: right;\"> 0.0382576 </td><td style=\"text-align: right;\">-0.0715696</td><td style=\"text-align: right;\">-0.141482  </td><td style=\"text-align: right;\">-0.0420318 </td><td style=\"text-align: right;\">0.0714149 </td><td style=\"text-align: right;\">-0.0153383 </td><td style=\"text-align: right;\">-0.0219834</td><td style=\"text-align: right;\">-0.0352847 </td><td style=\"text-align: right;\">0.0868997</td><td style=\"text-align: right;\">0.0199586 </td><td style=\"text-align: right;\"> 0.00438928</td><td style=\"text-align: right;\"> 0.0221609</td><td style=\"text-align: right;\">-1.98114e-05</td><td style=\"text-align: right;\">-0.061972  </td><td style=\"text-align: right;\"> 0.0333614 </td><td style=\"text-align: right;\"> 0.115397  </td><td style=\"text-align: right;\">-0.0503907 </td><td style=\"text-align: right;\">-0.0274127</td><td style=\"text-align: right;\">-0.0435935 </td><td style=\"text-align: right;\">-0.035962  </td><td style=\"text-align: right;\">-0.10851  </td><td style=\"text-align: right;\">-0.131223  </td><td style=\"text-align: right;\">-0.133546 </td><td style=\"text-align: right;\">0.0677437</td><td style=\"text-align: right;\"> 0.04902   </td><td style=\"text-align: right;\">-0.168267</td><td style=\"text-align: right;\">0.239355</td><td style=\"text-align: right;\">0.0761545 </td><td style=\"text-align: right;\">-0.0308844 </td><td style=\"text-align: right;\">-0.223506 </td><td style=\"text-align: right;\"> 0.0120842</td><td style=\"text-align: right;\"> 0.169963  </td><td style=\"text-align: right;\"> 0.00628301</td><td style=\"text-align: right;\">-0.0858312 </td><td style=\"text-align: right;\"> 0.172998 </td><td style=\"text-align: right;\">-0.061327  </td><td style=\"text-align: right;\"> 0.0260866 </td><td style=\"text-align: right;\"> 0.0628268 </td><td style=\"text-align: right;\"> 0.0571331 </td><td style=\"text-align: right;\">-0.0230096</td><td style=\"text-align: right;\"> 0.0258752 </td><td style=\"text-align: right;\"> 0.0525535 </td><td style=\"text-align: right;\">-0.0675277</td><td style=\"text-align: right;\"> 0.080893 </td><td style=\"text-align: right;\">0.130375 </td><td style=\"text-align: right;\">-0.096669  </td><td style=\"text-align: right;\">-0.128486 </td><td style=\"text-align: right;\">-0.119205 </td><td style=\"text-align: right;\">-0.119466  </td><td style=\"text-align: right;\">-0.144271</td><td style=\"text-align: right;\">-0.0101778 </td><td style=\"text-align: right;\"> 0.066111  </td><td style=\"text-align: right;\">-0.0209573  </td><td style=\"text-align: right;\"> 0.0152498 </td><td style=\"text-align: right;\">-0.0448896 </td><td style=\"text-align: right;\">-0.0476489</td><td style=\"text-align: right;\">-0.0727391 </td><td style=\"text-align: right;\"> 0.000925691</td><td style=\"text-align: right;\"> 0.0360892 </td><td style=\"text-align: right;\"> 0.0110653 </td><td style=\"text-align: right;\"> 0.055366  </td><td style=\"text-align: right;\"> 0.00499138</td><td style=\"text-align: right;\">-0.0248381</td><td style=\"text-align: right;\">-0.0567767  </td><td style=\"text-align: right;\">-0.0288458</td><td style=\"text-align: right;\"> 0.0161724 </td><td style=\"text-align: right;\">-0.0103898</td><td style=\"text-align: right;\">-0.00223226</td><td style=\"text-align: right;\">-0.072404 </td><td style=\"text-align: right;\">-0.049317   </td><td style=\"text-align: right;\">-0.0633756</td><td style=\"text-align: right;\"> 0.0824678</td><td style=\"text-align: right;\">-0.161461 </td><td style=\"text-align: right;\"> 0.0861072</td><td style=\"text-align: right;\">-0.0698874 </td><td style=\"text-align: right;\">-0.0256875 </td><td style=\"text-align: right;\"> 0.104671  </td><td style=\"text-align: right;\">-0.0502904 </td><td style=\"text-align: right;\"> 0.0939385</td><td style=\"text-align: right;\"> 0.220396 </td><td style=\"text-align: right;\"> 0.0302412 </td><td style=\"text-align: right;\"> 0.0138912</td><td style=\"text-align: right;\">0.11545 </td><td style=\"text-align: right;\"> 0.0328741 </td><td style=\"text-align: right;\"> 0.00528422</td><td style=\"text-align: right;\">-0.0702429 </td><td style=\"text-align: right;\"> 0.122586 </td><td style=\"text-align: right;\">-0.0348168 </td><td style=\"text-align: right;\"> 0.0134185 </td><td style=\"text-align: right;\">-0.0299098 </td><td style=\"text-align: right;\"> 0.0761394 </td><td style=\"text-align: right;\"> 0.0437969  </td><td style=\"text-align: right;\"> 0.184789   </td></tr>\n",
              "<tr><td style=\"text-align: right;\">-0.0908752 </td><td style=\"text-align: right;\"> 0.0553761</td><td style=\"text-align: right;\">-0.168499 </td><td style=\"text-align: right;\">0.0172918 </td><td style=\"text-align: right;\">-0.12399  </td><td style=\"text-align: right;\">-0.162038 </td><td style=\"text-align: right;\"> 0.0253935  </td><td style=\"text-align: right;\"> 0.0505055 </td><td style=\"text-align: right;\">-0.117594 </td><td style=\"text-align: right;\">-0.0392552 </td><td style=\"text-align: right;\">-0.060575  </td><td style=\"text-align: right;\">0.0588427 </td><td style=\"text-align: right;\">-0.144402  </td><td style=\"text-align: right;\">-0.0656885</td><td style=\"text-align: right;\"> 0.0463561 </td><td style=\"text-align: right;\">0.100559 </td><td style=\"text-align: right;\">0.15214   </td><td style=\"text-align: right;\">-0.0275433 </td><td style=\"text-align: right;\"> 0.0289058</td><td style=\"text-align: right;\">-0.111416   </td><td style=\"text-align: right;\">-0.0507928 </td><td style=\"text-align: right;\">-0.0153764 </td><td style=\"text-align: right;\"> 0.117629  </td><td style=\"text-align: right;\">-0.074942  </td><td style=\"text-align: right;\">-0.0467306</td><td style=\"text-align: right;\">-0.111857  </td><td style=\"text-align: right;\">-0.0398796 </td><td style=\"text-align: right;\">-0.0134479</td><td style=\"text-align: right;\">-0.0819628 </td><td style=\"text-align: right;\">-0.0786383</td><td style=\"text-align: right;\">0.0106986</td><td style=\"text-align: right;\"> 0.0277884 </td><td style=\"text-align: right;\">-0.154596</td><td style=\"text-align: right;\">0.2603  </td><td style=\"text-align: right;\">0.0746548 </td><td style=\"text-align: right;\"> 0.0295467 </td><td style=\"text-align: right;\">-0.108327 </td><td style=\"text-align: right;\">-0.0298053</td><td style=\"text-align: right;\">-0.0327283 </td><td style=\"text-align: right;\">-0.0261521 </td><td style=\"text-align: right;\">-0.0333733 </td><td style=\"text-align: right;\">-0.0195952</td><td style=\"text-align: right;\">-0.0534377 </td><td style=\"text-align: right;\"> 0.0614326 </td><td style=\"text-align: right;\">-0.0653155 </td><td style=\"text-align: right;\"> 0.00343771</td><td style=\"text-align: right;\">-0.056841 </td><td style=\"text-align: right;\"> 0.0418281 </td><td style=\"text-align: right;\"> 0.0745854 </td><td style=\"text-align: right;\">-0.0808382</td><td style=\"text-align: right;\"> 0.0737161</td><td style=\"text-align: right;\">0.167592 </td><td style=\"text-align: right;\"> 0.0033724 </td><td style=\"text-align: right;\">-0.08129  </td><td style=\"text-align: right;\">-0.121081 </td><td style=\"text-align: right;\">-0.06704   </td><td style=\"text-align: right;\">-0.248766</td><td style=\"text-align: right;\">-0.107955  </td><td style=\"text-align: right;\">-0.0448906 </td><td style=\"text-align: right;\">-0.0761794  </td><td style=\"text-align: right;\">-0.0377751 </td><td style=\"text-align: right;\"> 0.0177375 </td><td style=\"text-align: right;\"> 0.0141465</td><td style=\"text-align: right;\">-0.00757408</td><td style=\"text-align: right;\">-0.0326986  </td><td style=\"text-align: right;\"> 0.122292  </td><td style=\"text-align: right;\">-0.00445126</td><td style=\"text-align: right;\"> 0.141258  </td><td style=\"text-align: right;\"> 0.04131   </td><td style=\"text-align: right;\">-0.110055 </td><td style=\"text-align: right;\"> 0.000633544</td><td style=\"text-align: right;\">-0.134555 </td><td style=\"text-align: right;\"> 0.0262702 </td><td style=\"text-align: right;\"> 0.0464332</td><td style=\"text-align: right;\"> 0.0253328 </td><td style=\"text-align: right;\">-0.0579618</td><td style=\"text-align: right;\">-0.0138561  </td><td style=\"text-align: right;\"> 0.039473 </td><td style=\"text-align: right;\"> 0.0264713</td><td style=\"text-align: right;\">-0.144672 </td><td style=\"text-align: right;\"> 0.0143307</td><td style=\"text-align: right;\">-0.0918448 </td><td style=\"text-align: right;\"> 0.0930538 </td><td style=\"text-align: right;\"> 0.00240288</td><td style=\"text-align: right;\">-0.0554223 </td><td style=\"text-align: right;\"> 0.0878016</td><td style=\"text-align: right;\"> 0.0674352</td><td style=\"text-align: right;\"> 0.101796  </td><td style=\"text-align: right;\">-0.096591 </td><td style=\"text-align: right;\">0.138591</td><td style=\"text-align: right;\">-0.0654488 </td><td style=\"text-align: right;\"> 0.0221446 </td><td style=\"text-align: right;\">-0.019152  </td><td style=\"text-align: right;\"> 0.111141 </td><td style=\"text-align: right;\">-0.00990182</td><td style=\"text-align: right;\"> 0.0281883 </td><td style=\"text-align: right;\"> 0.117606  </td><td style=\"text-align: right;\"> 0.0562421 </td><td style=\"text-align: right;\"> 0.0476632  </td><td style=\"text-align: right;\"> 0.125744   </td></tr>\n",
              "<tr><td style=\"text-align: right;\">-0.0117387 </td><td style=\"text-align: right;\"> 0.0598394</td><td style=\"text-align: right;\">-0.0800709</td><td style=\"text-align: right;\">0.00620749</td><td style=\"text-align: right;\">-0.0656584</td><td style=\"text-align: right;\">-0.126992 </td><td style=\"text-align: right;\">-0.0134239  </td><td style=\"text-align: right;\"> 0.0592945 </td><td style=\"text-align: right;\">-0.0879686</td><td style=\"text-align: right;\">-0.108932  </td><td style=\"text-align: right;\">-0.0712812 </td><td style=\"text-align: right;\">0.00105995</td><td style=\"text-align: right;\"> 0.00761201</td><td style=\"text-align: right;\">-0.0399766</td><td style=\"text-align: right;\">-0.0199442 </td><td style=\"text-align: right;\">0.0739183</td><td style=\"text-align: right;\">0.0565505 </td><td style=\"text-align: right;\"> 0.00677268</td><td style=\"text-align: right;\">-0.0267791</td><td style=\"text-align: right;\">-0.0442389  </td><td style=\"text-align: right;\"> 0.0553962 </td><td style=\"text-align: right;\"> 0.046363  </td><td style=\"text-align: right;\"> 0.10545   </td><td style=\"text-align: right;\">-0.0523448 </td><td style=\"text-align: right;\">-0.0462058</td><td style=\"text-align: right;\">-0.153634  </td><td style=\"text-align: right;\">-0.0476956 </td><td style=\"text-align: right;\">-0.140246 </td><td style=\"text-align: right;\">-0.126031  </td><td style=\"text-align: right;\"> 0.0388415</td><td style=\"text-align: right;\">0.0511968</td><td style=\"text-align: right;\"> 0.0952012 </td><td style=\"text-align: right;\">-0.143579</td><td style=\"text-align: right;\">0.268238</td><td style=\"text-align: right;\">0.0300007 </td><td style=\"text-align: right;\">-0.0460626 </td><td style=\"text-align: right;\">-0.181738 </td><td style=\"text-align: right;\"> 0.0581218</td><td style=\"text-align: right;\"> 0.101154  </td><td style=\"text-align: right;\">-0.0611189 </td><td style=\"text-align: right;\">-0.13961   </td><td style=\"text-align: right;\"> 0.099185 </td><td style=\"text-align: right;\">-0.0260687 </td><td style=\"text-align: right;\"> 0.107176  </td><td style=\"text-align: right;\">-0.00395156</td><td style=\"text-align: right;\"> 0.00137261</td><td style=\"text-align: right;\">-0.0836156</td><td style=\"text-align: right;\">-0.0254061 </td><td style=\"text-align: right;\"> 0.10852   </td><td style=\"text-align: right;\">-0.06142  </td><td style=\"text-align: right;\"> 0.143991 </td><td style=\"text-align: right;\">0.106965 </td><td style=\"text-align: right;\"> 0.00643838</td><td style=\"text-align: right;\">-0.183428 </td><td style=\"text-align: right;\">-0.0731943</td><td style=\"text-align: right;\">-0.162444  </td><td style=\"text-align: right;\">-0.209131</td><td style=\"text-align: right;\">-0.0741665 </td><td style=\"text-align: right;\"> 0.0332304 </td><td style=\"text-align: right;\">-0.00723741 </td><td style=\"text-align: right;\">-0.0813922 </td><td style=\"text-align: right;\"> 0.0308154 </td><td style=\"text-align: right;\"> 0.0423057</td><td style=\"text-align: right;\">-0.0402428 </td><td style=\"text-align: right;\">-0.0488201  </td><td style=\"text-align: right;\"> 0.0676002 </td><td style=\"text-align: right;\"> 0.00925765</td><td style=\"text-align: right;\"> 0.0477705 </td><td style=\"text-align: right;\"> 0.0373494 </td><td style=\"text-align: right;\"> 0.100102 </td><td style=\"text-align: right;\">-0.0934217  </td><td style=\"text-align: right;\">-0.0427496</td><td style=\"text-align: right;\">-0.0410467 </td><td style=\"text-align: right;\"> 0.0285654</td><td style=\"text-align: right;\"> 0.0950926 </td><td style=\"text-align: right;\">-0.0358725</td><td style=\"text-align: right;\"> 0.00305813 </td><td style=\"text-align: right;\"> 0.100058 </td><td style=\"text-align: right;\">-0.0109069</td><td style=\"text-align: right;\">-0.122749 </td><td style=\"text-align: right;\"> 0.0540505</td><td style=\"text-align: right;\">-0.00524961</td><td style=\"text-align: right;\"> 0.0500694 </td><td style=\"text-align: right;\">-0.0128371 </td><td style=\"text-align: right;\">-0.092459  </td><td style=\"text-align: right;\"> 0.0252599</td><td style=\"text-align: right;\"> 0.164988 </td><td style=\"text-align: right;\"> 0.00544766</td><td style=\"text-align: right;\">-0.0449736</td><td style=\"text-align: right;\">0.151316</td><td style=\"text-align: right;\"> 0.0744726 </td><td style=\"text-align: right;\"> 0.0280048 </td><td style=\"text-align: right;\"> 0.00330034</td><td style=\"text-align: right;\"> 0.0418366</td><td style=\"text-align: right;\">-0.0274239 </td><td style=\"text-align: right;\"> 0.0316167 </td><td style=\"text-align: right;\"> 0.0140455 </td><td style=\"text-align: right;\"> 0.0393437 </td><td style=\"text-align: right;\"> 0.0901311  </td><td style=\"text-align: right;\"> 0.0709434  </td></tr>\n",
              "<tr><td style=\"text-align: right;\">-0.0442334 </td><td style=\"text-align: right;\"> 0.194129 </td><td style=\"text-align: right;\">-0.0578619</td><td style=\"text-align: right;\">0.0439444 </td><td style=\"text-align: right;\">-0.0701919</td><td style=\"text-align: right;\">-0.117836 </td><td style=\"text-align: right;\">-0.063454   </td><td style=\"text-align: right;\">-0.0141783 </td><td style=\"text-align: right;\">-0.121551 </td><td style=\"text-align: right;\">-0.112072  </td><td style=\"text-align: right;\">-0.0335587 </td><td style=\"text-align: right;\">0.0615972 </td><td style=\"text-align: right;\">-0.056407  </td><td style=\"text-align: right;\"> 0.0356637</td><td style=\"text-align: right;\">-0.0676266 </td><td style=\"text-align: right;\">0.0986608</td><td style=\"text-align: right;\">0.0145939 </td><td style=\"text-align: right;\"> 0.0362968 </td><td style=\"text-align: right;\">-0.0682814</td><td style=\"text-align: right;\">-0.0158517  </td><td style=\"text-align: right;\"> 0.0383957 </td><td style=\"text-align: right;\">-0.0143017 </td><td style=\"text-align: right;\"> 0.0901157 </td><td style=\"text-align: right;\"> 0.0159855 </td><td style=\"text-align: right;\">-0.0222962</td><td style=\"text-align: right;\">-0.0909502 </td><td style=\"text-align: right;\">-0.0816635 </td><td style=\"text-align: right;\">-0.141442 </td><td style=\"text-align: right;\">-0.082766  </td><td style=\"text-align: right;\">-0.108034 </td><td style=\"text-align: right;\">0.067956 </td><td style=\"text-align: right;\"> 0.072376  </td><td style=\"text-align: right;\">-0.111073</td><td style=\"text-align: right;\">0.179422</td><td style=\"text-align: right;\">0.00706567</td><td style=\"text-align: right;\">-0.103134  </td><td style=\"text-align: right;\">-0.278963 </td><td style=\"text-align: right;\"> 0.072548 </td><td style=\"text-align: right;\"> 0.0461923 </td><td style=\"text-align: right;\">-0.0842483 </td><td style=\"text-align: right;\">-0.116155  </td><td style=\"text-align: right;\"> 0.170636 </td><td style=\"text-align: right;\">-0.0800711 </td><td style=\"text-align: right;\"> 0.00394012</td><td style=\"text-align: right;\">-0.0746546 </td><td style=\"text-align: right;\"> 0.0388608 </td><td style=\"text-align: right;\">-0.0505577</td><td style=\"text-align: right;\"> 0.0487898 </td><td style=\"text-align: right;\"> 0.00415951</td><td style=\"text-align: right;\">-0.103904 </td><td style=\"text-align: right;\"> 0.154481 </td><td style=\"text-align: right;\">0.0549338</td><td style=\"text-align: right;\"> 0.0304257 </td><td style=\"text-align: right;\">-0.209701 </td><td style=\"text-align: right;\">-0.132968 </td><td style=\"text-align: right;\">-0.0942507 </td><td style=\"text-align: right;\">-0.121183</td><td style=\"text-align: right;\">-0.0113171 </td><td style=\"text-align: right;\">-0.0492056 </td><td style=\"text-align: right;\">-0.000565457</td><td style=\"text-align: right;\">-0.0557332 </td><td style=\"text-align: right;\">-0.0458956 </td><td style=\"text-align: right;\">-0.0688796</td><td style=\"text-align: right;\">-0.0912826 </td><td style=\"text-align: right;\">-0.0199344  </td><td style=\"text-align: right;\"> 0.0585474 </td><td style=\"text-align: right;\">-0.0250704 </td><td style=\"text-align: right;\"> 0.0936888 </td><td style=\"text-align: right;\"> 0.0228417 </td><td style=\"text-align: right;\">-0.0372527</td><td style=\"text-align: right;\">-0.122175   </td><td style=\"text-align: right;\">-0.133725 </td><td style=\"text-align: right;\"> 0.0277782 </td><td style=\"text-align: right;\">-0.0285417</td><td style=\"text-align: right;\"> 0.12014   </td><td style=\"text-align: right;\">-0.0161739</td><td style=\"text-align: right;\"> 0.00872892 </td><td style=\"text-align: right;\"> 0.0505136</td><td style=\"text-align: right;\">-0.0253922</td><td style=\"text-align: right;\">-0.0672892</td><td style=\"text-align: right;\"> 0.0256782</td><td style=\"text-align: right;\"> 0.0290917 </td><td style=\"text-align: right;\"> 0.0446622 </td><td style=\"text-align: right;\">-0.0658322 </td><td style=\"text-align: right;\">-0.0281436 </td><td style=\"text-align: right;\"> 0.0407397</td><td style=\"text-align: right;\"> 0.232897 </td><td style=\"text-align: right;\">-0.0280814 </td><td style=\"text-align: right;\">-0.0284809</td><td style=\"text-align: right;\">0.141714</td><td style=\"text-align: right;\"> 0.018286  </td><td style=\"text-align: right;\"> 0.0268305 </td><td style=\"text-align: right;\"> 0.0106071 </td><td style=\"text-align: right;\"> 0.0113575</td><td style=\"text-align: right;\"> 0.0684904 </td><td style=\"text-align: right;\"> 0.0616105 </td><td style=\"text-align: right;\">-0.0583133 </td><td style=\"text-align: right;\"> 0.0352977 </td><td style=\"text-align: right;\">-0.0207936  </td><td style=\"text-align: right;\"> 0.131554   </td></tr>\n",
              "</tbody>\n",
              "</table>"
            ]
          },
          "metadata": {
            "tags": []
          }
        },
        {
          "output_type": "execute_result",
          "data": {
            "text/plain": [
              ""
            ]
          },
          "metadata": {
            "tags": []
          },
          "execution_count": 34
        }
      ]
    },
    {
      "cell_type": "code",
      "metadata": {
        "id": "IGiiBJrRkE8M",
        "colab_type": "code",
        "colab": {}
      },
      "source": [
        "h2o_df_ext=h2o_df.cbind(review_vecs)"
      ],
      "execution_count": 0,
      "outputs": []
    },
    {
      "cell_type": "code",
      "metadata": {
        "id": "LYd6mFxmkFZh",
        "colab_type": "code",
        "colab": {}
      },
      "source": [
        "headline_vecs = vec_model.transform(words_headline, aggregate_method = \"AVERAGE\")\n",
        "headline_vecs.names = [\"headline_\" + s for s in headline_vecs.names]"
      ],
      "execution_count": 0,
      "outputs": []
    },
    {
      "cell_type": "code",
      "metadata": {
        "id": "El9KUXyGkFe9",
        "colab_type": "code",
        "colab": {}
      },
      "source": [
        "h2o_df_ext = h2o_df_ext.cbind(headline_vecs)"
      ],
      "execution_count": 0,
      "outputs": []
    },
    {
      "cell_type": "code",
      "metadata": {
        "id": "nkwEd98AkFh9",
        "colab_type": "code",
        "colab": {}
      },
      "source": [
        "h2o_df_ext.head()"
      ],
      "execution_count": 0,
      "outputs": []
    },
    {
      "cell_type": "code",
      "metadata": {
        "id": "XIVbfRAwmDDv",
        "colab_type": "code",
        "colab": {}
      },
      "source": [
        "h2o_df_ext.types"
      ],
      "execution_count": 0,
      "outputs": []
    },
    {
      "cell_type": "code",
      "metadata": {
        "id": "uiCz4D--kFku",
        "colab_type": "code",
        "colab": {}
      },
      "source": [
        "\n",
        "c_train,c_test,c_valid = h2o_df_ext.split_frame(ratios=[.7, .15])"
      ],
      "execution_count": 0,
      "outputs": []
    },
    {
      "cell_type": "code",
      "metadata": {
        "id": "zy6wgYxJkFpp",
        "colab_type": "code",
        "colab": {}
      },
      "source": [
        "\n",
        "y = \"target\"\n",
        "x = h2o_df_ext.columns\n",
        "x.remove(y)\n",
        "x.remove(\"rating\")\n",
        "x.remove(\"headline\")\n",
        "x.remove(\"reviews\")\n"
      ],
      "execution_count": 0,
      "outputs": []
    },
    {
      "cell_type": "code",
      "metadata": {
        "id": "B0aHK3AhkFz4",
        "colab_type": "code",
        "colab": {}
      },
      "source": [
        "from h2o.automl import H2OAutoML\n",
        "aml = H2OAutoML(max_models = 10, seed = 10, exclude_algos = [\"StackedEnsemble\", \"DeepLearning\"], verbosity=\"info\", nfolds=0)"
      ],
      "execution_count": 0,
      "outputs": []
    },
    {
      "cell_type": "code",
      "metadata": {
        "id": "zXyNnaJckF5K",
        "colab_type": "code",
        "colab": {
          "base_uri": "https://localhost:8080/",
          "height": 1000
        },
        "outputId": "486ce62f-bec7-4574-b423-fb970f03a431"
      },
      "source": [
        "aml.train(x = x, y = y, training_frame = c_train, validation_frame=c_valid)"
      ],
      "execution_count": 52,
      "outputs": [
        {
          "output_type": "stream",
          "text": [
            "AutoML progress: |\n",
            "07:42:22.98: Project: AutoML_20200504_74222096\n",
            "07:42:22.98: Cross-validation disabled by user: no fold column nor nfolds > 1.\n",
            "07:42:22.98: Setting stopping tolerance adaptively based on the training frame: 0.004076745525254329\n",
            "07:42:22.98: Build control seed: 10\n",
            "07:42:22.98: Since cross-validation is disabled, and no leaderboard frame was provided, automatically split the training data into training and leaderboard frames in the ratio 90/10\n",
            "07:42:23.282: training frame: Frame key: automl_training_py_600_sid_8567    cols: 205    rows: 54203  chunks: 8    size: 107666680  checksum: 5805431594435416762\n",
            "07:42:23.282: validation frame: Frame key: py_602_sid_8567    cols: 205    rows: 12941  chunks: 8    size: 25870833  checksum: 6239997717183415682\n",
            "07:42:23.330: leaderboard frame: Frame key: automl_leaderboard_py_600_sid_8567    cols: 205    rows: 5966  chunks: 8    size: 11974539  checksum: 1361091893396074746\n",
            "07:42:23.330: blending frame: NULL\n",
            "07:42:23.330: response column: target\n",
            "07:42:23.330: fold column: null\n",
            "07:42:23.330: weights column: null\n",
            "07:42:23.331: Loading execution steps: [{XGBoost : defaults}, {GLM : defaults}, {DRF : [def_1]}, {GBM : defaults}, {DeepLearning : defaults}, {DRF : [XRT]}, {XGBoost : grids}, {GBM : grids}, {DeepLearning : grids}, {GBM : [lr_annealing]}, {XGBoost : [lr_search]}, {StackedEnsemble : defaults}]\n",
            "07:42:23.331: Disabling Algo: DeepLearning as requested by the user.\n",
            "07:42:23.331: Disabling Algo: StackedEnsemble as requested by the user.\n",
            "07:42:23.331: AutoML job created: 2020.05.04 07:42:22.96\n",
            "07:42:23.332: AutoML build started: 2020.05.04 07:42:23.332\n",
            "07:42:23.332: AutoML: starting XGBoost_1_AutoML_20200504_074222 model training\n",
            "\n",
            "██\n",
            "07:44:42.518: New leader: XGBoost_1_AutoML_20200504_074222, auc: 0.9259818805291075\n",
            "07:44:42.519: AutoML: starting XGBoost_2_AutoML_20200504_074222 model training\n",
            "\n",
            "██████████████████\n",
            "07:46:53.660: AutoML: starting XGBoost_3_AutoML_20200504_074222 model training\n",
            "\n",
            "████████████\n",
            "07:48:59.832: New leader: XGBoost_3_AutoML_20200504_074222, auc: 0.9327892466260674\n",
            "07:48:59.835: AutoML: starting GLM_1_AutoML_20200504_074222 model training\n",
            "\n",
            "███\n",
            "07:50:13.921: AutoML: starting DRF_1_AutoML_20200504_074222 model training\n",
            "\n",
            "██████\n",
            "07:51:17.226: AutoML: starting GBM_1_AutoML_20200504_074222 model training\n",
            "07:52:55.625: New leader: GBM_1_AutoML_20200504_074222, auc: 0.9371479048170318\n",
            "07:52:55.625: AutoML: starting GBM_2_AutoML_20200504_074222 model training\n",
            "\n",
            "█████\n",
            "07:54:54.0: New leader: GBM_2_AutoML_20200504_074222, auc: 0.9393209877612986\n",
            "07:54:54.1: AutoML: starting GBM_3_AutoML_20200504_074222 model training\n",
            "\n",
            "███\n",
            "07:56:34.325: AutoML: starting GBM_4_AutoML_20200504_074222 model training\n",
            "\n",
            "██\n",
            "07:58:14.613: AutoML: starting GBM_5_AutoML_20200504_074222 model training\n",
            "\n",
            "█████| 100%\n",
            "\n",
            "08:00:45.943: New leader: GBM_5_AutoML_20200504_074222, auc: 0.9396721442163385\n",
            "08:00:45.943: Skipping StackedEnsemble 'best' due to the exclude_algos option.\n",
            "08:00:45.945: Skipping StackedEnsemble 'all' due to the exclude_algos option.\n",
            "08:00:45.945: Actual modeling steps: [{XGBoost : [def_1 (10), def_2 (10), def_3 (10)]}, {GLM : [def_1 (10)]}, {DRF : [def_1 (10)]}, {GBM : [def_1 (10), def_2 (10), def_3 (10), def_4 (10), def_5 (10)]}]\n",
            "08:00:45.945: AutoML build stopped: 2020.05.04 08:00:45.945\n",
            "08:00:45.945: AutoML build done: built 10 models\n",
            "08:00:45.945: AutoML duration: 18 min 22.613 sec\n",
            "\n"
          ],
          "name": "stdout"
        }
      ]
    },
    {
      "cell_type": "code",
      "metadata": {
        "id": "N-Ff8QObkF8F",
        "colab_type": "code",
        "colab": {}
      },
      "source": [
        "lb = aml.leaderboard"
      ],
      "execution_count": 0,
      "outputs": []
    },
    {
      "cell_type": "code",
      "metadata": {
        "id": "3cooZaqYkGAz",
        "colab_type": "code",
        "colab": {
          "base_uri": "https://localhost:8080/",
          "height": 250
        },
        "outputId": "b4a065a9-b927-490e-c2a7-022d0839463a"
      },
      "source": [
        "lb.head()"
      ],
      "execution_count": 54,
      "outputs": [
        {
          "output_type": "display_data",
          "data": {
            "text/html": [
              "<table>\n",
              "<thead>\n",
              "<tr><th>model_id                        </th><th style=\"text-align: right;\">     auc</th><th style=\"text-align: right;\">  logloss</th><th style=\"text-align: right;\">   aucpr</th><th style=\"text-align: right;\">  mean_per_class_error</th><th style=\"text-align: right;\">    rmse</th><th style=\"text-align: right;\">      mse</th></tr>\n",
              "</thead>\n",
              "<tbody>\n",
              "<tr><td>GBM_5_AutoML_20200504_074222    </td><td style=\"text-align: right;\">0.939672</td><td style=\"text-align: right;\"> 0.267898</td><td style=\"text-align: right;\">0.975936</td><td style=\"text-align: right;\">              0.160847</td><td style=\"text-align: right;\">0.285732</td><td style=\"text-align: right;\">0.081643 </td></tr>\n",
              "<tr><td>GBM_2_AutoML_20200504_074222    </td><td style=\"text-align: right;\">0.939321</td><td style=\"text-align: right;\"> 0.268331</td><td style=\"text-align: right;\">0.975735</td><td style=\"text-align: right;\">              0.163332</td><td style=\"text-align: right;\">0.286411</td><td style=\"text-align: right;\">0.0820312</td></tr>\n",
              "<tr><td>GBM_1_AutoML_20200504_074222    </td><td style=\"text-align: right;\">0.937148</td><td style=\"text-align: right;\"> 0.274182</td><td style=\"text-align: right;\">0.975049</td><td style=\"text-align: right;\">              0.168693</td><td style=\"text-align: right;\">0.28957 </td><td style=\"text-align: right;\">0.083851 </td></tr>\n",
              "<tr><td>GBM_3_AutoML_20200504_074222    </td><td style=\"text-align: right;\">0.935689</td><td style=\"text-align: right;\"> 0.276365</td><td style=\"text-align: right;\">0.974113</td><td style=\"text-align: right;\">              0.177341</td><td style=\"text-align: right;\">0.290928</td><td style=\"text-align: right;\">0.084639 </td></tr>\n",
              "<tr><td>GBM_4_AutoML_20200504_074222    </td><td style=\"text-align: right;\">0.934586</td><td style=\"text-align: right;\"> 0.281337</td><td style=\"text-align: right;\">0.97397 </td><td style=\"text-align: right;\">              0.166192</td><td style=\"text-align: right;\">0.293259</td><td style=\"text-align: right;\">0.0860011</td></tr>\n",
              "<tr><td>XGBoost_3_AutoML_20200504_074222</td><td style=\"text-align: right;\">0.932789</td><td style=\"text-align: right;\"> 0.281803</td><td style=\"text-align: right;\">0.972697</td><td style=\"text-align: right;\">              0.173624</td><td style=\"text-align: right;\">0.292625</td><td style=\"text-align: right;\">0.0856295</td></tr>\n",
              "<tr><td>XGBoost_1_AutoML_20200504_074222</td><td style=\"text-align: right;\">0.925982</td><td style=\"text-align: right;\"> 0.308833</td><td style=\"text-align: right;\">0.970107</td><td style=\"text-align: right;\">              0.186612</td><td style=\"text-align: right;\">0.305306</td><td style=\"text-align: right;\">0.0932118</td></tr>\n",
              "<tr><td>XGBoost_2_AutoML_20200504_074222</td><td style=\"text-align: right;\">0.924924</td><td style=\"text-align: right;\"> 0.312057</td><td style=\"text-align: right;\">0.970112</td><td style=\"text-align: right;\">              0.194153</td><td style=\"text-align: right;\">0.307459</td><td style=\"text-align: right;\">0.0945309</td></tr>\n",
              "<tr><td>GLM_1_AutoML_20200504_074222    </td><td style=\"text-align: right;\">0.920912</td><td style=\"text-align: right;\"> 0.305194</td><td style=\"text-align: right;\">0.966207</td><td style=\"text-align: right;\">              0.19181 </td><td style=\"text-align: right;\">0.304242</td><td style=\"text-align: right;\">0.0925632</td></tr>\n",
              "<tr><td>DRF_1_AutoML_20200504_074222    </td><td style=\"text-align: right;\">0.915812</td><td style=\"text-align: right;\"> 0.33509 </td><td style=\"text-align: right;\">0.965848</td><td style=\"text-align: right;\">              0.198881</td><td style=\"text-align: right;\">0.322565</td><td style=\"text-align: right;\">0.104048 </td></tr>\n",
              "</tbody>\n",
              "</table>"
            ]
          },
          "metadata": {
            "tags": []
          }
        },
        {
          "output_type": "execute_result",
          "data": {
            "text/plain": [
              ""
            ]
          },
          "metadata": {
            "tags": []
          },
          "execution_count": 54
        }
      ]
    },
    {
      "cell_type": "code",
      "metadata": {
        "id": "8CkIL6-PkGD0",
        "colab_type": "code",
        "colab": {
          "base_uri": "https://localhost:8080/",
          "height": 34
        },
        "outputId": "de9cc134-b095-42f5-b91b-3a45b598f0ae"
      },
      "source": [
        "c_pred=aml.leader.predict(c_test)"
      ],
      "execution_count": 55,
      "outputs": [
        {
          "output_type": "stream",
          "text": [
            "gbm prediction progress: |████████████████████████████████████████████████| 100%\n"
          ],
          "name": "stdout"
        }
      ]
    },
    {
      "cell_type": "code",
      "metadata": {
        "id": "yzJHW_M-kGIl",
        "colab_type": "code",
        "colab": {
          "base_uri": "https://localhost:8080/",
          "height": 1000
        },
        "outputId": "53f552ac-4158-4f49-be06-25d195c4e73a"
      },
      "source": [
        "aml.leader.model_performance(c_test)"
      ],
      "execution_count": 56,
      "outputs": [
        {
          "output_type": "stream",
          "text": [
            "\n",
            "ModelMetricsBinomial: gbm\n",
            "** Reported on test data. **\n",
            "\n",
            "MSE: 0.08566831019933793\n",
            "RMSE: 0.2926914932131406\n",
            "LogLoss: 0.2799932965448124\n",
            "Mean Per-Class Error: 0.14277772033264458\n",
            "AUC: 0.9349300713150207\n",
            "AUCPR: 0.9730122398349005\n",
            "Gini: 0.8698601426300414\n",
            "\n",
            "Confusion Matrix (Act/Pred) for max f1 @ threshold = 0.4556354948601696: \n"
          ],
          "name": "stdout"
        },
        {
          "output_type": "display_data",
          "data": {
            "text/html": [
              "<div>\n",
              "<style scoped>\n",
              "    .dataframe tbody tr th:only-of-type {\n",
              "        vertical-align: middle;\n",
              "    }\n",
              "\n",
              "    .dataframe tbody tr th {\n",
              "        vertical-align: top;\n",
              "    }\n",
              "\n",
              "    .dataframe thead th {\n",
              "        text-align: right;\n",
              "    }\n",
              "</style>\n",
              "<table border=\"1\" class=\"dataframe\">\n",
              "  <thead>\n",
              "    <tr style=\"text-align: right;\">\n",
              "      <th></th>\n",
              "      <th></th>\n",
              "      <th>0</th>\n",
              "      <th>1</th>\n",
              "      <th>Error</th>\n",
              "      <th>Rate</th>\n",
              "    </tr>\n",
              "  </thead>\n",
              "  <tbody>\n",
              "    <tr>\n",
              "      <th>0</th>\n",
              "      <td>0</td>\n",
              "      <td>2365.0</td>\n",
              "      <td>1113.0</td>\n",
              "      <td>0.32</td>\n",
              "      <td>(1113.0/3478.0)</td>\n",
              "    </tr>\n",
              "    <tr>\n",
              "      <th>1</th>\n",
              "      <td>1</td>\n",
              "      <td>400.0</td>\n",
              "      <td>8993.0</td>\n",
              "      <td>0.0426</td>\n",
              "      <td>(400.0/9393.0)</td>\n",
              "    </tr>\n",
              "    <tr>\n",
              "      <th>2</th>\n",
              "      <td>Total</td>\n",
              "      <td>2765.0</td>\n",
              "      <td>10106.0</td>\n",
              "      <td>0.1176</td>\n",
              "      <td>(1513.0/12871.0)</td>\n",
              "    </tr>\n",
              "  </tbody>\n",
              "</table>\n",
              "</div>"
            ],
            "text/plain": [
              "               0        1   Error               Rate\n",
              "0      0  2365.0   1113.0    0.32    (1113.0/3478.0)\n",
              "1      1   400.0   8993.0  0.0426     (400.0/9393.0)\n",
              "2  Total  2765.0  10106.0  0.1176   (1513.0/12871.0)"
            ]
          },
          "metadata": {
            "tags": []
          }
        },
        {
          "output_type": "stream",
          "text": [
            "\n",
            "Maximum Metrics: Maximum metrics at their respective thresholds\n"
          ],
          "name": "stdout"
        },
        {
          "output_type": "display_data",
          "data": {
            "text/html": [
              "<div>\n",
              "<style scoped>\n",
              "    .dataframe tbody tr th:only-of-type {\n",
              "        vertical-align: middle;\n",
              "    }\n",
              "\n",
              "    .dataframe tbody tr th {\n",
              "        vertical-align: top;\n",
              "    }\n",
              "\n",
              "    .dataframe thead th {\n",
              "        text-align: right;\n",
              "    }\n",
              "</style>\n",
              "<table border=\"1\" class=\"dataframe\">\n",
              "  <thead>\n",
              "    <tr style=\"text-align: right;\">\n",
              "      <th></th>\n",
              "      <th>metric</th>\n",
              "      <th>threshold</th>\n",
              "      <th>value</th>\n",
              "      <th>idx</th>\n",
              "    </tr>\n",
              "  </thead>\n",
              "  <tbody>\n",
              "    <tr>\n",
              "      <th>0</th>\n",
              "      <td>max f1</td>\n",
              "      <td>0.455635</td>\n",
              "      <td>0.922406</td>\n",
              "      <td>249.0</td>\n",
              "    </tr>\n",
              "    <tr>\n",
              "      <th>1</th>\n",
              "      <td>max f2</td>\n",
              "      <td>0.209177</td>\n",
              "      <td>0.954395</td>\n",
              "      <td>318.0</td>\n",
              "    </tr>\n",
              "    <tr>\n",
              "      <th>2</th>\n",
              "      <td>max f0point5</td>\n",
              "      <td>0.807979</td>\n",
              "      <td>0.923776</td>\n",
              "      <td>130.0</td>\n",
              "    </tr>\n",
              "    <tr>\n",
              "      <th>3</th>\n",
              "      <td>max accuracy</td>\n",
              "      <td>0.541463</td>\n",
              "      <td>0.882915</td>\n",
              "      <td>223.0</td>\n",
              "    </tr>\n",
              "    <tr>\n",
              "      <th>4</th>\n",
              "      <td>max precision</td>\n",
              "      <td>0.999641</td>\n",
              "      <td>1.000000</td>\n",
              "      <td>0.0</td>\n",
              "    </tr>\n",
              "    <tr>\n",
              "      <th>5</th>\n",
              "      <td>max recall</td>\n",
              "      <td>0.005798</td>\n",
              "      <td>1.000000</td>\n",
              "      <td>395.0</td>\n",
              "    </tr>\n",
              "    <tr>\n",
              "      <th>6</th>\n",
              "      <td>max specificity</td>\n",
              "      <td>0.999641</td>\n",
              "      <td>1.000000</td>\n",
              "      <td>0.0</td>\n",
              "    </tr>\n",
              "    <tr>\n",
              "      <th>7</th>\n",
              "      <td>max absolute_mcc</td>\n",
              "      <td>0.541463</td>\n",
              "      <td>0.693890</td>\n",
              "      <td>223.0</td>\n",
              "    </tr>\n",
              "    <tr>\n",
              "      <th>8</th>\n",
              "      <td>max min_per_class_accuracy</td>\n",
              "      <td>0.794912</td>\n",
              "      <td>0.856276</td>\n",
              "      <td>136.0</td>\n",
              "    </tr>\n",
              "    <tr>\n",
              "      <th>9</th>\n",
              "      <td>max mean_per_class_accuracy</td>\n",
              "      <td>0.807979</td>\n",
              "      <td>0.857222</td>\n",
              "      <td>130.0</td>\n",
              "    </tr>\n",
              "    <tr>\n",
              "      <th>10</th>\n",
              "      <td>max tns</td>\n",
              "      <td>0.999641</td>\n",
              "      <td>3478.000000</td>\n",
              "      <td>0.0</td>\n",
              "    </tr>\n",
              "    <tr>\n",
              "      <th>11</th>\n",
              "      <td>max fns</td>\n",
              "      <td>0.999641</td>\n",
              "      <td>9041.000000</td>\n",
              "      <td>0.0</td>\n",
              "    </tr>\n",
              "    <tr>\n",
              "      <th>12</th>\n",
              "      <td>max fps</td>\n",
              "      <td>0.001489</td>\n",
              "      <td>3478.000000</td>\n",
              "      <td>399.0</td>\n",
              "    </tr>\n",
              "    <tr>\n",
              "      <th>13</th>\n",
              "      <td>max tps</td>\n",
              "      <td>0.005798</td>\n",
              "      <td>9393.000000</td>\n",
              "      <td>395.0</td>\n",
              "    </tr>\n",
              "    <tr>\n",
              "      <th>14</th>\n",
              "      <td>max tnr</td>\n",
              "      <td>0.999641</td>\n",
              "      <td>1.000000</td>\n",
              "      <td>0.0</td>\n",
              "    </tr>\n",
              "    <tr>\n",
              "      <th>15</th>\n",
              "      <td>max fnr</td>\n",
              "      <td>0.999641</td>\n",
              "      <td>0.962525</td>\n",
              "      <td>0.0</td>\n",
              "    </tr>\n",
              "    <tr>\n",
              "      <th>16</th>\n",
              "      <td>max fpr</td>\n",
              "      <td>0.001489</td>\n",
              "      <td>1.000000</td>\n",
              "      <td>399.0</td>\n",
              "    </tr>\n",
              "    <tr>\n",
              "      <th>17</th>\n",
              "      <td>max tpr</td>\n",
              "      <td>0.005798</td>\n",
              "      <td>1.000000</td>\n",
              "      <td>395.0</td>\n",
              "    </tr>\n",
              "  </tbody>\n",
              "</table>\n",
              "</div>"
            ],
            "text/plain": [
              "                         metric  threshold        value    idx\n",
              "0                        max f1   0.455635     0.922406  249.0\n",
              "1                        max f2   0.209177     0.954395  318.0\n",
              "2                  max f0point5   0.807979     0.923776  130.0\n",
              "3                  max accuracy   0.541463     0.882915  223.0\n",
              "4                 max precision   0.999641     1.000000    0.0\n",
              "5                    max recall   0.005798     1.000000  395.0\n",
              "6               max specificity   0.999641     1.000000    0.0\n",
              "7              max absolute_mcc   0.541463     0.693890  223.0\n",
              "8    max min_per_class_accuracy   0.794912     0.856276  136.0\n",
              "9   max mean_per_class_accuracy   0.807979     0.857222  130.0\n",
              "10                      max tns   0.999641  3478.000000    0.0\n",
              "11                      max fns   0.999641  9041.000000    0.0\n",
              "12                      max fps   0.001489  3478.000000  399.0\n",
              "13                      max tps   0.005798  9393.000000  395.0\n",
              "14                      max tnr   0.999641     1.000000    0.0\n",
              "15                      max fnr   0.999641     0.962525    0.0\n",
              "16                      max fpr   0.001489     1.000000  399.0\n",
              "17                      max tpr   0.005798     1.000000  395.0"
            ]
          },
          "metadata": {
            "tags": []
          }
        },
        {
          "output_type": "stream",
          "text": [
            "\n",
            "Gains/Lift Table: Avg response rate: 72.98 %, avg score: 74.44 %\n"
          ],
          "name": "stdout"
        },
        {
          "output_type": "display_data",
          "data": {
            "text/html": [
              "<div>\n",
              "<style scoped>\n",
              "    .dataframe tbody tr th:only-of-type {\n",
              "        vertical-align: middle;\n",
              "    }\n",
              "\n",
              "    .dataframe tbody tr th {\n",
              "        vertical-align: top;\n",
              "    }\n",
              "\n",
              "    .dataframe thead th {\n",
              "        text-align: right;\n",
              "    }\n",
              "</style>\n",
              "<table border=\"1\" class=\"dataframe\">\n",
              "  <thead>\n",
              "    <tr style=\"text-align: right;\">\n",
              "      <th></th>\n",
              "      <th></th>\n",
              "      <th>group</th>\n",
              "      <th>cumulative_data_fraction</th>\n",
              "      <th>lower_threshold</th>\n",
              "      <th>lift</th>\n",
              "      <th>cumulative_lift</th>\n",
              "      <th>response_rate</th>\n",
              "      <th>score</th>\n",
              "      <th>cumulative_response_rate</th>\n",
              "      <th>cumulative_score</th>\n",
              "      <th>capture_rate</th>\n",
              "      <th>cumulative_capture_rate</th>\n",
              "      <th>gain</th>\n",
              "      <th>cumulative_gain</th>\n",
              "    </tr>\n",
              "  </thead>\n",
              "  <tbody>\n",
              "    <tr>\n",
              "      <th>0</th>\n",
              "      <td></td>\n",
              "      <td>1</td>\n",
              "      <td>0.010178</td>\n",
              "      <td>0.999698</td>\n",
              "      <td>1.370276</td>\n",
              "      <td>1.370276</td>\n",
              "      <td>1.000000</td>\n",
              "      <td>0.999776</td>\n",
              "      <td>1.000000</td>\n",
              "      <td>0.999776</td>\n",
              "      <td>0.013947</td>\n",
              "      <td>0.013947</td>\n",
              "      <td>37.027574</td>\n",
              "      <td>37.027574</td>\n",
              "    </tr>\n",
              "    <tr>\n",
              "      <th>1</th>\n",
              "      <td></td>\n",
              "      <td>2</td>\n",
              "      <td>0.020045</td>\n",
              "      <td>0.999587</td>\n",
              "      <td>1.370276</td>\n",
              "      <td>1.370276</td>\n",
              "      <td>1.000000</td>\n",
              "      <td>0.999650</td>\n",
              "      <td>1.000000</td>\n",
              "      <td>0.999714</td>\n",
              "      <td>0.013521</td>\n",
              "      <td>0.027467</td>\n",
              "      <td>37.027574</td>\n",
              "      <td>37.027574</td>\n",
              "    </tr>\n",
              "    <tr>\n",
              "      <th>2</th>\n",
              "      <td></td>\n",
              "      <td>3</td>\n",
              "      <td>0.030068</td>\n",
              "      <td>0.999395</td>\n",
              "      <td>1.370276</td>\n",
              "      <td>1.370276</td>\n",
              "      <td>1.000000</td>\n",
              "      <td>0.999490</td>\n",
              "      <td>1.000000</td>\n",
              "      <td>0.999639</td>\n",
              "      <td>0.013734</td>\n",
              "      <td>0.041201</td>\n",
              "      <td>37.027574</td>\n",
              "      <td>37.027574</td>\n",
              "    </tr>\n",
              "    <tr>\n",
              "      <th>3</th>\n",
              "      <td></td>\n",
              "      <td>4</td>\n",
              "      <td>0.040012</td>\n",
              "      <td>0.999185</td>\n",
              "      <td>1.370276</td>\n",
              "      <td>1.370276</td>\n",
              "      <td>1.000000</td>\n",
              "      <td>0.999287</td>\n",
              "      <td>1.000000</td>\n",
              "      <td>0.999552</td>\n",
              "      <td>0.013627</td>\n",
              "      <td>0.054828</td>\n",
              "      <td>37.027574</td>\n",
              "      <td>37.027574</td>\n",
              "    </tr>\n",
              "    <tr>\n",
              "      <th>4</th>\n",
              "      <td></td>\n",
              "      <td>5</td>\n",
              "      <td>0.050035</td>\n",
              "      <td>0.998957</td>\n",
              "      <td>1.359653</td>\n",
              "      <td>1.368148</td>\n",
              "      <td>0.992248</td>\n",
              "      <td>0.999075</td>\n",
              "      <td>0.998447</td>\n",
              "      <td>0.999456</td>\n",
              "      <td>0.013627</td>\n",
              "      <td>0.068455</td>\n",
              "      <td>35.965344</td>\n",
              "      <td>36.814798</td>\n",
              "    </tr>\n",
              "    <tr>\n",
              "      <th>5</th>\n",
              "      <td></td>\n",
              "      <td>6</td>\n",
              "      <td>0.100070</td>\n",
              "      <td>0.997543</td>\n",
              "      <td>1.370276</td>\n",
              "      <td>1.369212</td>\n",
              "      <td>1.000000</td>\n",
              "      <td>0.998282</td>\n",
              "      <td>0.999224</td>\n",
              "      <td>0.998869</td>\n",
              "      <td>0.068562</td>\n",
              "      <td>0.137017</td>\n",
              "      <td>37.027574</td>\n",
              "      <td>36.921186</td>\n",
              "    </tr>\n",
              "    <tr>\n",
              "      <th>6</th>\n",
              "      <td></td>\n",
              "      <td>7</td>\n",
              "      <td>0.150027</td>\n",
              "      <td>0.995707</td>\n",
              "      <td>1.370276</td>\n",
              "      <td>1.369566</td>\n",
              "      <td>1.000000</td>\n",
              "      <td>0.996695</td>\n",
              "      <td>0.999482</td>\n",
              "      <td>0.998145</td>\n",
              "      <td>0.068455</td>\n",
              "      <td>0.205472</td>\n",
              "      <td>37.027574</td>\n",
              "      <td>36.956612</td>\n",
              "    </tr>\n",
              "    <tr>\n",
              "      <th>7</th>\n",
              "      <td></td>\n",
              "      <td>8</td>\n",
              "      <td>0.200062</td>\n",
              "      <td>0.992915</td>\n",
              "      <td>1.351126</td>\n",
              "      <td>1.364954</td>\n",
              "      <td>0.986025</td>\n",
              "      <td>0.994361</td>\n",
              "      <td>0.996117</td>\n",
              "      <td>0.997199</td>\n",
              "      <td>0.067604</td>\n",
              "      <td>0.273076</td>\n",
              "      <td>35.112592</td>\n",
              "      <td>36.495428</td>\n",
              "    </tr>\n",
              "    <tr>\n",
              "      <th>8</th>\n",
              "      <td></td>\n",
              "      <td>9</td>\n",
              "      <td>0.300054</td>\n",
              "      <td>0.984662</td>\n",
              "      <td>1.353240</td>\n",
              "      <td>1.361051</td>\n",
              "      <td>0.987568</td>\n",
              "      <td>0.989195</td>\n",
              "      <td>0.993268</td>\n",
              "      <td>0.994532</td>\n",
              "      <td>0.135314</td>\n",
              "      <td>0.408389</td>\n",
              "      <td>35.324045</td>\n",
              "      <td>36.105068</td>\n",
              "    </tr>\n",
              "    <tr>\n",
              "      <th>9</th>\n",
              "      <td></td>\n",
              "      <td>10</td>\n",
              "      <td>0.400047</td>\n",
              "      <td>0.969720</td>\n",
              "      <td>1.311717</td>\n",
              "      <td>1.348720</td>\n",
              "      <td>0.957265</td>\n",
              "      <td>0.977935</td>\n",
              "      <td>0.984269</td>\n",
              "      <td>0.990383</td>\n",
              "      <td>0.131162</td>\n",
              "      <td>0.539551</td>\n",
              "      <td>31.171695</td>\n",
              "      <td>34.871964</td>\n",
              "    </tr>\n",
              "    <tr>\n",
              "      <th>10</th>\n",
              "      <td></td>\n",
              "      <td>11</td>\n",
              "      <td>0.500039</td>\n",
              "      <td>0.937167</td>\n",
              "      <td>1.268064</td>\n",
              "      <td>1.332591</td>\n",
              "      <td>0.925408</td>\n",
              "      <td>0.955504</td>\n",
              "      <td>0.972498</td>\n",
              "      <td>0.983408</td>\n",
              "      <td>0.126797</td>\n",
              "      <td>0.666347</td>\n",
              "      <td>26.806403</td>\n",
              "      <td>33.259103</td>\n",
              "    </tr>\n",
              "    <tr>\n",
              "      <th>11</th>\n",
              "      <td></td>\n",
              "      <td>12</td>\n",
              "      <td>0.600031</td>\n",
              "      <td>0.873019</td>\n",
              "      <td>1.202052</td>\n",
              "      <td>1.310837</td>\n",
              "      <td>0.877234</td>\n",
              "      <td>0.909032</td>\n",
              "      <td>0.956623</td>\n",
              "      <td>0.971014</td>\n",
              "      <td>0.120196</td>\n",
              "      <td>0.786543</td>\n",
              "      <td>20.205230</td>\n",
              "      <td>31.083739</td>\n",
              "    </tr>\n",
              "    <tr>\n",
              "      <th>12</th>\n",
              "      <td></td>\n",
              "      <td>13</td>\n",
              "      <td>0.700023</td>\n",
              "      <td>0.720065</td>\n",
              "      <td>1.041282</td>\n",
              "      <td>1.272334</td>\n",
              "      <td>0.759907</td>\n",
              "      <td>0.809165</td>\n",
              "      <td>0.928524</td>\n",
              "      <td>0.947895</td>\n",
              "      <td>0.104120</td>\n",
              "      <td>0.890663</td>\n",
              "      <td>4.128180</td>\n",
              "      <td>27.233372</td>\n",
              "    </tr>\n",
              "    <tr>\n",
              "      <th>13</th>\n",
              "      <td></td>\n",
              "      <td>14</td>\n",
              "      <td>0.800016</td>\n",
              "      <td>0.394920</td>\n",
              "      <td>0.753811</td>\n",
              "      <td>1.207525</td>\n",
              "      <td>0.550117</td>\n",
              "      <td>0.573090</td>\n",
              "      <td>0.881228</td>\n",
              "      <td>0.901049</td>\n",
              "      <td>0.075375</td>\n",
              "      <td>0.966039</td>\n",
              "      <td>-24.618864</td>\n",
              "      <td>20.752472</td>\n",
              "    </tr>\n",
              "    <tr>\n",
              "      <th>14</th>\n",
              "      <td></td>\n",
              "      <td>15</td>\n",
              "      <td>0.900008</td>\n",
              "      <td>0.072526</td>\n",
              "      <td>0.295988</td>\n",
              "      <td>1.106252</td>\n",
              "      <td>0.216006</td>\n",
              "      <td>0.212764</td>\n",
              "      <td>0.807320</td>\n",
              "      <td>0.824580</td>\n",
              "      <td>0.029597</td>\n",
              "      <td>0.995635</td>\n",
              "      <td>-70.401192</td>\n",
              "      <td>10.625161</td>\n",
              "    </tr>\n",
              "    <tr>\n",
              "      <th>15</th>\n",
              "      <td></td>\n",
              "      <td>16</td>\n",
              "      <td>1.000000</td>\n",
              "      <td>0.000348</td>\n",
              "      <td>0.043653</td>\n",
              "      <td>1.000000</td>\n",
              "      <td>0.031857</td>\n",
              "      <td>0.022799</td>\n",
              "      <td>0.729780</td>\n",
              "      <td>0.744408</td>\n",
              "      <td>0.004365</td>\n",
              "      <td>1.000000</td>\n",
              "      <td>-95.634708</td>\n",
              "      <td>0.000000</td>\n",
              "    </tr>\n",
              "  </tbody>\n",
              "</table>\n",
              "</div>"
            ],
            "text/plain": [
              "      group  ...       gain  cumulative_gain\n",
              "0         1  ...  37.027574        37.027574\n",
              "1         2  ...  37.027574        37.027574\n",
              "2         3  ...  37.027574        37.027574\n",
              "3         4  ...  37.027574        37.027574\n",
              "4         5  ...  35.965344        36.814798\n",
              "5         6  ...  37.027574        36.921186\n",
              "6         7  ...  37.027574        36.956612\n",
              "7         8  ...  35.112592        36.495428\n",
              "8         9  ...  35.324045        36.105068\n",
              "9        10  ...  31.171695        34.871964\n",
              "10       11  ...  26.806403        33.259103\n",
              "11       12  ...  20.205230        31.083739\n",
              "12       13  ...   4.128180        27.233372\n",
              "13       14  ... -24.618864        20.752472\n",
              "14       15  ... -70.401192        10.625161\n",
              "15       16  ... -95.634708         0.000000\n",
              "\n",
              "[16 rows x 14 columns]"
            ]
          },
          "metadata": {
            "tags": []
          }
        },
        {
          "output_type": "stream",
          "text": [
            "\n"
          ],
          "name": "stdout"
        },
        {
          "output_type": "execute_result",
          "data": {
            "text/plain": [
              ""
            ]
          },
          "metadata": {
            "tags": []
          },
          "execution_count": 56
        }
      ]
    },
    {
      "cell_type": "code",
      "metadata": {
        "id": "6nFmJI-gkGLE",
        "colab_type": "code",
        "colab": {}
      },
      "source": [
        "model_ids = list(aml.leaderboard['model_id'].as_data_frame().iloc[:,0])"
      ],
      "execution_count": 0,
      "outputs": []
    },
    {
      "cell_type": "code",
      "metadata": {
        "id": "STRDnaxRkGOP",
        "colab_type": "code",
        "colab": {
          "base_uri": "https://localhost:8080/",
          "height": 187
        },
        "outputId": "1ccc8aa2-6efa-4ffa-e3c8-c8a93a45c574"
      },
      "source": [
        "model_ids"
      ],
      "execution_count": 58,
      "outputs": [
        {
          "output_type": "execute_result",
          "data": {
            "text/plain": [
              "['GBM_5_AutoML_20200504_074222',\n",
              " 'GBM_2_AutoML_20200504_074222',\n",
              " 'GBM_1_AutoML_20200504_074222',\n",
              " 'GBM_3_AutoML_20200504_074222',\n",
              " 'GBM_4_AutoML_20200504_074222',\n",
              " 'XGBoost_3_AutoML_20200504_074222',\n",
              " 'XGBoost_1_AutoML_20200504_074222',\n",
              " 'XGBoost_2_AutoML_20200504_074222',\n",
              " 'GLM_1_AutoML_20200504_074222',\n",
              " 'DRF_1_AutoML_20200504_074222']"
            ]
          },
          "metadata": {
            "tags": []
          },
          "execution_count": 58
        }
      ]
    },
    {
      "cell_type": "code",
      "metadata": {
        "id": "XciYfRWNkGG1",
        "colab_type": "code",
        "colab": {}
      },
      "source": [
        ""
      ],
      "execution_count": 0,
      "outputs": []
    },
    {
      "cell_type": "code",
      "metadata": {
        "id": "pixI2-FTkF-l",
        "colab_type": "code",
        "colab": {}
      },
      "source": [
        ""
      ],
      "execution_count": 0,
      "outputs": []
    },
    {
      "cell_type": "code",
      "metadata": {
        "id": "H_eDEPcGkF3N",
        "colab_type": "code",
        "colab": {}
      },
      "source": [
        ""
      ],
      "execution_count": 0,
      "outputs": []
    },
    {
      "cell_type": "code",
      "metadata": {
        "id": "oqEFZ-3okFyV",
        "colab_type": "code",
        "colab": {}
      },
      "source": [
        ""
      ],
      "execution_count": 0,
      "outputs": []
    },
    {
      "cell_type": "code",
      "metadata": {
        "id": "Z0lYeJn9kFwF",
        "colab_type": "code",
        "colab": {}
      },
      "source": [
        ""
      ],
      "execution_count": 0,
      "outputs": []
    },
    {
      "cell_type": "code",
      "metadata": {
        "id": "zGStrDxHkFnn",
        "colab_type": "code",
        "colab": {}
      },
      "source": [
        ""
      ],
      "execution_count": 0,
      "outputs": []
    },
    {
      "cell_type": "code",
      "metadata": {
        "id": "Yz8k9-z1kFcq",
        "colab_type": "code",
        "colab": {}
      },
      "source": [
        ""
      ],
      "execution_count": 0,
      "outputs": []
    }
  ]
}